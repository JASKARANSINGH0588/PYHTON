{
 "cells": [
  {
   "cell_type": "markdown",
   "id": "0b60e100-6f90-4b8d-85c5-7c35b1eaeaef",
   "metadata": {},
   "source": [
    "# Control Flow\n",
    "* conditional Statements\n",
    "* Loops"
   ]
  },
  {
   "cell_type": "code",
   "execution_count": 2,
   "id": "59362bf3-17b1-435d-8a5a-b07ef839ac81",
   "metadata": {},
   "outputs": [],
   "source": [
    "k = 10"
   ]
  },
  {
   "cell_type": "code",
   "execution_count": 4,
   "id": "e762d2c4-dca0-44a0-a6a4-e2fe6196e083",
   "metadata": {},
   "outputs": [],
   "source": [
    "y = 10"
   ]
  },
  {
   "cell_type": "code",
   "execution_count": 5,
   "id": "9f21ffa9-c483-42a3-92d3-ba12dfb049f2",
   "metadata": {},
   "outputs": [
    {
     "ename": "NameError",
     "evalue": "name 'conditions' is not defined",
     "output_type": "error",
     "traceback": [
      "\u001b[1;31m---------------------------------------------------------------------------\u001b[0m",
      "\u001b[1;31mNameError\u001b[0m                                 Traceback (most recent call last)",
      "Cell \u001b[1;32mIn[5], line 3\u001b[0m\n\u001b[0;32m      1\u001b[0m \u001b[38;5;66;03m# Conditional Statements :\u001b[39;00m\n\u001b[1;32m----> 3\u001b[0m \u001b[38;5;28;01mif\u001b[39;00m (conditions):\n\u001b[0;32m      4\u001b[0m     logic\n\u001b[0;32m      5\u001b[0m     \u001b[38;5;28mprint\u001b[39m\n",
      "\u001b[1;31mNameError\u001b[0m: name 'conditions' is not defined"
     ]
    }
   ],
   "source": [
    "# Conditional Statements :\n",
    "\n",
    "if (conditions):\n",
    "    logic\n",
    "    print\n",
    "\n",
    "elif (conditions):\n",
    "    logic\n",
    "    print\n",
    "\n",
    "else:\n",
    "      logic\n",
    "      logic\n"
   ]
  },
  {
   "cell_type": "code",
   "execution_count": 10,
   "id": "9be28b3d-009f-4b02-b100-5857f7c7daf6",
   "metadata": {},
   "outputs": [
    {
     "name": "stdin",
     "output_type": "stream",
     "text": [
      "enter your age: 12\n"
     ]
    }
   ],
   "source": [
    "  age = int(input(\"enter your age:\"))"
   ]
  },
  {
   "cell_type": "code",
   "execution_count": 12,
   "id": "2870c675-778f-4693-8947-f6b039104dd2",
   "metadata": {},
   "outputs": [
    {
     "name": "stdout",
     "output_type": "stream",
     "text": [
      "you are in college\n",
      "you can not fill form\n"
     ]
    }
   ],
   "source": [
    "if (age>=18):\n",
    "    print(\"you are allowed to vote\")\n",
    "    print(\"Voting is your rightt\")\n",
    "\n",
    "else:\n",
    "    print(\"you are in college\")\n",
    "    print (\"you can not fill form\")\n",
    "    "
   ]
  },
  {
   "cell_type": "code",
   "execution_count": null,
   "id": "1eaa2844-19e1-4451-a697-a78a56a97078",
   "metadata": {},
   "outputs": [],
   "source": []
  },
  {
   "cell_type": "code",
   "execution_count": 19,
   "id": "dacde19f-d55c-408b-94ed-0d34155653de",
   "metadata": {},
   "outputs": [
    {
     "name": "stdin",
     "output_type": "stream",
     "text": [
      "enter your marks 33\n"
     ]
    }
   ],
   "source": [
    "marks = float(input(\"enter your marks\"))"
   ]
  },
  {
   "cell_type": "code",
   "execution_count": 21,
   "id": "b897924d-30f4-4897-ab56-6b4e76e79873",
   "metadata": {},
   "outputs": [
    {
     "name": "stdout",
     "output_type": "stream",
     "text": [
      "Grade-F-Fail\n"
     ]
    }
   ],
   "source": [
    "if marks>=90:\n",
    "    print(\"Grade-A\")\n",
    "elif marks>=80:\n",
    "    print(\"Grade-B\")\n",
    "elif marks>=70:\n",
    "    print(\"Grade-C\")\n",
    "elif marks>=60:\n",
    "    print(\"Grade-D\")\n",
    "else:\n",
    "    print(\"Grade-F-Fail\")"
   ]
  },
  {
   "cell_type": "code",
   "execution_count": 27,
   "id": "e2cce7ba-3d3b-4ca1-acee-c72b2aaeb29c",
   "metadata": {},
   "outputs": [
    {
     "name": "stdin",
     "output_type": "stream",
     "text": [
      "enter your number -1\n"
     ]
    }
   ],
   "source": [
    "number = float(input(\"enter your number\"))"
   ]
  },
  {
   "cell_type": "code",
   "execution_count": 29,
   "id": "abed344d-fe37-492e-bf6c-b8d7964eb4b9",
   "metadata": {},
   "outputs": [
    {
     "name": "stdout",
     "output_type": "stream",
     "text": [
      "its negative\n"
     ]
    }
   ],
   "source": [
    "if number>=0:\n",
    "    print(\"its positive\")\n",
    "else:\n",
    "    print(\"its negative\")"
   ]
  },
  {
   "cell_type": "code",
   "execution_count": 12,
   "id": "655c31a2-a876-4d62-aa6b-c1fda2798440",
   "metadata": {},
   "outputs": [
    {
     "name": "stdin",
     "output_type": "stream",
     "text": [
      "enter you shopping amount 5000\n"
     ]
    }
   ],
   "source": [
    "samount = float(input(\"enter you shopping amount\"))"
   ]
  },
  {
   "cell_type": "code",
   "execution_count": 14,
   "id": "9829f84e-5187-41f7-80e8-a16fa0e99a68",
   "metadata": {},
   "outputs": [
    {
     "name": "stdout",
     "output_type": "stream",
     "text": [
      "you are eligible for a voucher\n"
     ]
    }
   ],
   "source": [
    "#elif ladder\n",
    "if samount>=15000:\n",
    "    print(\"you are eligible for  10 % discount\")\n",
    "elif (samount >=10000 and samount<15000):\n",
    "    print(\"you are eligible for a 5 % discount\")\n",
    "elif (samount>=5000 and samount<10000):\n",
    "    print(\"you are eligible for a voucher\")\n",
    "elif (samount>=1000 and samount<5000):\n",
    "     print(\"you are eligible for a movie ticket\")\n",
    "elif (samount>=100 and samount<1000):\n",
    "     print(\"you are a VIP customer\")\n",
    "else:\n",
    "     print(\"No Rewards\")"
   ]
  },
  {
   "cell_type": "code",
   "execution_count": 3,
   "id": "3f660ee8-8118-4cde-8190-fdeb3766f8e2",
   "metadata": {},
   "outputs": [
    {
     "name": "stdin",
     "output_type": "stream",
     "text": [
      "enter your first number 10\n",
      "enter your second number 25\n",
      "enter your third number 13\n"
     ]
    }
   ],
   "source": [
    "first = int(input(\"enter your first number\"))\n",
    "second = int(input(\"enter your second number\"))\n",
    "third = int(input(\"enter your third number\"))"
   ]
  },
  {
   "cell_type": "code",
   "execution_count": 5,
   "id": "47df893c-167b-4ffb-938c-3969b867ef4d",
   "metadata": {},
   "outputs": [
    {
     "name": "stdout",
     "output_type": "stream",
     "text": [
      "10 25 13\n"
     ]
    }
   ],
   "source": [
    "print(first , second , third)"
   ]
  },
  {
   "cell_type": "code",
   "execution_count": 7,
   "id": "1941d875-5085-4613-8581-53d3fdc6f1e6",
   "metadata": {},
   "outputs": [],
   "source": [
    "if (first>second) and (first>third):\n",
    "    largest = first\n",
    "elif (second>third) and (second>first):\n",
    "    largest = second\n",
    "else:\n",
    "    largest = third"
   ]
  },
  {
   "cell_type": "code",
   "execution_count": 9,
   "id": "cdf262bc-878e-4dc8-8a2d-7762b9c47f33",
   "metadata": {},
   "outputs": [
    {
     "name": "stdout",
     "output_type": "stream",
     "text": [
      "The greatest number among three is 25\n"
     ]
    }
   ],
   "source": [
    "print(f\"The greatest number among three is {largest}\")"
   ]
  },
  {
   "cell_type": "code",
   "execution_count": null,
   "id": "383470fc-9e88-4378-ae00-107b7fdae7e5",
   "metadata": {},
   "outputs": [],
   "source": []
  },
  {
   "cell_type": "code",
   "execution_count": 11,
   "id": "34617f4e-011b-4890-89cc-b4ad64fd711f",
   "metadata": {},
   "outputs": [
    {
     "name": "stdin",
     "output_type": "stream",
     "text": [
      "enter any year 2000\n"
     ]
    }
   ],
   "source": [
    "year = int(input(\"enter any year\"))"
   ]
  },
  {
   "cell_type": "code",
   "execution_count": 13,
   "id": "f0f356ac-3fe7-4489-80f4-701b59fa4eeb",
   "metadata": {},
   "outputs": [
    {
     "name": "stdout",
     "output_type": "stream",
     "text": [
      "2000 is leap year\n"
     ]
    }
   ],
   "source": [
    "if (year%4==0) and (year%100!=0) or (year%400==0):\n",
    "    print(f\"{year} is leap year\")\n",
    "else:\n",
    "    print(f\"{year} not a leap year\")"
   ]
  },
  {
   "cell_type": "code",
   "execution_count": null,
   "id": "2dcb529d-63b4-41a0-9fdc-5f76860e2b7e",
   "metadata": {},
   "outputs": [],
   "source": []
  },
  {
   "cell_type": "code",
   "execution_count": null,
   "id": "a21a5123-84f2-45d3-8fe4-79571d54c354",
   "metadata": {},
   "outputs": [],
   "source": []
  },
  {
   "cell_type": "code",
   "execution_count": null,
   "id": "388ed43a-8656-4554-b1c4-8768e2f61303",
   "metadata": {},
   "outputs": [],
   "source": []
  },
  {
   "cell_type": "markdown",
   "id": "d0d8e995-03f9-4b0b-a0bb-e2ebd488bae4",
   "metadata": {},
   "source": [
    "#nesting : whenever we write if , elif , else , else inside another if , elif, else that is known as nesting"
   ]
  },
  {
   "cell_type": "code",
   "execution_count": 22,
   "id": "ec7fed5b-e045-4977-9264-0a24733ca450",
   "metadata": {},
   "outputs": [
    {
     "name": "stdin",
     "output_type": "stream",
     "text": [
      "enter your number 40\n"
     ]
    }
   ],
   "source": [
    "number = int(input(\"enter your number\"))"
   ]
  },
  {
   "cell_type": "code",
   "execution_count": 29,
   "id": "59271c7e-e594-4006-a35e-5fa7cdb8cdc6",
   "metadata": {},
   "outputs": [
    {
     "name": "stdout",
     "output_type": "stream",
     "text": [
      "its forty\n"
     ]
    }
   ],
   "source": [
    "if number>=0:\n",
    "    if number>10:\n",
    "        if number>20:\n",
    "            if number>30:\n",
    "                if number>40:\n",
    "                    if number>100:\n",
    "                        print(\"its greater than 100\")\n",
    "                    else:\n",
    "                        print(\"its smaller than 100\")\n",
    "                elif number==40:\n",
    "                    print(\"its forty\")\n",
    "                else:\n",
    "                    print(\"its smaller than 40\")\n",
    "            else:\n",
    "                print(\"its smaller than 30\")\n",
    "        else:\n",
    "             print(\"its smaller than 20\")\n",
    "    else:\n",
    "       print(\"its smaller than 10\")\n",
    "else:\n",
    "    print(\"its negative\")"
   ]
  },
  {
   "cell_type": "code",
   "execution_count": null,
   "id": "e4b3eb51-606d-4f9b-867a-971657a04e27",
   "metadata": {},
   "outputs": [],
   "source": []
  },
  {
   "cell_type": "markdown",
   "id": "92bfc89e-e78f-49ae-86c4-3688e6bf90db",
   "metadata": {},
   "source": [
    "#loops"
   ]
  },
  {
   "cell_type": "code",
   "execution_count": 33,
   "id": "18a277a2-0044-4187-bc18-f5e508ec242c",
   "metadata": {},
   "outputs": [
    {
     "data": {
      "text/plain": [
       "[1, 2, 3, 4, 5, 6, 7, 8, 9]"
      ]
     },
     "execution_count": 33,
     "metadata": {},
     "output_type": "execute_result"
    }
   ],
   "source": [
    "list(range(1 ,10))"
   ]
  },
  {
   "cell_type": "code",
   "execution_count": 35,
   "id": "60789e0b-a47a-4b77-a6c7-e7c054484f97",
   "metadata": {},
   "outputs": [
    {
     "data": {
      "text/plain": [
       "[1, 2, 3, 4, 5, 6, 7, 8, 9, 10, 11, 12, 13, 14, 15, 16, 17, 18, 19, 20]"
      ]
     },
     "execution_count": 35,
     "metadata": {},
     "output_type": "execute_result"
    }
   ],
   "source": [
    "list(range(1,21))"
   ]
  },
  {
   "cell_type": "code",
   "execution_count": 37,
   "id": "f663ad47-ed21-499d-8bcb-bfbd2c7dc614",
   "metadata": {},
   "outputs": [
    {
     "data": {
      "text/plain": [
       "(2, 12, 22, 32, 42, 52, 62, 72, 82, 92)"
      ]
     },
     "execution_count": 37,
     "metadata": {},
     "output_type": "execute_result"
    }
   ],
   "source": [
    "tuple(range(2,100,10))"
   ]
  },
  {
   "cell_type": "code",
   "execution_count": 39,
   "id": "8e2fce1e-82df-475e-b591-f2ff4095f54d",
   "metadata": {},
   "outputs": [
    {
     "data": {
      "text/plain": [
       "[15, 32, 49, 66, 83, 100, 117, 134, 151, 168, 185]"
      ]
     },
     "execution_count": 39,
     "metadata": {},
     "output_type": "execute_result"
    }
   ],
   "source": [
    "list(range(15 ,200 ,17))"
   ]
  },
  {
   "cell_type": "code",
   "execution_count": null,
   "id": "76cf9895-e265-47c2-8cf6-7c94d1007b21",
   "metadata": {},
   "outputs": [],
   "source": []
  },
  {
   "cell_type": "code",
   "execution_count": 8,
   "id": "004d6f1b-cbaa-43c7-97ce-55e1deddae13",
   "metadata": {
    "scrolled": true
   },
   "outputs": [
    {
     "name": "stdout",
     "output_type": "stream",
     "text": [
      "0\n",
      "1\n",
      "2\n",
      "3\n",
      "4\n",
      "5\n",
      "6\n",
      "7\n",
      "8\n",
      "9\n",
      "10\n",
      "11\n",
      "12\n",
      "13\n",
      "14\n",
      "15\n",
      "16\n",
      "17\n",
      "18\n",
      "19\n",
      "20\n"
     ]
    }
   ],
   "source": [
    "i = 0 \n",
    "\n",
    "while (i<=20):\n",
    "    print(i)\n",
    "     #i = i+1    \n",
    "    i +=1"
   ]
  },
  {
   "cell_type": "markdown",
   "id": "670fd250-8c32-4bc7-a847-64b7afd68300",
   "metadata": {},
   "source": [
    "#loops : ilternative programing\n",
    "* while\n",
    "* while true\n",
    "* for"
   ]
  },
  {
   "cell_type": "code",
   "execution_count": 1,
   "id": "15abc877-65b4-4269-a4c3-c8e7c2a3f22c",
   "metadata": {},
   "outputs": [
    {
     "name": "stdout",
     "output_type": "stream",
     "text": [
      "0\n",
      "2\n",
      "4\n",
      "6\n",
      "8\n",
      "10\n",
      "12\n",
      "14\n",
      "16\n",
      "18\n",
      "20\n",
      "All Done\n"
     ]
    }
   ],
   "source": [
    "i = 0 \n",
    "while (i<=20):\n",
    "    if i%2==0:\n",
    "       print(i)\n",
    "\n",
    "#i = i+1\n",
    "    \n",
    "    i+=1\n",
    "else:\n",
    "    print(\"All Done\")"
   ]
  },
  {
   "cell_type": "code",
   "execution_count": 6,
   "id": "9506458b-bd32-4d6d-8b26-9814b6fb0a2e",
   "metadata": {},
   "outputs": [
    {
     "name": "stdout",
     "output_type": "stream",
     "text": [
      "0\n",
      "2\n",
      "4\n",
      "6\n",
      "8\n",
      "10\n",
      "12\n",
      "14\n",
      "16\n",
      "18\n",
      "20\n"
     ]
    }
   ],
   "source": [
    "i = 0 \n",
    "\n",
    "while (i<=20):\n",
    "    print(i)\n",
    "\n",
    "    #i = i=1\n",
    "    i+=2"
   ]
  },
  {
   "cell_type": "code",
   "execution_count": 8,
   "id": "e40fd313-2b3b-439b-bf1b-7fe261351839",
   "metadata": {},
   "outputs": [
    {
     "name": "stdout",
     "output_type": "stream",
     "text": [
      "1\n",
      "3\n",
      "5\n",
      "7\n",
      "9\n",
      "11\n",
      "13\n",
      "15\n",
      "17\n",
      "19\n"
     ]
    }
   ],
   "source": [
    "i = 1\n",
    "\n",
    "while (i<=20):\n",
    "    print(i)\n",
    "    i+=2"
   ]
  },
  {
   "cell_type": "code",
   "execution_count": 19,
   "id": "7a6ac413-9e39-42f6-880c-4718fe525c72",
   "metadata": {},
   "outputs": [
    {
     "name": "stdout",
     "output_type": "stream",
     "text": [
      "1\n",
      "3\n",
      "5\n",
      "7\n",
      "9\n",
      "11\n",
      "13\n",
      "15\n",
      "17\n",
      "19\n",
      "all done\n"
     ]
    }
   ],
   "source": [
    "i = 0\n",
    "\n",
    "while (i<=20):\n",
    "    if i%2!=0:\n",
    "        print(i)\n",
    "\n",
    "    i+=1\n",
    "else:\n",
    "    print(\"all done\")"
   ]
  },
  {
   "cell_type": "code",
   "execution_count": 15,
   "id": "b3b42fdf-5bbc-43cd-98aa-d8600d134269",
   "metadata": {},
   "outputs": [
    {
     "name": "stdout",
     "output_type": "stream",
     "text": [
      "1\n",
      "4\n",
      "27\n",
      "16\n",
      "125\n",
      "36\n",
      "343\n",
      "64\n",
      "729\n",
      "100\n",
      "1331\n",
      "144\n",
      "2197\n",
      "196\n",
      "3375\n",
      "256\n",
      "4913\n",
      "324\n",
      "6859\n",
      "400\n"
     ]
    }
   ],
   "source": [
    "i = 1\n",
    "\n",
    "while(i<=20):\n",
    "    if i%2==0:\n",
    "         print(i**2)\n",
    "    else:\n",
    "        print(i**3)\n",
    "    i+=1"
   ]
  },
  {
   "cell_type": "code",
   "execution_count": null,
   "id": "6179284a-a2bf-4397-a44f-6ee018006e15",
   "metadata": {},
   "outputs": [],
   "source": []
  },
  {
   "cell_type": "code",
   "execution_count": 2,
   "id": "f325eb44-92c0-48c2-905e-abe5abbced09",
   "metadata": {},
   "outputs": [],
   "source": [
    "#reverse counting"
   ]
  },
  {
   "cell_type": "code",
   "execution_count": 6,
   "id": "78633f79-ca0d-4474-9188-ad33f5e5326c",
   "metadata": {},
   "outputs": [
    {
     "name": "stdin",
     "output_type": "stream",
     "text": [
      "enter your number: 10\n"
     ]
    }
   ],
   "source": [
    "number = int(input(\"enter your number:\"))"
   ]
  },
  {
   "cell_type": "code",
   "execution_count": 8,
   "id": "411a696c-b1f6-4a27-b59c-db65d70c7450",
   "metadata": {},
   "outputs": [
    {
     "name": "stdout",
     "output_type": "stream",
     "text": [
      "10\n",
      "9\n",
      "8\n",
      "7\n",
      "6\n",
      "5\n",
      "4\n",
      "3\n",
      "2\n",
      "1\n",
      "all done\n"
     ]
    }
   ],
   "source": [
    "while number>0:\n",
    "    print(number)\n",
    "    number-=1\n",
    "else:\n",
    "    print(\"all done\")"
   ]
  },
  {
   "cell_type": "code",
   "execution_count": null,
   "id": "ed119342-a257-4f9d-a7cd-4edca27d7449",
   "metadata": {},
   "outputs": [],
   "source": []
  },
  {
   "cell_type": "code",
   "execution_count": 11,
   "id": "eb84a336-4c50-4fa9-8805-b775e3106d63",
   "metadata": {},
   "outputs": [],
   "source": [
    "#keep asking for input until Stop is entered"
   ]
  },
  {
   "cell_type": "code",
   "execution_count": 13,
   "id": "60e6f070-74da-4b2f-abb5-3be63dc5adb7",
   "metadata": {},
   "outputs": [
    {
     "name": "stdin",
     "output_type": "stream",
     "text": [
      "enter stop to quit: jatt\n"
     ]
    },
    {
     "name": "stdout",
     "output_type": "stream",
     "text": [
      "you have entered : jatt\n"
     ]
    },
    {
     "name": "stdin",
     "output_type": "stream",
     "text": [
      "enter stop to quit: stop\n"
     ]
    },
    {
     "name": "stdout",
     "output_type": "stream",
     "text": [
      "you have entered : stop\n",
      "loop is finished\n"
     ]
    }
   ],
   "source": [
    "command = \"\"\n",
    "\n",
    "while (command != \"stop\"):\n",
    "    command = input(\"enter stop to quit:\")\n",
    "    print(\"you have entered :\" , command)\n",
    "\n",
    "else:\n",
    "    print(\"loop is finished\")"
   ]
  },
  {
   "cell_type": "code",
   "execution_count": null,
   "id": "2d3ac0ca-affe-41e2-8ad0-2dba7a486cb8",
   "metadata": {},
   "outputs": [],
   "source": []
  },
  {
   "cell_type": "code",
   "execution_count": 16,
   "id": "5d5942cf-b08c-437f-86b0-9579a372de41",
   "metadata": {},
   "outputs": [],
   "source": [
    "#ask for password untill correct"
   ]
  },
  {
   "cell_type": "code",
   "execution_count": 18,
   "id": "76afaf35-ff0b-4713-874d-cd3fc1098ea3",
   "metadata": {},
   "outputs": [
    {
     "name": "stdin",
     "output_type": "stream",
     "text": [
      "etner correct password: NARWAL\n"
     ]
    },
    {
     "name": "stdout",
     "output_type": "stream",
     "text": [
      "you have entered :  NARWAL\n"
     ]
    },
    {
     "name": "stdin",
     "output_type": "stream",
     "text": [
      "etner correct password: password@123\n"
     ]
    },
    {
     "name": "stdout",
     "output_type": "stream",
     "text": [
      "you have entered :  password@123\n",
      "congratulation you have entered a correct password\n"
     ]
    }
   ],
   "source": [
    "password = \"\"\n",
    "\n",
    "while (password != \"password@123\"):\n",
    "    password = input(\"etner correct password:\")\n",
    "    print(\"you have entered : \" , password)\n",
    "else:\n",
    "    print(\"congratulation you have entered a correct password\")"
   ]
  },
  {
   "cell_type": "code",
   "execution_count": null,
   "id": "fe6a5073-fc51-4aca-93e3-1f10a43d6e37",
   "metadata": {},
   "outputs": [],
   "source": []
  },
  {
   "cell_type": "code",
   "execution_count": 21,
   "id": "94864716-2ef9-4da3-b25a-338f36f8d899",
   "metadata": {},
   "outputs": [],
   "source": [
    "#while true - infinite loop : we do not provide any stopping condition here"
   ]
  },
  {
   "cell_type": "code",
   "execution_count": 25,
   "id": "b77f759c-1cfd-4469-98cd-ddc7b590ab9b",
   "metadata": {},
   "outputs": [
    {
     "name": "stdin",
     "output_type": "stream",
     "text": [
      "enter any number : 62\n"
     ]
    },
    {
     "name": "stdout",
     "output_type": "stream",
     "text": [
      "the sum of first n natural numbers are 1953\n"
     ]
    }
   ],
   "source": [
    "number = int(input(\"enter any number :\"))\n",
    "total_sum = 0 \n",
    "\n",
    "while True:\n",
    "    total_sum+=number\n",
    "    number-=1\n",
    "\n",
    "    if number == 0:\n",
    "        break\n",
    "\n",
    "print(f\"the sum of first n natural numbers are {total_sum}\")"
   ]
  },
  {
   "cell_type": "code",
   "execution_count": null,
   "id": "2ed8ee22-ae6a-49ac-aab1-022bd604aa0b",
   "metadata": {},
   "outputs": [],
   "source": []
  },
  {
   "cell_type": "code",
   "execution_count": 2,
   "id": "0a6b72d3-82fa-4104-a82c-b34f59816872",
   "metadata": {},
   "outputs": [],
   "source": [
    "#print hello world five times"
   ]
  },
  {
   "cell_type": "code",
   "execution_count": 6,
   "id": "bfd83d89-8b7b-4ae9-8c0b-6448da4e4dbc",
   "metadata": {},
   "outputs": [
    {
     "name": "stdout",
     "output_type": "stream",
     "text": [
      "hello world\n",
      "hello world\n",
      "hello world\n",
      "hello world\n",
      "hello world\n"
     ]
    }
   ],
   "source": [
    "count = 1\n",
    "\n",
    "while count<=5:\n",
    "    print(\"hello world\")\n",
    "    count+=1"
   ]
  },
  {
   "cell_type": "code",
   "execution_count": 8,
   "id": "d05d949a-9f3f-47a5-9485-3216fb3da854",
   "metadata": {},
   "outputs": [],
   "source": [
    "import random"
   ]
  },
  {
   "cell_type": "code",
   "execution_count": 18,
   "id": "c6f8df4b-634e-4015-b640-3f5d24d89363",
   "metadata": {},
   "outputs": [],
   "source": [
    "generated_num = random.randint(1,100)"
   ]
  },
  {
   "cell_type": "code",
   "execution_count": 20,
   "id": "9073bcb8-6925-44ed-850f-6e1b42405722",
   "metadata": {},
   "outputs": [
    {
     "data": {
      "text/plain": [
       "8"
      ]
     },
     "execution_count": 20,
     "metadata": {},
     "output_type": "execute_result"
    }
   ],
   "source": [
    "generated_num"
   ]
  },
  {
   "cell_type": "code",
   "execution_count": 31,
   "id": "4ca37207-db47-451b-a27a-8e3af2497873",
   "metadata": {},
   "outputs": [
    {
     "name": "stdin",
     "output_type": "stream",
     "text": [
      "enter your guess :  20\n"
     ]
    },
    {
     "name": "stdout",
     "output_type": "stream",
     "text": [
      "please try to guess a higher number\n"
     ]
    },
    {
     "name": "stdin",
     "output_type": "stream",
     "text": [
      "enter your guess :  45\n"
     ]
    },
    {
     "name": "stdout",
     "output_type": "stream",
     "text": [
      "please try to guess a lower number\n"
     ]
    },
    {
     "name": "stdin",
     "output_type": "stream",
     "text": [
      "enter your guess :  30\n"
     ]
    },
    {
     "name": "stdout",
     "output_type": "stream",
     "text": [
      "please try to guess a higher number\n"
     ]
    },
    {
     "name": "stdin",
     "output_type": "stream",
     "text": [
      "enter your guess :  35\n"
     ]
    },
    {
     "name": "stdout",
     "output_type": "stream",
     "text": [
      "please try to guess a higher number\n"
     ]
    },
    {
     "name": "stdin",
     "output_type": "stream",
     "text": [
      "enter your guess :  40\n"
     ]
    },
    {
     "name": "stdout",
     "output_type": "stream",
     "text": [
      "please try to guess a lower number\n"
     ]
    },
    {
     "name": "stdin",
     "output_type": "stream",
     "text": [
      "enter your guess :  39\n"
     ]
    },
    {
     "name": "stdout",
     "output_type": "stream",
     "text": [
      "please try to guess a lower number\n"
     ]
    },
    {
     "name": "stdin",
     "output_type": "stream",
     "text": [
      "enter your guess :  38\n"
     ]
    },
    {
     "name": "stdout",
     "output_type": "stream",
     "text": [
      "please try to guess a lower number\n"
     ]
    },
    {
     "name": "stdin",
     "output_type": "stream",
     "text": [
      "enter your guess :  37\n"
     ]
    },
    {
     "name": "stdout",
     "output_type": "stream",
     "text": [
      "congratulation you have guessed correct:\n"
     ]
    }
   ],
   "source": [
    "generated_num = random.randint(1,100)\n",
    "\n",
    "while True:\n",
    "    guessed_num = int(input(\"enter your guess : \"))\n",
    "\n",
    "    if guessed_num == generated_num :\n",
    "       print(\"congratulation you have guessed correct:\")\n",
    "       break\n",
    "    elif (guessed_num>generated_num):\n",
    "       print(\"please try to guess a lower number\")\n",
    "    else:\n",
    "       print(\"please try to guess a higher number\")"
   ]
  },
  {
   "cell_type": "code",
   "execution_count": 33,
   "id": "1e60c6d8-5ba5-4632-8ed4-75843791cf5d",
   "metadata": {},
   "outputs": [],
   "source": [
    "#for in"
   ]
  },
  {
   "cell_type": "code",
   "execution_count": 35,
   "id": "51313dea-4e7c-437b-a3c2-f54afee25562",
   "metadata": {},
   "outputs": [
    {
     "data": {
      "text/plain": [
       "[2, 3, 4, 5, 6, 7, 8, 9, 10, 11, 12, 13, 14, 15, 16, 17, 18, 19, 20]"
      ]
     },
     "execution_count": 35,
     "metadata": {},
     "output_type": "execute_result"
    }
   ],
   "source": [
    "list(range(2,21))"
   ]
  },
  {
   "cell_type": "code",
   "execution_count": 37,
   "id": "578aaee7-0517-4237-92c7-0ce7c59e2b67",
   "metadata": {},
   "outputs": [
    {
     "name": "stdout",
     "output_type": "stream",
     "text": [
      "2\n",
      "3\n",
      "4\n",
      "5\n",
      "6\n",
      "7\n",
      "8\n",
      "9\n",
      "10\n",
      "11\n",
      "12\n",
      "13\n",
      "14\n",
      "15\n",
      "16\n",
      "17\n",
      "18\n",
      "19\n",
      "20\n"
     ]
    }
   ],
   "source": [
    "for i in range(2,21):\n",
    "    print(i)"
   ]
  },
  {
   "cell_type": "code",
   "execution_count": 51,
   "id": "c35285eb-88dc-4fd5-866c-35db67228562",
   "metadata": {},
   "outputs": [
    {
     "name": "stdout",
     "output_type": "stream",
     "text": [
      "2\n",
      "4\n",
      "6\n",
      "8\n",
      "10\n",
      "12\n",
      "14\n",
      "16\n",
      "18\n",
      "20\n"
     ]
    }
   ],
   "source": [
    "for i in range(2,21):\n",
    "    if i%2==0:\n",
    "       print(i)"
   ]
  },
  {
   "cell_type": "code",
   "execution_count": 55,
   "id": "4a45dcab-279e-493b-ad47-87845d6c8385",
   "metadata": {},
   "outputs": [
    {
     "name": "stdout",
     "output_type": "stream",
     "text": [
      "1\n",
      "wrong element\n",
      "3\n",
      "wrong element\n",
      "5\n",
      "wrong element\n",
      "7\n",
      "wrong element\n",
      "9\n",
      "wrong element\n",
      "11\n",
      "wrong element\n",
      "13\n",
      "wrong element\n",
      "15\n",
      "wrong element\n",
      "17\n",
      "wrong element\n",
      "19\n",
      "wrong element\n"
     ]
    }
   ],
   "source": [
    "for i in range(1,21):\n",
    "    if i%2!=0:\n",
    "        print(i)\n",
    "    else:\n",
    "        print(\"wrong element\")"
   ]
  },
  {
   "cell_type": "code",
   "execution_count": null,
   "id": "f84042b4-6848-4b84-a9de-448ea4402d08",
   "metadata": {},
   "outputs": [],
   "source": []
  },
  {
   "cell_type": "code",
   "execution_count": 2,
   "id": "861e4a13-41d9-40e6-84a5-1b5a3d0c3d11",
   "metadata": {},
   "outputs": [],
   "source": [
    "#table of 3 with using for loop"
   ]
  },
  {
   "cell_type": "code",
   "execution_count": null,
   "id": "e016f046-8c57-4b2b-a427-b424220ca7e2",
   "metadata": {},
   "outputs": [],
   "source": []
  },
  {
   "cell_type": "code",
   "execution_count": null,
   "id": "60e54ab9-6ee8-40ad-98a0-a1b44f5c121a",
   "metadata": {},
   "outputs": [],
   "source": []
  },
  {
   "cell_type": "code",
   "execution_count": null,
   "id": "8515ceda-a62d-4452-ad48-fe71366b009c",
   "metadata": {},
   "outputs": [],
   "source": []
  },
  {
   "cell_type": "code",
   "execution_count": 9,
   "id": "b31f5991-c2ee-4677-99c8-f913f0d9f8d0",
   "metadata": {},
   "outputs": [],
   "source": [
    "#break , continue , pass"
   ]
  },
  {
   "cell_type": "code",
   "execution_count": 11,
   "id": "0f5dc55d-a02e-44d5-b15c-62a3327ba0d4",
   "metadata": {},
   "outputs": [
    {
     "name": "stdout",
     "output_type": "stream",
     "text": [
      "1\n",
      "2\n",
      "3\n",
      "4\n"
     ]
    }
   ],
   "source": [
    "for i in range(1,11):\n",
    "    if i==5:\n",
    "        break\n",
    "    print(i)\n",
    "else:\n",
    "    print(\"no elements left\")\n",
    "    "
   ]
  },
  {
   "cell_type": "code",
   "execution_count": 13,
   "id": "510e03ce-4ecd-45cb-b796-fad0eefdba56",
   "metadata": {},
   "outputs": [
    {
     "name": "stdout",
     "output_type": "stream",
     "text": [
      "1\n",
      "2\n",
      "3\n",
      "4\n",
      "6\n",
      "7\n",
      "8\n",
      "9\n",
      "10\n",
      "no elements left\n"
     ]
    }
   ],
   "source": [
    "for i in range(1,11):\n",
    "    if i == 5:\n",
    "        continue\n",
    "    print(i)\n",
    "else:\n",
    "    print(\"no elements left\")"
   ]
  },
  {
   "cell_type": "code",
   "execution_count": 15,
   "id": "84370124-5ca6-4289-9214-37564760d2df",
   "metadata": {},
   "outputs": [],
   "source": [
    "for i in range(1,11):\n",
    "    pass"
   ]
  },
  {
   "cell_type": "code",
   "execution_count": null,
   "id": "a4e69631-c641-4416-89be-966bff45adb1",
   "metadata": {},
   "outputs": [],
   "source": []
  },
  {
   "cell_type": "code",
   "execution_count": 18,
   "id": "c618d8cd-0682-45d6-8c0c-05eb9fb665ec",
   "metadata": {},
   "outputs": [],
   "source": [
    "#nested loop:whenever we are writing for loop inside another for loop is known as nested loop"
   ]
  },
  {
   "cell_type": "markdown",
   "id": "7c20524d-f8e1-4547-aae7-c6c8e8b46729",
   "metadata": {},
   "source": [
    " #pattern printing:\n",
    "#observation:\n",
    "#n= numbers of rows\n",
    "#number of stars = row number"
   ]
  },
  {
   "cell_type": "code",
   "execution_count": 22,
   "id": "756a14c6-57c2-43fc-a452-50a4c18a471b",
   "metadata": {},
   "outputs": [],
   "source": [
    "n = 5"
   ]
  },
  {
   "cell_type": "code",
   "execution_count": 26,
   "id": "60d6da73-bbc2-4ec7-8096-eaf41d60982f",
   "metadata": {},
   "outputs": [
    {
     "name": "stdout",
     "output_type": "stream",
     "text": [
      "*\n",
      "**\n",
      "***\n",
      "****\n",
      "*****\n"
     ]
    }
   ],
   "source": [
    "for i in range(1,n+1):\n",
    "    for j in range(1,i+1):\n",
    "        print(\"*\" , end=\"\")\n",
    "    print()    "
   ]
  },
  {
   "cell_type": "code",
   "execution_count": 40,
   "id": "0c26766d-31cf-4210-bf79-5d97bfc3b792",
   "metadata": {},
   "outputs": [
    {
     "name": "stdout",
     "output_type": "stream",
     "text": [
      "1 \n",
      "2 3 \n",
      "4 5 6 \n",
      "7 8 9 10 \n",
      "11 12 13 14 15 \n"
     ]
    }
   ],
   "source": [
    "n = 5\n",
    "num = 1\n",
    "for i in range(1,n+1):\n",
    "    for j in range(1,i+1):\n",
    "        print(num, end= \" \")\n",
    "        num+=1\n",
    "    print()   "
   ]
  },
  {
   "cell_type": "code",
   "execution_count": null,
   "id": "fd432e89-091d-41df-823f-8241ecfd54d9",
   "metadata": {},
   "outputs": [],
   "source": []
  }
 ],
 "metadata": {
  "kernelspec": {
   "display_name": "Python 3 (ipykernel)",
   "language": "python",
   "name": "python3"
  },
  "language_info": {
   "codemirror_mode": {
    "name": "ipython",
    "version": 3
   },
   "file_extension": ".py",
   "mimetype": "text/x-python",
   "name": "python",
   "nbconvert_exporter": "python",
   "pygments_lexer": "ipython3",
   "version": "3.12.4"
  }
 },
 "nbformat": 4,
 "nbformat_minor": 5
}
