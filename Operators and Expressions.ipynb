{
 "cells": [
  {
   "cell_type": "markdown",
   "id": "2056f61e-a568-450c-a57f-3b5a408aceeb",
   "metadata": {},
   "source": [
    "# Operators and Expressions"
   ]
  },
  {
   "cell_type": "markdown",
   "id": "c3887ea1-c7c6-4b29-8419-1a66c7d2f0f7",
   "metadata": {},
   "source": [
    "* Arithmentic Operators\n",
    "* Comparison Operators\n",
    "* Assignment Operators\n",
    "* Logical Operators\n",
    "* Bitwise Operators\n",
    "* Special Operators"
   ]
  },
  {
   "cell_type": "code",
   "execution_count": 1,
   "id": "696223b3-90b6-4540-af86-b21bb1f726b9",
   "metadata": {},
   "outputs": [],
   "source": [
    "# arithmentic operators : + - * / ** // %"
   ]
  },
  {
   "cell_type": "code",
   "execution_count": 3,
   "id": "076465ed-bf50-4c6c-81a3-e2bcc08bcf32",
   "metadata": {},
   "outputs": [
    {
     "data": {
      "text/plain": [
       "11"
      ]
     },
     "execution_count": 3,
     "metadata": {},
     "output_type": "execute_result"
    }
   ],
   "source": [
    "5+6"
   ]
  },
  {
   "cell_type": "code",
   "execution_count": 5,
   "id": "43b5335a-976f-4162-ad21-194ca343c722",
   "metadata": {},
   "outputs": [
    {
     "data": {
      "text/plain": [
       "4"
      ]
     },
     "execution_count": 5,
     "metadata": {},
     "output_type": "execute_result"
    }
   ],
   "source": [
    "9-5"
   ]
  },
  {
   "cell_type": "code",
   "execution_count": 7,
   "id": "970a5909-ebe2-4fef-9ddf-692d4230acc8",
   "metadata": {},
   "outputs": [
    {
     "data": {
      "text/plain": [
       "6"
      ]
     },
     "execution_count": 7,
     "metadata": {},
     "output_type": "execute_result"
    }
   ],
   "source": [
    "2*3"
   ]
  },
  {
   "cell_type": "code",
   "execution_count": 11,
   "id": "333275ca-510f-4238-bec5-5cd26643d064",
   "metadata": {},
   "outputs": [
    {
     "data": {
      "text/plain": [
       "1.3333333333333333"
      ]
     },
     "execution_count": 11,
     "metadata": {},
     "output_type": "execute_result"
    }
   ],
   "source": [
    "12/9 # normal division # float"
   ]
  },
  {
   "cell_type": "code",
   "execution_count": 13,
   "id": "0370842e-7a6b-4dd7-857e-bcdc8b0e6136",
   "metadata": {},
   "outputs": [
    {
     "data": {
      "text/plain": [
       "5.333333333333333"
      ]
     },
     "execution_count": 13,
     "metadata": {},
     "output_type": "execute_result"
    }
   ],
   "source": [
    " 16/3"
   ]
  },
  {
   "cell_type": "code",
   "execution_count": 15,
   "id": "681ec1a0-5f10-4cf0-816f-11e71a87aabd",
   "metadata": {},
   "outputs": [
    {
     "data": {
      "text/plain": [
       "1.25"
      ]
     },
     "execution_count": 15,
     "metadata": {},
     "output_type": "execute_result"
    }
   ],
   "source": [
    "10/8"
   ]
  },
  {
   "cell_type": "code",
   "execution_count": 17,
   "id": "9f804fd6-986a-4331-84dd-d1ec218c61b5",
   "metadata": {},
   "outputs": [
    {
     "data": {
      "text/plain": [
       "1"
      ]
     },
     "execution_count": 17,
     "metadata": {},
     "output_type": "execute_result"
    }
   ],
   "source": [
    "12//9 # floor division # lower int"
   ]
  },
  {
   "cell_type": "code",
   "execution_count": 19,
   "id": "cbd7a3d8-7f12-4fe5-9259-469aee4f747c",
   "metadata": {},
   "outputs": [
    {
     "data": {
      "text/plain": [
       "5"
      ]
     },
     "execution_count": 19,
     "metadata": {},
     "output_type": "execute_result"
    }
   ],
   "source": [
    "16//3"
   ]
  },
  {
   "cell_type": "code",
   "execution_count": 21,
   "id": "4944eee2-bf7d-4808-b4da-bdacf251c291",
   "metadata": {},
   "outputs": [
    {
     "data": {
      "text/plain": [
       "1"
      ]
     },
     "execution_count": 21,
     "metadata": {},
     "output_type": "execute_result"
    }
   ],
   "source": [
    "10//8"
   ]
  },
  {
   "cell_type": "code",
   "execution_count": 23,
   "id": "15687979-5be1-4ea0-94ac-67b744d1efd7",
   "metadata": {},
   "outputs": [
    {
     "data": {
      "text/plain": [
       "8"
      ]
     },
     "execution_count": 23,
     "metadata": {},
     "output_type": "execute_result"
    }
   ],
   "source": [
    "2**3"
   ]
  },
  {
   "cell_type": "code",
   "execution_count": 25,
   "id": "734c5e55-97dc-4dea-a049-9cd03c545bcc",
   "metadata": {},
   "outputs": [
    {
     "data": {
      "text/plain": [
       "27"
      ]
     },
     "execution_count": 25,
     "metadata": {},
     "output_type": "execute_result"
    }
   ],
   "source": [
    "3**3"
   ]
  },
  {
   "cell_type": "code",
   "execution_count": 27,
   "id": "4b3a7382-4e8e-411c-8f3d-b7e0166a8b06",
   "metadata": {},
   "outputs": [
    {
     "data": {
      "text/plain": [
       "3"
      ]
     },
     "execution_count": 27,
     "metadata": {},
     "output_type": "execute_result"
    }
   ],
   "source": [
    "# remainder # modulo\n",
    "12%9"
   ]
  },
  {
   "cell_type": "code",
   "execution_count": 29,
   "id": "1a62f950-a368-47a0-8881-21a8bc40c6ef",
   "metadata": {},
   "outputs": [
    {
     "data": {
      "text/plain": [
       "5"
      ]
     },
     "execution_count": 29,
     "metadata": {},
     "output_type": "execute_result"
    }
   ],
   "source": [
    "15%10"
   ]
  },
  {
   "cell_type": "code",
   "execution_count": null,
   "id": "46ea56ed-a4b0-47b9-8ab8-bb7716d5d4ce",
   "metadata": {},
   "outputs": [],
   "source": [
    "no1 = 10\n",
    "no2 = 20"
   ]
  },
  {
   "cell_type": "code",
   "execution_count": 3,
   "id": "96ea96c2-2121-4dde-a29a-32ec4bd197ca",
   "metadata": {},
   "outputs": [],
   "source": [
    "add = no1 + no2\n",
    "sub = no1 - no2\n",
    "mul = no1 * no2\n",
    "div = no1 / no2\n",
    "f_div = no1 // no2\n",
    "exp = no1 ** no2\n",
    "mod = no1 % no2"
   ]
  },
  {
   "cell_type": "code",
   "execution_count": 7,
   "id": "f015682c-f21e-4466-8a73-426b83d5f107",
   "metadata": {},
   "outputs": [
    {
     "name": "stdout",
     "output_type": "stream",
     "text": [
      "a+b = 30\n",
      "a-b = -10\n",
      "a*b = 200\n",
      "a/b = 0.5\n",
      "a//b = 0\n",
      "a**b = 100000000000000000000\n",
      "a%b = 10\n"
     ]
    }
   ],
   "source": [
    "print(f\"a+b = {add}\")\n",
    "print(f\"a-b = {sub}\")\n",
    "print(f\"a*b = {mul}\")\n",
    "print(f\"a/b = {div}\")\n",
    "print(f\"a//b = {f_div}\")\n",
    "print(f\"a**b = {exp}\")\n",
    "print(f\"a%b = {mod}\")"
   ]
  },
  {
   "cell_type": "code",
   "execution_count": 1,
   "id": "de929286-33b9-4e28-9546-8e5bfd49012e",
   "metadata": {},
   "outputs": [],
   "source": []
  },
  {
   "cell_type": "code",
   "execution_count": null,
   "id": "f1d1d62b-548c-4e1c-b6d2-5312bf9a6a42",
   "metadata": {},
   "outputs": [],
   "source": []
  },
  {
   "cell_type": "code",
   "execution_count": 32,
   "id": "b24f92e2-dafe-401b-b00f-3d17c9f3d4e1",
   "metadata": {},
   "outputs": [],
   "source": [
    "#comparison Operators : > < >= <= == !="
   ]
  },
  {
   "cell_type": "code",
   "execution_count": 34,
   "id": "f82627f6-98d6-4c14-a67f-fd56050d5491",
   "metadata": {},
   "outputs": [
    {
     "data": {
      "text/plain": [
       "False"
      ]
     },
     "execution_count": 34,
     "metadata": {},
     "output_type": "execute_result"
    }
   ],
   "source": [
    "12>45"
   ]
  },
  {
   "cell_type": "code",
   "execution_count": 36,
   "id": "48acd891-8d75-472e-ae12-9863de59b557",
   "metadata": {},
   "outputs": [
    {
     "data": {
      "text/plain": [
       "False"
      ]
     },
     "execution_count": 36,
     "metadata": {},
     "output_type": "execute_result"
    }
   ],
   "source": [
    "12<10"
   ]
  },
  {
   "cell_type": "code",
   "execution_count": 38,
   "id": "de94194d-400d-4ff9-aa7b-3b75c0ef08c1",
   "metadata": {},
   "outputs": [
    {
     "data": {
      "text/plain": [
       "True"
      ]
     },
     "execution_count": 38,
     "metadata": {},
     "output_type": "execute_result"
    }
   ],
   "source": [
    "15 == 15\n"
   ]
  },
  {
   "cell_type": "code",
   "execution_count": 40,
   "id": "7a79fc4c-7963-4e3c-b780-0546eb6dc403",
   "metadata": {},
   "outputs": [
    {
     "data": {
      "text/plain": [
       "False"
      ]
     },
     "execution_count": 40,
     "metadata": {},
     "output_type": "execute_result"
    }
   ],
   "source": [
    "100 != 100"
   ]
  },
  {
   "cell_type": "code",
   "execution_count": 42,
   "id": "b96fd958-8418-4152-8554-48a122ccabb5",
   "metadata": {},
   "outputs": [
    {
     "data": {
      "text/plain": [
       "True"
      ]
     },
     "execution_count": 42,
     "metadata": {},
     "output_type": "execute_result"
    }
   ],
   "source": [
    "15 != 10"
   ]
  },
  {
   "cell_type": "code",
   "execution_count": 9,
   "id": "0137687d-d827-4d0c-86bf-ec099a7da5a6",
   "metadata": {},
   "outputs": [
    {
     "name": "stdout",
     "output_type": "stream",
     "text": [
      "10 20\n"
     ]
    }
   ],
   "source": [
    "print(no1 , no2)"
   ]
  },
  {
   "cell_type": "code",
   "execution_count": 11,
   "id": "b4778720-729b-45f8-a962-e9736da31f4e",
   "metadata": {},
   "outputs": [
    {
     "name": "stdout",
     "output_type": "stream",
     "text": [
      "True\n",
      "False\n",
      "False\n",
      "True\n",
      "False\n",
      "True\n"
     ]
    }
   ],
   "source": [
    "print(no1<no2)\n",
    "print(no1>no2)\n",
    "print(no1>=no2)\n",
    "print(no1<=no2)\n",
    "print(no1==no2)\n",
    "print(no1!=no2)"
   ]
  },
  {
   "cell_type": "code",
   "execution_count": 44,
   "id": "b4e9db86-825c-4170-b91a-8d2c2798879b",
   "metadata": {},
   "outputs": [],
   "source": [
    "# Assignment Operators : = += -= *= /= %= **= //="
   ]
  },
  {
   "cell_type": "code",
   "execution_count": 46,
   "id": "58dc82be-3108-40c0-97db-12f0ba270340",
   "metadata": {},
   "outputs": [],
   "source": [
    "j = 10"
   ]
  },
  {
   "cell_type": "code",
   "execution_count": 48,
   "id": "ec916a3b-5901-4e3a-bc00-5fa5df84b6f6",
   "metadata": {},
   "outputs": [
    {
     "data": {
      "text/plain": [
       "10"
      ]
     },
     "execution_count": 48,
     "metadata": {},
     "output_type": "execute_result"
    }
   ],
   "source": [
    "j"
   ]
  },
  {
   "cell_type": "code",
   "execution_count": 50,
   "id": "9a1096a2-5d10-4399-bc63-9e0e0c4d213f",
   "metadata": {},
   "outputs": [],
   "source": [
    "t = \"python is fun\""
   ]
  },
  {
   "cell_type": "code",
   "execution_count": 52,
   "id": "56c52ffa-5870-4f8f-83d5-f107ed0d5900",
   "metadata": {},
   "outputs": [
    {
     "data": {
      "text/plain": [
       "'python is fun'"
      ]
     },
     "execution_count": 52,
     "metadata": {},
     "output_type": "execute_result"
    }
   ],
   "source": [
    "t"
   ]
  },
  {
   "cell_type": "code",
   "execution_count": 54,
   "id": "7918ed51-8793-4236-9c76-c99dd146b2f8",
   "metadata": {},
   "outputs": [],
   "source": [
    "a = 10"
   ]
  },
  {
   "cell_type": "code",
   "execution_count": 56,
   "id": "d078585e-b875-430e-8786-bc0f01dfb6e1",
   "metadata": {},
   "outputs": [],
   "source": [
    "a = a+2"
   ]
  },
  {
   "cell_type": "code",
   "execution_count": 58,
   "id": "d007a5b3-0c78-4669-8763-954ce5f13e83",
   "metadata": {},
   "outputs": [
    {
     "data": {
      "text/plain": [
       "12"
      ]
     },
     "execution_count": 58,
     "metadata": {},
     "output_type": "execute_result"
    }
   ],
   "source": [
    "a"
   ]
  },
  {
   "cell_type": "code",
   "execution_count": 60,
   "id": "5e8b1485-dbf7-4c71-9961-fe7da6389313",
   "metadata": {},
   "outputs": [],
   "source": [
    "a+=3"
   ]
  },
  {
   "cell_type": "code",
   "execution_count": 62,
   "id": "fd988462-3783-4d51-94ef-f85fc67b55ea",
   "metadata": {},
   "outputs": [
    {
     "data": {
      "text/plain": [
       "15"
      ]
     },
     "execution_count": 62,
     "metadata": {},
     "output_type": "execute_result"
    }
   ],
   "source": [
    "a"
   ]
  },
  {
   "cell_type": "code",
   "execution_count": 64,
   "id": "473acc06-1be7-4680-8c94-776202f2ed62",
   "metadata": {},
   "outputs": [],
   "source": [
    "a-=5"
   ]
  },
  {
   "cell_type": "code",
   "execution_count": 66,
   "id": "3669d24f-2dca-4cca-955b-f64bd3cf88ba",
   "metadata": {},
   "outputs": [
    {
     "data": {
      "text/plain": [
       "10"
      ]
     },
     "execution_count": 66,
     "metadata": {},
     "output_type": "execute_result"
    }
   ],
   "source": [
    "a"
   ]
  },
  {
   "cell_type": "code",
   "execution_count": 68,
   "id": "ccca440a-1550-4577-8e84-24ffe6c44299",
   "metadata": {},
   "outputs": [],
   "source": [
    "a*=2"
   ]
  },
  {
   "cell_type": "code",
   "execution_count": 71,
   "id": "9508632d-3b8a-4ab5-9bb5-d6a09be3c58a",
   "metadata": {},
   "outputs": [
    {
     "data": {
      "text/plain": [
       "20"
      ]
     },
     "execution_count": 71,
     "metadata": {},
     "output_type": "execute_result"
    }
   ],
   "source": [
    "a"
   ]
  },
  {
   "cell_type": "code",
   "execution_count": 93,
   "id": "e268af5e-8733-4928-a5a6-132e159d53d2",
   "metadata": {},
   "outputs": [],
   "source": [
    "a//=4"
   ]
  },
  {
   "cell_type": "code",
   "execution_count": 95,
   "id": "cf96d04f-76f3-4561-af31-b6a8ff6d0a03",
   "metadata": {},
   "outputs": [
    {
     "data": {
      "text/plain": [
       "0.0"
      ]
     },
     "execution_count": 95,
     "metadata": {},
     "output_type": "execute_result"
    }
   ],
   "source": [
    "a"
   ]
  },
  {
   "cell_type": "code",
   "execution_count": 81,
   "id": "4dfff752-ca88-428b-845f-71a6835cf765",
   "metadata": {},
   "outputs": [],
   "source": [
    "a**=5"
   ]
  },
  {
   "cell_type": "code",
   "execution_count": 83,
   "id": "11199284-d875-446c-ae05-bf66bc6dc214",
   "metadata": {},
   "outputs": [
    {
     "data": {
      "text/plain": [
       "1.0"
      ]
     },
     "execution_count": 83,
     "metadata": {},
     "output_type": "execute_result"
    }
   ],
   "source": [
    "a"
   ]
  },
  {
   "cell_type": "code",
   "execution_count": 85,
   "id": "283cf5a2-fa22-4f2a-a73f-e79bfd53399c",
   "metadata": {},
   "outputs": [],
   "source": [
    "a%=10"
   ]
  },
  {
   "cell_type": "code",
   "execution_count": 87,
   "id": "d59a4e8a-5405-4629-bce4-9423716cf05b",
   "metadata": {},
   "outputs": [
    {
     "data": {
      "text/plain": [
       "1.0"
      ]
     },
     "execution_count": 87,
     "metadata": {},
     "output_type": "execute_result"
    }
   ],
   "source": [
    "a"
   ]
  },
  {
   "cell_type": "code",
   "execution_count": 97,
   "id": "64ecc64f-c21e-4454-9269-96db54a8bd30",
   "metadata": {},
   "outputs": [],
   "source": [
    " # assignment :"
   ]
  },
  {
   "cell_type": "code",
   "execution_count": 99,
   "id": "c87d8daa-ff44-478d-b15d-6bdf63bb4310",
   "metadata": {},
   "outputs": [],
   "source": [
    "r = 10"
   ]
  },
  {
   "cell_type": "code",
   "execution_count": 101,
   "id": "a6fc3dd0-c549-4e20-bbd2-0812b162590a",
   "metadata": {},
   "outputs": [],
   "source": [
    "z = 'data science'"
   ]
  },
  {
   "cell_type": "code",
   "execution_count": 103,
   "id": "e6843940-4345-42e8-97a9-379391ce70b2",
   "metadata": {},
   "outputs": [
    {
     "data": {
      "text/plain": [
       "10"
      ]
     },
     "execution_count": 103,
     "metadata": {},
     "output_type": "execute_result"
    }
   ],
   "source": [
    "r"
   ]
  },
  {
   "cell_type": "code",
   "execution_count": 105,
   "id": "bf9fdc48-6af4-410a-a186-526a530b07e4",
   "metadata": {},
   "outputs": [
    {
     "data": {
      "text/plain": [
       "'data science'"
      ]
     },
     "execution_count": 105,
     "metadata": {},
     "output_type": "execute_result"
    }
   ],
   "source": [
    "z"
   ]
  },
  {
   "cell_type": "code",
   "execution_count": 107,
   "id": "5df0d974-3f09-4874-97fd-aac42d3a63f6",
   "metadata": {},
   "outputs": [],
   "source": [
    "a,b,c = 14,18,19"
   ]
  },
  {
   "cell_type": "code",
   "execution_count": 109,
   "id": "2f209e31-95b0-494e-a88f-3ddb09d7eaf8",
   "metadata": {},
   "outputs": [
    {
     "data": {
      "text/plain": [
       "14"
      ]
     },
     "execution_count": 109,
     "metadata": {},
     "output_type": "execute_result"
    }
   ],
   "source": [
    "a"
   ]
  },
  {
   "cell_type": "code",
   "execution_count": 111,
   "id": "f48b99aa-3168-424b-83e7-099d35a261b2",
   "metadata": {},
   "outputs": [
    {
     "data": {
      "text/plain": [
       "18"
      ]
     },
     "execution_count": 111,
     "metadata": {},
     "output_type": "execute_result"
    }
   ],
   "source": [
    "b"
   ]
  },
  {
   "cell_type": "code",
   "execution_count": 113,
   "id": "86465a7d-c225-4c5d-b233-4025fec70687",
   "metadata": {},
   "outputs": [
    {
     "data": {
      "text/plain": [
       "19"
      ]
     },
     "execution_count": 113,
     "metadata": {},
     "output_type": "execute_result"
    }
   ],
   "source": [
    "c"
   ]
  },
  {
   "cell_type": "code",
   "execution_count": 115,
   "id": "cd41d92e-b79c-46ae-9cc9-38bbf67da5a4",
   "metadata": {},
   "outputs": [],
   "source": [
    "p = q = r = 15"
   ]
  },
  {
   "cell_type": "code",
   "execution_count": 117,
   "id": "e9718a32-9175-48c2-86b9-9a7de11a699d",
   "metadata": {},
   "outputs": [
    {
     "data": {
      "text/plain": [
       "15"
      ]
     },
     "execution_count": 117,
     "metadata": {},
     "output_type": "execute_result"
    }
   ],
   "source": [
    "p"
   ]
  },
  {
   "cell_type": "code",
   "execution_count": 119,
   "id": "b1d51248-3fba-44a4-94df-0f83c000641a",
   "metadata": {},
   "outputs": [
    {
     "data": {
      "text/plain": [
       "15"
      ]
     },
     "execution_count": 119,
     "metadata": {},
     "output_type": "execute_result"
    }
   ],
   "source": [
    "q"
   ]
  },
  {
   "cell_type": "code",
   "execution_count": 121,
   "id": "3a44d875-3ece-417c-9888-eed71d627617",
   "metadata": {},
   "outputs": [
    {
     "data": {
      "text/plain": [
       "15"
      ]
     },
     "execution_count": 121,
     "metadata": {},
     "output_type": "execute_result"
    }
   ],
   "source": [
    "r"
   ]
  },
  {
   "cell_type": "code",
   "execution_count": null,
   "id": "944b3701-4681-43ec-aa15-a3fe75dada16",
   "metadata": {},
   "outputs": [],
   "source": []
  },
  {
   "cell_type": "markdown",
   "id": "f90fd710-825a-499b-b77e-9c9bbd2d330f",
   "metadata": {},
   "source": [
    "# logical Operators :\n",
    "* AND - it returns True when all of the conditions are True\n",
    "* OR - it returns True when any one of the condition is True\n",
    "* NOT - negation - Opposite"
   ]
  },
  {
   "cell_type": "code",
   "execution_count": 2,
   "id": "b70b5d66-347d-4c15-bdec-10d69c4c5226",
   "metadata": {},
   "outputs": [
    {
     "data": {
      "text/plain": [
       "True"
      ]
     },
     "execution_count": 2,
     "metadata": {},
     "output_type": "execute_result"
    }
   ],
   "source": [
    "5>3"
   ]
  },
  {
   "cell_type": "code",
   "execution_count": 4,
   "id": "74dd9ad1-657b-4b11-acae-e430fe54576d",
   "metadata": {},
   "outputs": [
    {
     "data": {
      "text/plain": [
       "True"
      ]
     },
     "execution_count": 4,
     "metadata": {},
     "output_type": "execute_result"
    }
   ],
   "source": [
    "10<15"
   ]
  },
  {
   "cell_type": "code",
   "execution_count": 6,
   "id": "b7e92ab8-cd3f-4131-be3b-8ea84f84a361",
   "metadata": {},
   "outputs": [
    {
     "data": {
      "text/plain": [
       "True"
      ]
     },
     "execution_count": 6,
     "metadata": {},
     "output_type": "execute_result"
    }
   ],
   "source": [
    "(5>3) and (10<15)"
   ]
  },
  {
   "cell_type": "code",
   "execution_count": 8,
   "id": "f1b395a4-59cf-4bc1-a782-1de1361e4f3e",
   "metadata": {},
   "outputs": [
    {
     "data": {
      "text/plain": [
       "False"
      ]
     },
     "execution_count": 8,
     "metadata": {},
     "output_type": "execute_result"
    }
   ],
   "source": [
    "(5<3) and (10<15)"
   ]
  },
  {
   "cell_type": "code",
   "execution_count": 10,
   "id": "2e0e4f13-246c-4732-994a-ddf56802a6bd",
   "metadata": {},
   "outputs": [
    {
     "data": {
      "text/plain": [
       "True"
      ]
     },
     "execution_count": 10,
     "metadata": {},
     "output_type": "execute_result"
    }
   ],
   "source": [
    "(5<3) or (10<15)"
   ]
  },
  {
   "cell_type": "code",
   "execution_count": 12,
   "id": "23c1a7ab-556d-47b6-b417-391c7cdfc043",
   "metadata": {},
   "outputs": [
    {
     "data": {
      "text/plain": [
       "True"
      ]
     },
     "execution_count": 12,
     "metadata": {},
     "output_type": "execute_result"
    }
   ],
   "source": [
    "(5>3) or (10>15)"
   ]
  },
  {
   "cell_type": "code",
   "execution_count": 16,
   "id": "a4a9e767-d79a-4d83-9dd3-d49bfcf73da7",
   "metadata": {},
   "outputs": [
    {
     "data": {
      "text/plain": [
       "False"
      ]
     },
     "execution_count": 16,
     "metadata": {},
     "output_type": "execute_result"
    }
   ],
   "source": [
    "not True"
   ]
  },
  {
   "cell_type": "code",
   "execution_count": 18,
   "id": "6bf8c962-9351-4fdf-bdc1-b52718ebfdda",
   "metadata": {},
   "outputs": [
    {
     "data": {
      "text/plain": [
       "True"
      ]
     },
     "execution_count": 18,
     "metadata": {},
     "output_type": "execute_result"
    }
   ],
   "source": [
    "not False"
   ]
  },
  {
   "cell_type": "code",
   "execution_count": 20,
   "id": "e57c2cb2-b66f-49ff-8eb0-9cbdcd5ce16c",
   "metadata": {},
   "outputs": [
    {
     "data": {
      "text/plain": [
       "True"
      ]
     },
     "execution_count": 20,
     "metadata": {},
     "output_type": "execute_result"
    }
   ],
   "source": [
    "not((5<3) or (10>15))"
   ]
  },
  {
   "cell_type": "markdown",
   "id": "69b67761-5a16-461a-b7ec-ccda87425d76",
   "metadata": {},
   "source": [
    "# Bitwise Operators \n",
    "* Bitwise AND : it follows logical AND - &\n",
    "* bitwise OR : Logical OR - |\n",
    "* bitwise XOR - ^   it provides us True when any one condition is true but it will provide False when both the condition is True "
   ]
  },
  {
   "cell_type": "code",
   "execution_count": 23,
   "id": "3cd5519d-4c4f-461f-b506-710affe660f4",
   "metadata": {},
   "outputs": [
    {
     "data": {
      "text/plain": [
       "10"
      ]
     },
     "execution_count": 23,
     "metadata": {},
     "output_type": "execute_result"
    }
   ],
   "source": [
    "10"
   ]
  },
  {
   "cell_type": "code",
   "execution_count": 25,
   "id": "eef763ca-b9b7-4d99-bfb7-78c7bb9dc38f",
   "metadata": {},
   "outputs": [
    {
     "data": {
      "text/plain": [
       "'0b1010'"
      ]
     },
     "execution_count": 25,
     "metadata": {},
     "output_type": "execute_result"
    }
   ],
   "source": [
    "bin(10)"
   ]
  },
  {
   "cell_type": "code",
   "execution_count": 27,
   "id": "a8d7c152-d4ea-45b8-a53a-26fee2518043",
   "metadata": {},
   "outputs": [
    {
     "data": {
      "text/plain": [
       "4"
      ]
     },
     "execution_count": 27,
     "metadata": {},
     "output_type": "execute_result"
    }
   ],
   "source": [
    "4"
   ]
  },
  {
   "cell_type": "code",
   "execution_count": 29,
   "id": "dcf6c2b2-7b8a-445b-93e5-e78114d866e6",
   "metadata": {},
   "outputs": [
    {
     "data": {
      "text/plain": [
       "'0b100'"
      ]
     },
     "execution_count": 29,
     "metadata": {},
     "output_type": "execute_result"
    }
   ],
   "source": [
    "bin(4)"
   ]
  },
  {
   "cell_type": "code",
   "execution_count": 31,
   "id": "ad5cb55f-e394-46a1-abea-a6fc6c36c600",
   "metadata": {},
   "outputs": [
    {
     "data": {
      "text/plain": [
       "0"
      ]
     },
     "execution_count": 31,
     "metadata": {},
     "output_type": "execute_result"
    }
   ],
   "source": [
    "10 & 4"
   ]
  },
  {
   "cell_type": "code",
   "execution_count": 33,
   "id": "606f7bf5-48de-4992-84f5-ebff250bf242",
   "metadata": {},
   "outputs": [
    {
     "data": {
      "text/plain": [
       "14"
      ]
     },
     "execution_count": 33,
     "metadata": {},
     "output_type": "execute_result"
    }
   ],
   "source": [
    "10 | 4"
   ]
  },
  {
   "cell_type": "code",
   "execution_count": 35,
   "id": "7fbfa87e-00de-42e1-a385-e1e2ac7adb9e",
   "metadata": {},
   "outputs": [
    {
     "data": {
      "text/plain": [
       "14"
      ]
     },
     "execution_count": 35,
     "metadata": {},
     "output_type": "execute_result"
    }
   ],
   "source": [
    "10 ^ 4"
   ]
  },
  {
   "cell_type": "markdown",
   "id": "d8ceba50-9e7d-4ba9-86ff-b9c654cda86b",
   "metadata": {},
   "source": [
    "# Special Operators\n",
    "* Membership Operators : in   , not in\n",
    "* Identity Operators : is  , not is"
   ]
  },
  {
   "cell_type": "code",
   "execution_count": 38,
   "id": "3e26ac65-33d4-4c5a-996f-7a1d62f26ee7",
   "metadata": {},
   "outputs": [
    {
     "data": {
      "text/plain": [
       "False"
      ]
     },
     "execution_count": 38,
     "metadata": {},
     "output_type": "execute_result"
    }
   ],
   "source": [
    "'m' in \"Good Morning\""
   ]
  },
  {
   "cell_type": "code",
   "execution_count": 42,
   "id": "a7ee5b53-0460-4814-a25f-7a514721694f",
   "metadata": {},
   "outputs": [
    {
     "data": {
      "text/plain": [
       "True"
      ]
     },
     "execution_count": 42,
     "metadata": {},
     "output_type": "execute_result"
    }
   ],
   "source": [
    "'M' in \"Good Morning\""
   ]
  },
  {
   "cell_type": "code",
   "execution_count": 48,
   "id": "24915523-f7bf-416a-8cbd-f2806461a458",
   "metadata": {},
   "outputs": [
    {
     "data": {
      "text/plain": [
       "False"
      ]
     },
     "execution_count": 48,
     "metadata": {},
     "output_type": "execute_result"
    }
   ],
   "source": [
    "'M' not in \"Good Morning\""
   ]
  },
  {
   "cell_type": "code",
   "execution_count": null,
   "id": "6cde6c15-e653-4d4d-a142-755c5f141e7b",
   "metadata": {},
   "outputs": [],
   "source": []
  },
  {
   "cell_type": "code",
   "execution_count": 50,
   "id": "7c708629-3b02-4e4a-81b0-9f055ec72c67",
   "metadata": {},
   "outputs": [],
   "source": [
    "a = 100"
   ]
  },
  {
   "cell_type": "code",
   "execution_count": 52,
   "id": "8c8d0c45-490f-4c62-adcc-b0c9d65a8b67",
   "metadata": {},
   "outputs": [],
   "source": [
    "b = 200"
   ]
  },
  {
   "cell_type": "code",
   "execution_count": 54,
   "id": "c2a42f78-b588-4a98-95d5-590497d08344",
   "metadata": {},
   "outputs": [
    {
     "data": {
      "text/plain": [
       "False"
      ]
     },
     "execution_count": 54,
     "metadata": {},
     "output_type": "execute_result"
    }
   ],
   "source": [
    "a == b"
   ]
  },
  {
   "cell_type": "code",
   "execution_count": 56,
   "id": "bf918ee1-8552-403d-826c-f17312826fc4",
   "metadata": {},
   "outputs": [
    {
     "data": {
      "text/plain": [
       "140721729783320"
      ]
     },
     "execution_count": 56,
     "metadata": {},
     "output_type": "execute_result"
    }
   ],
   "source": [
    "id(a)"
   ]
  },
  {
   "cell_type": "code",
   "execution_count": 58,
   "id": "1b80afc1-521b-4a5f-b2a3-2f105ae2dfa9",
   "metadata": {},
   "outputs": [
    {
     "data": {
      "text/plain": [
       "140721729786520"
      ]
     },
     "execution_count": 58,
     "metadata": {},
     "output_type": "execute_result"
    }
   ],
   "source": [
    "id(b)"
   ]
  },
  {
   "cell_type": "code",
   "execution_count": 60,
   "id": "f26c29c1-4376-444b-8974-37d98ac4c851",
   "metadata": {},
   "outputs": [
    {
     "data": {
      "text/plain": [
       "False"
      ]
     },
     "execution_count": 60,
     "metadata": {},
     "output_type": "execute_result"
    }
   ],
   "source": [
    "a is b"
   ]
  },
  {
   "cell_type": "code",
   "execution_count": 62,
   "id": "8dce733f-512f-4167-a7b4-d43fe65a5f69",
   "metadata": {},
   "outputs": [],
   "source": [
    "c = 200"
   ]
  },
  {
   "cell_type": "code",
   "execution_count": 64,
   "id": "11e2262c-db32-4b2f-b6dc-a2a3cd0592e9",
   "metadata": {},
   "outputs": [
    {
     "data": {
      "text/plain": [
       "True"
      ]
     },
     "execution_count": 64,
     "metadata": {},
     "output_type": "execute_result"
    }
   ],
   "source": [
    "c is b"
   ]
  },
  {
   "cell_type": "code",
   "execution_count": 66,
   "id": "f0cefd45-e93d-4dad-b372-c78180edbc5e",
   "metadata": {},
   "outputs": [
    {
     "data": {
      "text/plain": [
       "140721729786520"
      ]
     },
     "execution_count": 66,
     "metadata": {},
     "output_type": "execute_result"
    }
   ],
   "source": [
    "id(c)"
   ]
  },
  {
   "cell_type": "code",
   "execution_count": 68,
   "id": "e0743d1e-da10-448b-a37b-64dbce1b4a63",
   "metadata": {},
   "outputs": [
    {
     "data": {
      "text/plain": [
       "True"
      ]
     },
     "execution_count": 68,
     "metadata": {},
     "output_type": "execute_result"
    }
   ],
   "source": [
    "a is not b"
   ]
  },
  {
   "cell_type": "code",
   "execution_count": null,
   "id": "99b27d50-a2e6-4dc8-a53e-6d18ee9d4b2f",
   "metadata": {},
   "outputs": [],
   "source": []
  }
 ],
 "metadata": {
  "kernelspec": {
   "display_name": "Python 3 (ipykernel)",
   "language": "python",
   "name": "python3"
  },
  "language_info": {
   "codemirror_mode": {
    "name": "ipython",
    "version": 3
   },
   "file_extension": ".py",
   "mimetype": "text/x-python",
   "name": "python",
   "nbconvert_exporter": "python",
   "pygments_lexer": "ipython3",
   "version": "3.12.4"
  }
 },
 "nbformat": 4,
 "nbformat_minor": 5
}
