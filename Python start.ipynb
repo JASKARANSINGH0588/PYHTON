{
 "cells": [
  {
   "cell_type": "code",
   "execution_count": 1,
   "id": "d43a130b-9eb2-4f23-b436-fb9de1e96868",
   "metadata": {},
   "outputs": [],
   "source": [
    "#IDE : Intergrated Development Environment"
   ]
  },
  {
   "cell_type": "code",
   "execution_count": 3,
   "id": "4cce7cae-5e9e-4c9d-b546-4e4bb16cc305",
   "metadata": {},
   "outputs": [
    {
     "name": "stdout",
     "output_type": "stream",
     "text": [
      "10\n"
     ]
    }
   ],
   "source": [
    "print(10)"
   ]
  },
  {
   "cell_type": "code",
   "execution_count": 5,
   "id": "c45fbe9e-8a22-4c9f-84dc-b0c751b13a36",
   "metadata": {},
   "outputs": [
    {
     "name": "stdout",
     "output_type": "stream",
     "text": [
      "15\n"
     ]
    }
   ],
   "source": [
    "print(15)"
   ]
  },
  {
   "cell_type": "code",
   "execution_count": 7,
   "id": "2a6d9e47-947d-4aab-9ac1-2ca3bf693bd0",
   "metadata": {},
   "outputs": [
    {
     "name": "stdout",
     "output_type": "stream",
     "text": [
      "150\n"
     ]
    }
   ],
   "source": [
    "print(150)"
   ]
  },
  {
   "cell_type": "code",
   "execution_count": 9,
   "id": "94a5b6f0-a6ee-4c84-9795-494fc78d0cf6",
   "metadata": {},
   "outputs": [
    {
     "name": "stdout",
     "output_type": "stream",
     "text": [
      "hello student\n"
     ]
    }
   ],
   "source": [
    "print(\"hello student\")"
   ]
  },
  {
   "cell_type": "code",
   "execution_count": 11,
   "id": "38233daf-0ae7-428c-859e-84a674a868f0",
   "metadata": {},
   "outputs": [
    {
     "name": "stdout",
     "output_type": "stream",
     "text": [
      "10 20 30 14 50\n"
     ]
    }
   ],
   "source": [
    "print(10,20,30,14,50)"
   ]
  },
  {
   "cell_type": "code",
   "execution_count": 13,
   "id": "3085740a-6f59-4ebf-a73f-5fbe4ba364b4",
   "metadata": {},
   "outputs": [
    {
     "name": "stdout",
     "output_type": "stream",
     "text": [
      "hello photo data\n"
     ]
    }
   ],
   "source": [
    "print(\"hello\",\"photo\",\"data\")"
   ]
  },
  {
   "cell_type": "code",
   "execution_count": 15,
   "id": "ba882a80-7677-4198-9448-b9680f386ae1",
   "metadata": {},
   "outputs": [],
   "source": [
    "#this is comment"
   ]
  },
  {
   "cell_type": "markdown",
   "id": "a01f48d4-18ea-4452-b41e-9d52d164122b",
   "metadata": {},
   "source": [
    "this will not be executed"
   ]
  },
  {
   "cell_type": "code",
   "execution_count": 18,
   "id": "a1dddbe0-f0bf-46dd-98f8-e1c2245db5b6",
   "metadata": {},
   "outputs": [
    {
     "name": "stdout",
     "output_type": "stream",
     "text": [
      "2.3\n"
     ]
    }
   ],
   "source": [
    "print(2.3)"
   ]
  },
  {
   "cell_type": "code",
   "execution_count": 20,
   "id": "0c673b39-8b6e-47dc-ab90-3fff437b6d35",
   "metadata": {},
   "outputs": [
    {
     "name": "stdout",
     "output_type": "stream",
     "text": [
      "True\n"
     ]
    }
   ],
   "source": [
    "print(True)"
   ]
  },
  {
   "cell_type": "markdown",
   "id": "4b363aa0-4cd2-4e32-8a5e-9c58690d1d55",
   "metadata": {},
   "source": [
    "# Data types in Python\n"
   ]
  },
  {
   "cell_type": "markdown",
   "id": "3667d226-410a-4036-a148-72df5b7b4c10",
   "metadata": {},
   "source": [
    "* INT"
   ]
  },
  {
   "cell_type": "markdown",
   "id": "f35468e9-87a6-4a3b-8658-5b15f2c3b819",
   "metadata": {},
   "source": [
    "* String"
   ]
  },
  {
   "cell_type": "markdown",
   "id": "9d8bf545-f846-4221-bd4b-a269d3f274ac",
   "metadata": {},
   "source": [
    "* Boolen"
   ]
  },
  {
   "cell_type": "markdown",
   "id": "e7d2f521-b39d-480a-abac-c1b392f69a2a",
   "metadata": {},
   "source": [
    "* Complex"
   ]
  },
  {
   "cell_type": "markdown",
   "id": "fc930d3f-195a-48ae-ac54-190756c23045",
   "metadata": {},
   "source": [
    "* None"
   ]
  },
  {
   "cell_type": "markdown",
   "id": "975ed727-45ba-40e6-8280-4f815e6b5016",
   "metadata": {},
   "source": [
    "* Float"
   ]
  },
  {
   "cell_type": "code",
   "execution_count": 33,
   "id": "6c84647a-43b0-4ca6-a46b-000a6e1d3614",
   "metadata": {},
   "outputs": [],
   "source": [
    "# int : perfect number"
   ]
  },
  {
   "cell_type": "code",
   "execution_count": 35,
   "id": "9710e3a6-7815-4c7c-adcf-5c01b1bbd968",
   "metadata": {},
   "outputs": [],
   "source": [
    "# float : point/decimal number"
   ]
  },
  {
   "cell_type": "code",
   "execution_count": 39,
   "id": "57b983bd-0f65-46c0-9c04-f1e5927e9e10",
   "metadata": {},
   "outputs": [],
   "source": [
    "# string : anything which can we write inside the quotes is known as string\n",
    "# 'data\"\n",
    "# \"machine\"\n",
    "# \"\"\"computer\"\"\"\n",
    "# \"12\""
   ]
  },
  {
   "cell_type": "code",
   "execution_count": 41,
   "id": "92129aa7-9fcd-4434-a1aa-34f22f1de27b",
   "metadata": {},
   "outputs": [],
   "source": [
    "# variable : is a place holder for storing data or information"
   ]
  },
  {
   "cell_type": "code",
   "execution_count": 43,
   "id": "e39d2ec1-6275-44d3-a5db-ff8c16d49ab4",
   "metadata": {},
   "outputs": [],
   "source": [
    "a = 10"
   ]
  },
  {
   "cell_type": "code",
   "execution_count": 45,
   "id": "0a9779b2-1409-49eb-acc4-03dcb58a7ccc",
   "metadata": {},
   "outputs": [],
   "source": [
    "v = 12"
   ]
  },
  {
   "cell_type": "code",
   "execution_count": 47,
   "id": "f6561e4e-82bd-46f9-a080-cfc2d61daab1",
   "metadata": {},
   "outputs": [],
   "source": [
    "d = 150"
   ]
  },
  {
   "cell_type": "code",
   "execution_count": 51,
   "id": "96acb290-36d0-4df0-a256-ecbd8489231d",
   "metadata": {},
   "outputs": [],
   "source": [
    "p = 200"
   ]
  },
  {
   "cell_type": "code",
   "execution_count": 53,
   "id": "6343649b-9685-4d0b-858e-b7a5f1e7e094",
   "metadata": {},
   "outputs": [
    {
     "data": {
      "text/plain": [
       "int"
      ]
     },
     "execution_count": 53,
     "metadata": {},
     "output_type": "execute_result"
    }
   ],
   "source": [
    "type(a)"
   ]
  },
  {
   "cell_type": "code",
   "execution_count": 57,
   "id": "b1ebd918-0ad8-409d-bbd5-87eee99acd53",
   "metadata": {},
   "outputs": [
    {
     "data": {
      "text/plain": [
       "int"
      ]
     },
     "execution_count": 57,
     "metadata": {},
     "output_type": "execute_result"
    }
   ],
   "source": [
    "type(v)"
   ]
  },
  {
   "cell_type": "code",
   "execution_count": 59,
   "id": "1c5ceb22-fc87-49df-ad6d-018cbe7a1203",
   "metadata": {},
   "outputs": [
    {
     "data": {
      "text/plain": [
       "int"
      ]
     },
     "execution_count": 59,
     "metadata": {},
     "output_type": "execute_result"
    }
   ],
   "source": [
    "type(d)"
   ]
  },
  {
   "cell_type": "code",
   "execution_count": 61,
   "id": "60a74cd8-5ec4-4982-b021-99214d853984",
   "metadata": {},
   "outputs": [
    {
     "data": {
      "text/plain": [
       "int"
      ]
     },
     "execution_count": 61,
     "metadata": {},
     "output_type": "execute_result"
    }
   ],
   "source": [
    "type(p)"
   ]
  },
  {
   "cell_type": "code",
   "execution_count": 63,
   "id": "e29b749a-2543-462a-a852-7e9f5e655200",
   "metadata": {},
   "outputs": [],
   "source": [
    "b = 2.3"
   ]
  },
  {
   "cell_type": "code",
   "execution_count": 65,
   "id": "8c5393b9-0ba6-4411-948c-65e233c3d667",
   "metadata": {},
   "outputs": [
    {
     "data": {
      "text/plain": [
       "float"
      ]
     },
     "execution_count": 65,
     "metadata": {},
     "output_type": "execute_result"
    }
   ],
   "source": [
    "type(b)"
   ]
  },
  {
   "cell_type": "code",
   "execution_count": 67,
   "id": "95c3d693-6d31-4ac2-9580-82917d653df2",
   "metadata": {},
   "outputs": [],
   "source": [
    "r = \"hello world\""
   ]
  },
  {
   "cell_type": "code",
   "execution_count": 69,
   "id": "de5021a7-1101-42c6-90a9-a8f59efc739f",
   "metadata": {},
   "outputs": [
    {
     "data": {
      "text/plain": [
       "str"
      ]
     },
     "execution_count": 69,
     "metadata": {},
     "output_type": "execute_result"
    }
   ],
   "source": [
    "type(r)"
   ]
  },
  {
   "cell_type": "code",
   "execution_count": 71,
   "id": "58bc8a50-0b9f-4b8d-8bda-755dac567577",
   "metadata": {},
   "outputs": [],
   "source": [
    "k = \"56\""
   ]
  },
  {
   "cell_type": "code",
   "execution_count": 73,
   "id": "b3bed20c-8562-4914-bfd0-85f4dce35f66",
   "metadata": {},
   "outputs": [
    {
     "data": {
      "text/plain": [
       "str"
      ]
     },
     "execution_count": 73,
     "metadata": {},
     "output_type": "execute_result"
    }
   ],
   "source": [
    "type(k)"
   ]
  },
  {
   "cell_type": "code",
   "execution_count": 75,
   "id": "312742d9-6eed-4ae8-a6e6-99e6acb552af",
   "metadata": {},
   "outputs": [],
   "source": [
    "# Boolean : True/False"
   ]
  },
  {
   "cell_type": "code",
   "execution_count": 77,
   "id": "9650303b-91d1-4193-9f07-2471e0aa3415",
   "metadata": {},
   "outputs": [],
   "source": [
    "y= True"
   ]
  },
  {
   "cell_type": "code",
   "execution_count": 79,
   "id": "58c7a3fd-857a-4088-8ea7-3ab101b031ac",
   "metadata": {},
   "outputs": [
    {
     "data": {
      "text/plain": [
       "bool"
      ]
     },
     "execution_count": 79,
     "metadata": {},
     "output_type": "execute_result"
    }
   ],
   "source": [
    "type(y)"
   ]
  },
  {
   "cell_type": "code",
   "execution_count": 81,
   "id": "f60d9e4b-acbc-4801-b30b-440835e7f5eb",
   "metadata": {},
   "outputs": [],
   "source": [
    "o = False"
   ]
  },
  {
   "cell_type": "code",
   "execution_count": 83,
   "id": "74405b4e-c86c-4107-becd-f8330046da4d",
   "metadata": {},
   "outputs": [
    {
     "data": {
      "text/plain": [
       "bool"
      ]
     },
     "execution_count": 83,
     "metadata": {},
     "output_type": "execute_result"
    }
   ],
   "source": [
    "type(o)"
   ]
  },
  {
   "cell_type": "code",
   "execution_count": 85,
   "id": "e515b3ba-797c-4dc2-985e-1e7bf0205068",
   "metadata": {},
   "outputs": [],
   "source": [
    "# complex"
   ]
  },
  {
   "cell_type": "code",
   "execution_count": 87,
   "id": "3c6fa8bd-5bc4-46b8-bf9a-5c359e32bfd0",
   "metadata": {},
   "outputs": [],
   "source": [
    "x = 7+1j"
   ]
  },
  {
   "cell_type": "code",
   "execution_count": 89,
   "id": "d95f0f9e-5043-43fc-85f5-395296f342b7",
   "metadata": {},
   "outputs": [
    {
     "data": {
      "text/plain": [
       "complex"
      ]
     },
     "execution_count": 89,
     "metadata": {},
     "output_type": "execute_result"
    }
   ],
   "source": [
    "type(x)"
   ]
  },
  {
   "cell_type": "code",
   "execution_count": 91,
   "id": "64d80159-6148-47ec-b561-d2e93efc05dd",
   "metadata": {},
   "outputs": [
    {
     "data": {
      "text/plain": [
       "1.0"
      ]
     },
     "execution_count": 91,
     "metadata": {},
     "output_type": "execute_result"
    }
   ],
   "source": [
    "x.imag"
   ]
  },
  {
   "cell_type": "code",
   "execution_count": 93,
   "id": "f0625ab4-9b8a-46e5-b005-63c9ae4a7bd6",
   "metadata": {},
   "outputs": [
    {
     "data": {
      "text/plain": [
       "7.0"
      ]
     },
     "execution_count": 93,
     "metadata": {},
     "output_type": "execute_result"
    }
   ],
   "source": [
    "x.real"
   ]
  },
  {
   "cell_type": "code",
   "execution_count": 97,
   "id": "86b29795-0057-4a27-a8fb-532b1d0b6f0c",
   "metadata": {},
   "outputs": [],
   "source": [
    "h = None"
   ]
  },
  {
   "cell_type": "code",
   "execution_count": 99,
   "id": "7f439633-ca27-4e8d-85db-ca8297b7b018",
   "metadata": {},
   "outputs": [
    {
     "data": {
      "text/plain": [
       "NoneType"
      ]
     },
     "execution_count": 99,
     "metadata": {},
     "output_type": "execute_result"
    }
   ],
   "source": [
    "type(h)"
   ]
  },
  {
   "cell_type": "code",
   "execution_count": 101,
   "id": "45f67690-541e-4677-8960-a133dfd8887c",
   "metadata": {},
   "outputs": [],
   "source": [
    "# python is dynamic in nature "
   ]
  },
  {
   "cell_type": "code",
   "execution_count": 105,
   "id": "9705e62c-6d3a-43a2-bc9f-b8dc2ef55905",
   "metadata": {},
   "outputs": [],
   "source": [
    "h = 10"
   ]
  },
  {
   "cell_type": "code",
   "execution_count": 109,
   "id": "8deccfbf-7562-4c05-a0f0-6b91dfd68a2d",
   "metadata": {},
   "outputs": [
    {
     "data": {
      "text/plain": [
       "int"
      ]
     },
     "execution_count": 109,
     "metadata": {},
     "output_type": "execute_result"
    }
   ],
   "source": [
    "type(h)"
   ]
  },
  {
   "cell_type": "code",
   "execution_count": 111,
   "id": "97fcdae6-3465-45ac-89e5-8f001f16b579",
   "metadata": {},
   "outputs": [],
   "source": [
    "h = \"mobile\""
   ]
  },
  {
   "cell_type": "code",
   "execution_count": 113,
   "id": "e26ab401-862a-4042-9f16-1d52f423595d",
   "metadata": {},
   "outputs": [
    {
     "data": {
      "text/plain": [
       "str"
      ]
     },
     "execution_count": 113,
     "metadata": {},
     "output_type": "execute_result"
    }
   ],
   "source": [
    "type(h)"
   ]
  },
  {
   "cell_type": "code",
   "execution_count": 117,
   "id": "8e886385-87dc-41f6-bc0e-d01a45ad74a8",
   "metadata": {},
   "outputs": [],
   "source": [
    "h = False"
   ]
  },
  {
   "cell_type": "markdown",
   "id": "5d58e601-d0ea-4510-8516-821ee15f67a5",
   "metadata": {},
   "source": [
    "type(h)"
   ]
  },
  {
   "cell_type": "markdown",
   "id": "1e0b5bd4-70f7-470a-9365-1056ea6f34fc",
   "metadata": {},
   "source": [
    "# rules:\n",
    "* lowercase + uppercase + digits + underscore\n",
    "* we can not start with digits\n",
    "* inbuilt keywords are never used "
   ]
  },
  {
   "cell_type": "code",
   "execution_count": 2,
   "id": "38b48f69-7440-481c-9245-5feb36e5c9b0",
   "metadata": {},
   "outputs": [],
   "source": [
    "y = 13"
   ]
  },
  {
   "cell_type": "code",
   "execution_count": 4,
   "id": "4da0747a-891b-4a4e-a459-88b5942b428f",
   "metadata": {},
   "outputs": [],
   "source": [
    "Y = 15"
   ]
  },
  {
   "cell_type": "code",
   "execution_count": 6,
   "id": "d4604893-8adf-40d3-8f07-030818fc6724",
   "metadata": {},
   "outputs": [],
   "source": [
    "abc_123 = 456"
   ]
  },
  {
   "cell_type": "code",
   "execution_count": 8,
   "id": "3ab834b9-d2a1-4b12-b79a-9f61e6c0c584",
   "metadata": {},
   "outputs": [
    {
     "ename": "SyntaxError",
     "evalue": "invalid decimal literal (3200387425.py, line 1)",
     "output_type": "error",
     "traceback": [
      "\u001b[1;36m  Cell \u001b[1;32mIn[8], line 1\u001b[1;36m\u001b[0m\n\u001b[1;33m    1abx = 45\u001b[0m\n\u001b[1;37m    ^\u001b[0m\n\u001b[1;31mSyntaxError\u001b[0m\u001b[1;31m:\u001b[0m invalid decimal literal\n"
     ]
    }
   ],
   "source": [
    "1abx = 45"
   ]
  },
  {
   "cell_type": "code",
   "execution_count": 10,
   "id": "ec38b56c-570d-4da2-893c-4cefad875446",
   "metadata": {},
   "outputs": [],
   "source": [
    "_ = 41"
   ]
  },
  {
   "cell_type": "code",
   "execution_count": 12,
   "id": "3ebd122c-dc04-4dc2-9b5b-d5843f16b6f9",
   "metadata": {},
   "outputs": [
    {
     "name": "stdout",
     "output_type": "stream",
     "text": [
      "41\n"
     ]
    }
   ],
   "source": [
    "print(_)"
   ]
  },
  {
   "cell_type": "code",
   "execution_count": 14,
   "id": "1cf998a4-3843-4809-a09d-f685c0e5a4cd",
   "metadata": {},
   "outputs": [],
   "source": [
    "type = 452 # invalid \n"
   ]
  },
  {
   "cell_type": "markdown",
   "id": "85148d23-629f-4d2b-8831-5c551451f212",
   "metadata": {},
   "source": [
    "# PYTHON STATEMENTS\n",
    "* single line statements\n",
    "* multiline statements"
   ]
  },
  {
   "cell_type": "code",
   "execution_count": 17,
   "id": "1d3c7301-34a0-4c10-a318-0949c3fec780",
   "metadata": {},
   "outputs": [],
   "source": [
    "r = 45"
   ]
  },
  {
   "cell_type": "code",
   "execution_count": 19,
   "id": "4a506e34-cd17-454e-a216-ea1a0710a74a",
   "metadata": {},
   "outputs": [],
   "source": [
    "s = 10"
   ]
  },
  {
   "cell_type": "code",
   "execution_count": 21,
   "id": "a7dfc348-4856-4b61-bbd8-b1b4cfdd2944",
   "metadata": {},
   "outputs": [],
   "source": [
    "a = 79"
   ]
  },
  {
   "cell_type": "code",
   "execution_count": 23,
   "id": "c67642c2-e308-4497-b12e-30c03fcf867a",
   "metadata": {},
   "outputs": [],
   "source": [
    "z = \"pyhton is fun\""
   ]
  },
  {
   "cell_type": "code",
   "execution_count": 25,
   "id": "c95a5cfb-2eda-4f1d-b53a-9b1ef3879457",
   "metadata": {},
   "outputs": [],
   "source": [
    "a = (1+2+3+\n",
    "     4+5+6+\n",
    "     7+8+9)"
   ]
  },
  {
   "cell_type": "code",
   "execution_count": 27,
   "id": "857df39e-2c6d-4223-a5b1-0d71a8bfbe8c",
   "metadata": {},
   "outputs": [
    {
     "data": {
      "text/plain": [
       "45"
      ]
     },
     "execution_count": 27,
     "metadata": {},
     "output_type": "execute_result"
    }
   ],
   "source": [
    "a "
   ]
  },
  {
   "cell_type": "code",
   "execution_count": 31,
   "id": "e0429280-d9ff-4840-83fc-01defb115df4",
   "metadata": {},
   "outputs": [],
   "source": [
    "g = 1+2+3+\\\n",
    "4+5+6+\\\n",
    "7+8+9+1"
   ]
  },
  {
   "cell_type": "code",
   "execution_count": 33,
   "id": "9fb4f6cf-11de-4852-b636-d563fe0c7532",
   "metadata": {},
   "outputs": [
    {
     "data": {
      "text/plain": [
       "46"
      ]
     },
     "execution_count": 33,
     "metadata": {},
     "output_type": "execute_result"
    }
   ],
   "source": [
    "g"
   ]
  },
  {
   "cell_type": "code",
   "execution_count": 6,
   "id": "84a09e45-5fd2-49fd-8021-cd44b7f18915",
   "metadata": {},
   "outputs": [
    {
     "name": "stdin",
     "output_type": "stream",
     "text": [
      " narwal\n"
     ]
    }
   ],
   "source": [
    "word = input()"
   ]
  },
  {
   "cell_type": "code",
   "execution_count": 8,
   "id": "66d7d997-697b-41ee-b863-101c04f76a7b",
   "metadata": {},
   "outputs": [
    {
     "data": {
      "text/plain": [
       "'narwal'"
      ]
     },
     "execution_count": 8,
     "metadata": {},
     "output_type": "execute_result"
    }
   ],
   "source": [
    "word"
   ]
  },
  {
   "cell_type": "code",
   "execution_count": 3,
   "id": "f7e2740b-98cc-423f-89a5-57bc948f7784",
   "metadata": {},
   "outputs": [
    {
     "name": "stdin",
     "output_type": "stream",
     "text": [
      "Enter your name: jatt\n"
     ]
    }
   ],
   "source": [
    "name = input(\"Enter your name:\") # by default string"
   ]
  },
  {
   "cell_type": "code",
   "execution_count": 5,
   "id": "7b355275-d427-4095-a704-cd83d4d01b71",
   "metadata": {},
   "outputs": [
    {
     "data": {
      "text/plain": [
       "'jatt'"
      ]
     },
     "execution_count": 5,
     "metadata": {},
     "output_type": "execute_result"
    }
   ],
   "source": [
    "name"
   ]
  },
  {
   "cell_type": "code",
   "execution_count": 7,
   "id": "e3d4a391-81a0-4f1c-8756-9903462379a6",
   "metadata": {
    "scrolled": true
   },
   "outputs": [
    {
     "data": {
      "text/plain": [
       "str"
      ]
     },
     "execution_count": 7,
     "metadata": {},
     "output_type": "execute_result"
    }
   ],
   "source": [
    "type(name)"
   ]
  },
  {
   "cell_type": "code",
   "execution_count": 9,
   "id": "f8a3388f-ed68-4426-bad7-0294b62b83b0",
   "metadata": {},
   "outputs": [
    {
     "name": "stdin",
     "output_type": "stream",
     "text": [
      "enter your age: 24\n"
     ]
    }
   ],
   "source": [
    "age = input(\"enter your age:\")"
   ]
  },
  {
   "cell_type": "code",
   "execution_count": 11,
   "id": "87d3994c-2b11-492a-aa10-d3a971d6e787",
   "metadata": {},
   "outputs": [
    {
     "data": {
      "text/plain": [
       "str"
      ]
     },
     "execution_count": 11,
     "metadata": {},
     "output_type": "execute_result"
    }
   ],
   "source": [
    "type(age)"
   ]
  },
  {
   "cell_type": "code",
   "execution_count": 10,
   "id": "3eb91b74-61c6-4499-a411-14c989d63ad0",
   "metadata": {},
   "outputs": [],
   "source": [
    "# typecasting : means converting one datatype into another datatype"
   ]
  },
  {
   "cell_type": "code",
   "execution_count": 15,
   "id": "e1fdb588-012e-4efb-9560-0a5c35d36b01",
   "metadata": {},
   "outputs": [
    {
     "data": {
      "text/plain": [
       "'24'"
      ]
     },
     "execution_count": 15,
     "metadata": {},
     "output_type": "execute_result"
    }
   ],
   "source": [
    "age"
   ]
  },
  {
   "cell_type": "code",
   "execution_count": 17,
   "id": "703449fe-9ba6-4adf-96a1-b99e7dbd1d47",
   "metadata": {},
   "outputs": [],
   "source": [
    "age = int(age)"
   ]
  },
  {
   "cell_type": "code",
   "execution_count": 19,
   "id": "d1afcead-e6eb-486b-b2a2-19a2034dabf9",
   "metadata": {},
   "outputs": [
    {
     "data": {
      "text/plain": [
       "24"
      ]
     },
     "execution_count": 19,
     "metadata": {},
     "output_type": "execute_result"
    }
   ],
   "source": [
    "age"
   ]
  },
  {
   "cell_type": "code",
   "execution_count": 21,
   "id": "81514e1a-5b9b-4011-ba49-368f18704a4d",
   "metadata": {},
   "outputs": [
    {
     "data": {
      "text/plain": [
       "int"
      ]
     },
     "execution_count": 21,
     "metadata": {},
     "output_type": "execute_result"
    }
   ],
   "source": [
    "type(age)"
   ]
  },
  {
   "cell_type": "code",
   "execution_count": 23,
   "id": "410abfe2-5e05-42c7-af37-de18d6c18a62",
   "metadata": {},
   "outputs": [],
   "source": [
    "age = float(age)"
   ]
  },
  {
   "cell_type": "code",
   "execution_count": 25,
   "id": "71286c83-220f-47b0-a869-8a63cb03f9b3",
   "metadata": {},
   "outputs": [
    {
     "data": {
      "text/plain": [
       "24.0"
      ]
     },
     "execution_count": 25,
     "metadata": {},
     "output_type": "execute_result"
    }
   ],
   "source": [
    "age"
   ]
  },
  {
   "cell_type": "code",
   "execution_count": 27,
   "id": "907e0db7-deac-43a0-94e0-4fcdddd1af19",
   "metadata": {},
   "outputs": [
    {
     "data": {
      "text/plain": [
       "float"
      ]
     },
     "execution_count": 27,
     "metadata": {},
     "output_type": "execute_result"
    }
   ],
   "source": [
    "type(age)"
   ]
  },
  {
   "cell_type": "code",
   "execution_count": 29,
   "id": "57d3ea56-6834-4e16-9c69-d55c7f1de058",
   "metadata": {},
   "outputs": [],
   "source": [
    "age = complex(age)"
   ]
  },
  {
   "cell_type": "code",
   "execution_count": 31,
   "id": "dd4eaeff-289c-4c6b-82b3-333aa2e28a01",
   "metadata": {},
   "outputs": [
    {
     "data": {
      "text/plain": [
       "(24+0j)"
      ]
     },
     "execution_count": 31,
     "metadata": {},
     "output_type": "execute_result"
    }
   ],
   "source": [
    "age"
   ]
  },
  {
   "cell_type": "code",
   "execution_count": 33,
   "id": "91a933b4-acd3-4a7f-a283-14e3f1b4a11d",
   "metadata": {},
   "outputs": [
    {
     "data": {
      "text/plain": [
       "complex"
      ]
     },
     "execution_count": 33,
     "metadata": {},
     "output_type": "execute_result"
    }
   ],
   "source": [
    "type(age)"
   ]
  },
  {
   "cell_type": "code",
   "execution_count": 35,
   "id": "5edb105a-2995-491c-b286-806c59450670",
   "metadata": {},
   "outputs": [],
   "source": [
    "age = str(age)"
   ]
  },
  {
   "cell_type": "code",
   "execution_count": 37,
   "id": "ec6722db-1caf-48cf-b669-126237c856c4",
   "metadata": {},
   "outputs": [
    {
     "data": {
      "text/plain": [
       "'(24+0j)'"
      ]
     },
     "execution_count": 37,
     "metadata": {},
     "output_type": "execute_result"
    }
   ],
   "source": [
    "age"
   ]
  },
  {
   "cell_type": "code",
   "execution_count": 39,
   "id": "8ef36874-9dd0-40c8-b9d4-4f8277a51657",
   "metadata": {},
   "outputs": [
    {
     "data": {
      "text/plain": [
       "str"
      ]
     },
     "execution_count": 39,
     "metadata": {},
     "output_type": "execute_result"
    }
   ],
   "source": [
    "type(age)"
   ]
  },
  {
   "cell_type": "code",
   "execution_count": 41,
   "id": "7d2170ec-52ae-4f37-9fa4-4b46329b78ce",
   "metadata": {},
   "outputs": [
    {
     "name": "stdin",
     "output_type": "stream",
     "text": [
      "enter your marks 33\n"
     ]
    }
   ],
   "source": [
    "marks = int(input(\"enter your marks\"))"
   ]
  },
  {
   "cell_type": "code",
   "execution_count": 43,
   "id": "66efa7a2-9a6f-4086-840e-57e7d44432ff",
   "metadata": {},
   "outputs": [
    {
     "data": {
      "text/plain": [
       "33"
      ]
     },
     "execution_count": 43,
     "metadata": {},
     "output_type": "execute_result"
    }
   ],
   "source": [
    "marks"
   ]
  },
  {
   "cell_type": "code",
   "execution_count": 45,
   "id": "4152d320-3fac-4ea9-8faa-05e903d1182f",
   "metadata": {},
   "outputs": [
    {
     "data": {
      "text/plain": [
       "int"
      ]
     },
     "execution_count": 45,
     "metadata": {},
     "output_type": "execute_result"
    }
   ],
   "source": [
    "type(marks)"
   ]
  },
  {
   "cell_type": "code",
   "execution_count": 5,
   "id": "18f362ae-2c46-461b-bc47-47b926434ddf",
   "metadata": {},
   "outputs": [
    {
     "name": "stdin",
     "output_type": "stream",
     "text": [
      " we are learning pyhton\n"
     ]
    }
   ],
   "source": [
    "cent = input(\"\")\n"
   ]
  },
  {
   "cell_type": "code",
   "execution_count": 7,
   "id": "c37ce382-677f-4497-805b-50e4090b97ed",
   "metadata": {},
   "outputs": [
    {
     "data": {
      "text/plain": [
       "'we are learning pyhton'"
      ]
     },
     "execution_count": 7,
     "metadata": {},
     "output_type": "execute_result"
    }
   ],
   "source": [
    "cent"
   ]
  },
  {
   "cell_type": "code",
   "execution_count": 9,
   "id": "5e476c38-4d0d-4153-a06d-f8b1f020b981",
   "metadata": {},
   "outputs": [],
   "source": [
    "aS_1 = 13"
   ]
  },
  {
   "cell_type": "code",
   "execution_count": 13,
   "id": "bcc2ab9c-f357-445d-a13f-3b3014eef9d3",
   "metadata": {},
   "outputs": [
    {
     "name": "stdin",
     "output_type": "stream",
     "text": [
      " 1,2,3,4\n"
     ]
    }
   ],
   "source": [
    "user = input(\"\")"
   ]
  },
  {
   "cell_type": "code",
   "execution_count": 15,
   "id": "589ab767-888e-40cb-ab32-cb801b78a765",
   "metadata": {},
   "outputs": [
    {
     "data": {
      "text/plain": [
       "'1,2,3,4'"
      ]
     },
     "execution_count": 15,
     "metadata": {},
     "output_type": "execute_result"
    }
   ],
   "source": [
    "user"
   ]
  },
  {
   "cell_type": "code",
   "execution_count": 1,
   "id": "6877dc20-24d4-4ec2-a77b-fd21298b718e",
   "metadata": {},
   "outputs": [],
   "source": [
    "a= 10"
   ]
  },
  {
   "cell_type": "code",
   "execution_count": 3,
   "id": "c6571f54-a3a8-4f70-9316-d634321ba8a6",
   "metadata": {},
   "outputs": [],
   "source": [
    "b = 20\n",
    "c = 30"
   ]
  },
  {
   "cell_type": "code",
   "execution_count": 5,
   "id": "e30cbbda-c0aa-4f98-b931-6cdd1126af13",
   "metadata": {},
   "outputs": [],
   "source": [
    "# f-string"
   ]
  },
  {
   "cell_type": "code",
   "execution_count": 11,
   "id": "51fb4d0e-a126-4332-99b4-7b7efc2dcc32",
   "metadata": {},
   "outputs": [
    {
     "name": "stdout",
     "output_type": "stream",
     "text": [
      "the value of a is 10 and b is  20 and c is 30\n"
     ]
    }
   ],
   "source": [
    "print(f\"the value of a is {a} and b is  {b} and c is {c}\")"
   ]
  },
  {
   "cell_type": "code",
   "execution_count": 13,
   "id": "4e2045d0-e710-4606-91cc-4669fa8b14e1",
   "metadata": {},
   "outputs": [],
   "source": [
    "name = \"jaskaran\"\n",
    "greet = \"good evening\""
   ]
  },
  {
   "cell_type": "code",
   "execution_count": 15,
   "id": "d0797742-1d71-411c-a11f-4dd41ec7d817",
   "metadata": {},
   "outputs": [
    {
     "name": "stdout",
     "output_type": "stream",
     "text": [
      "hi jaskaran and good evening\n"
     ]
    }
   ],
   "source": [
    "print(f\"hi {name} and {greet}\")"
   ]
  },
  {
   "cell_type": "code",
   "execution_count": 17,
   "id": "f5c69051-e0d0-45a4-b749-bed8033f351a",
   "metadata": {},
   "outputs": [],
   "source": [
    "# output formatting"
   ]
  },
  {
   "cell_type": "code",
   "execution_count": 19,
   "id": "d28f5447-e0fa-4220-8928-e3774466183d",
   "metadata": {},
   "outputs": [],
   "source": [
    "a = 10\n",
    "b = 20\n",
    "c = 30"
   ]
  },
  {
   "cell_type": "code",
   "execution_count": 21,
   "id": "eab3bc4d-76e1-4965-a096-1d9d7c098678",
   "metadata": {},
   "outputs": [
    {
     "name": "stdout",
     "output_type": "stream",
     "text": [
      "the value of a is 10 and b is 20 and c is 30\n"
     ]
    }
   ],
   "source": [
    "print(\"the value of a is {} and b is {} and c is {}\".format(a,b,c))"
   ]
  },
  {
   "cell_type": "code",
   "execution_count": 23,
   "id": "f57851c0-3020-401b-aec8-ceb3052e9c55",
   "metadata": {},
   "outputs": [],
   "source": [
    "name = \"pooja\"\n",
    "greet = \"good evening\""
   ]
  },
  {
   "cell_type": "code",
   "execution_count": 27,
   "id": "501edb8a-ff37-4077-854d-c60d272167d5",
   "metadata": {},
   "outputs": [
    {
     "name": "stdout",
     "output_type": "stream",
     "text": [
      "hello pooja and good evening\n"
     ]
    }
   ],
   "source": [
    "print(\"hello {} and {}\".format(name, greet))"
   ]
  },
  {
   "cell_type": "code",
   "execution_count": 29,
   "id": "56740494-66d6-4ce2-ab4f-302a74e7f1ae",
   "metadata": {},
   "outputs": [
    {
     "name": "stdout",
     "output_type": "stream",
     "text": [
      "hello good evening and pooja\n"
     ]
    }
   ],
   "source": [
    "print(\"hello {t} and {j}\".format(j = name, t = greet))"
   ]
  },
  {
   "cell_type": "code",
   "execution_count": 31,
   "id": "2392f326-ef06-46db-a05c-a79ee897e295",
   "metadata": {},
   "outputs": [
    {
     "name": "stdout",
     "output_type": "stream",
     "text": [
      "hello pooja and good evening\n"
     ]
    }
   ],
   "source": [
    "print(\"hello {t} and {j}\".format(t = name, j = greet))"
   ]
  },
  {
   "cell_type": "code",
   "execution_count": null,
   "id": "2933af40-dc4d-49a3-b5e8-b9ba0cb9aea9",
   "metadata": {},
   "outputs": [],
   "source": []
  }
 ],
 "metadata": {
  "kernelspec": {
   "display_name": "Python 3 (ipykernel)",
   "language": "python",
   "name": "python3"
  },
  "language_info": {
   "codemirror_mode": {
    "name": "ipython",
    "version": 3
   },
   "file_extension": ".py",
   "mimetype": "text/x-python",
   "name": "python",
   "nbconvert_exporter": "python",
   "pygments_lexer": "ipython3",
   "version": "3.12.4"
  }
 },
 "nbformat": 4,
 "nbformat_minor": 5
}
