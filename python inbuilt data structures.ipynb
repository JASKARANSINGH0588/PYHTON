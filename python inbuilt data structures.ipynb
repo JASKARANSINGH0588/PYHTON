{
 "cells": [
  {
   "cell_type": "markdown",
   "id": "8d80ee6f-991c-44e5-8893-73167660587b",
   "metadata": {},
   "source": [
    "# python inbuilt data structures:\n",
    "* String\n",
    "* list\n",
    "* tuple\n",
    "* set\n",
    "* dictionary"
   ]
  },
  {
   "cell_type": "markdown",
   "id": "62ba95a6-8392-4667-912e-26c5f10e7641",
   "metadata": {},
   "source": [
    "# string :\n",
    "* string in pyhton are the sequence of unicode characters\n",
    "* we can use single quotes, double quotes , even triple quotes\n",
    "* triple quotes : are generaly used in order to write multilible string\n",
    "* a string in pyhton consist of a series of sequence of characters\n",
    "* string are indexable and slicable"
   ]
  },
  {
   "cell_type": "code",
   "execution_count": null,
   "id": "760fe36f-9934-4404-8d86-d3b6e90f9bbb",
   "metadata": {},
   "outputs": [],
   "source": []
  },
  {
   "cell_type": "code",
   "execution_count": 14,
   "id": "e4874158-4491-4908-a7a4-edebfc6e833f",
   "metadata": {},
   "outputs": [],
   "source": [
    "my_str = \"welcome to the course\""
   ]
  },
  {
   "cell_type": "code",
   "execution_count": 7,
   "id": "9db2ed77-824a-4d2b-90c7-14ab3338b4a6",
   "metadata": {},
   "outputs": [
    {
     "data": {
      "text/plain": [
       "str"
      ]
     },
     "execution_count": 7,
     "metadata": {},
     "output_type": "execute_result"
    }
   ],
   "source": [
    "type(my_str)"
   ]
  },
  {
   "cell_type": "code",
   "execution_count": 9,
   "id": "605f5aa4-bdd4-4501-800b-a0e85a89eb37",
   "metadata": {},
   "outputs": [],
   "source": [
    "d = 'hello students'"
   ]
  },
  {
   "cell_type": "code",
   "execution_count": 11,
   "id": "2e4b9224-1b45-4bd6-ad36-0de911b803f1",
   "metadata": {},
   "outputs": [
    {
     "data": {
      "text/plain": [
       "str"
      ]
     },
     "execution_count": 11,
     "metadata": {},
     "output_type": "execute_result"
    }
   ],
   "source": [
    "type(d)"
   ]
  },
  {
   "cell_type": "code",
   "execution_count": 13,
   "id": "38c4ee57-df71-47be-a925-eedbf51aadc2",
   "metadata": {},
   "outputs": [],
   "source": [
    "a = \"\"\"Jatt\"\"\""
   ]
  },
  {
   "cell_type": "code",
   "execution_count": 15,
   "id": "017e4476-24d0-4e1c-83e3-4483daec4e9a",
   "metadata": {},
   "outputs": [
    {
     "data": {
      "text/plain": [
       "str"
      ]
     },
     "execution_count": 15,
     "metadata": {},
     "output_type": "execute_result"
    }
   ],
   "source": [
    "type(a)"
   ]
  },
  {
   "cell_type": "code",
   "execution_count": null,
   "id": "d5df0267-236c-4ce4-994d-dca1bfc14975",
   "metadata": {},
   "outputs": [],
   "source": []
  },
  {
   "cell_type": "code",
   "execution_count": 18,
   "id": "a789112f-5351-4bc5-b91c-4a04c8dfc653",
   "metadata": {},
   "outputs": [],
   "source": [
    "#string are indexiable and slicable"
   ]
  },
  {
   "cell_type": "code",
   "execution_count": 20,
   "id": "bf4bbba7-60c1-4704-9426-7dc2ccbd3b7c",
   "metadata": {},
   "outputs": [],
   "source": [
    "#indexiable : accessing one element at a time is known as indexing"
   ]
  },
  {
   "cell_type": "code",
   "execution_count": 22,
   "id": "293276ec-b8d0-419b-bc22-4736376cf293",
   "metadata": {},
   "outputs": [
    {
     "data": {
      "text/plain": [
       "'w'"
      ]
     },
     "execution_count": 22,
     "metadata": {},
     "output_type": "execute_result"
    }
   ],
   "source": [
    "my_str[0]"
   ]
  },
  {
   "cell_type": "code",
   "execution_count": 24,
   "id": "00e72111-12e0-4ba0-b423-c22ad47211a3",
   "metadata": {},
   "outputs": [
    {
     "data": {
      "text/plain": [
       "'t'"
      ]
     },
     "execution_count": 24,
     "metadata": {},
     "output_type": "execute_result"
    }
   ],
   "source": [
    "my_str[8]"
   ]
  },
  {
   "cell_type": "code",
   "execution_count": 26,
   "id": "727ac4e6-4386-4d55-a8d0-f741349e24b7",
   "metadata": {},
   "outputs": [
    {
     "data": {
      "text/plain": [
       "'l'"
      ]
     },
     "execution_count": 26,
     "metadata": {},
     "output_type": "execute_result"
    }
   ],
   "source": [
    "my_str[2]"
   ]
  },
  {
   "cell_type": "code",
   "execution_count": 28,
   "id": "39749aeb-6994-470f-a006-e2ef1d6b1207",
   "metadata": {},
   "outputs": [
    {
     "data": {
      "text/plain": [
       "'e'"
      ]
     },
     "execution_count": 28,
     "metadata": {},
     "output_type": "execute_result"
    }
   ],
   "source": [
    "my_str[-1]"
   ]
  },
  {
   "cell_type": "code",
   "execution_count": 16,
   "id": "ae4c84ca-8e14-464b-83eb-71c7b182dfc5",
   "metadata": {},
   "outputs": [
    {
     "data": {
      "text/plain": [
       "'welcome to the course'"
      ]
     },
     "execution_count": 16,
     "metadata": {},
     "output_type": "execute_result"
    }
   ],
   "source": [
    "my_str[0:]"
   ]
  },
  {
   "cell_type": "code",
   "execution_count": 32,
   "id": "ce8e037c-23da-4a76-a667-f28bb53627a7",
   "metadata": {},
   "outputs": [
    {
     "data": {
      "text/plain": [
       "'c'"
      ]
     },
     "execution_count": 32,
     "metadata": {},
     "output_type": "execute_result"
    }
   ],
   "source": [
    "my_str[3]"
   ]
  },
  {
   "cell_type": "code",
   "execution_count": 34,
   "id": "8e30a327-bc54-461a-ae6b-ec6cc531c38b",
   "metadata": {},
   "outputs": [
    {
     "data": {
      "text/plain": [
       "21"
      ]
     },
     "execution_count": 34,
     "metadata": {},
     "output_type": "execute_result"
    }
   ],
   "source": [
    "len(my_str)"
   ]
  },
  {
   "cell_type": "code",
   "execution_count": 36,
   "id": "7510056c-511a-4f31-8376-12991cefde17",
   "metadata": {},
   "outputs": [
    {
     "data": {
      "text/plain": [
       "'e'"
      ]
     },
     "execution_count": 36,
     "metadata": {},
     "output_type": "execute_result"
    }
   ],
   "source": [
    "my_str[20]"
   ]
  },
  {
   "cell_type": "code",
   "execution_count": null,
   "id": "af4f4ea6-9576-4245-a38a-7971d14065a4",
   "metadata": {},
   "outputs": [],
   "source": []
  },
  {
   "cell_type": "code",
   "execution_count": 39,
   "id": "4de3382e-29f6-4935-a79a-a3861d419a7e",
   "metadata": {},
   "outputs": [],
   "source": [
    "#negativr indexing : it starts from -1"
   ]
  },
  {
   "cell_type": "code",
   "execution_count": 41,
   "id": "b95fd019-589b-4f6c-ae5b-0820dcad6e93",
   "metadata": {},
   "outputs": [
    {
     "data": {
      "text/plain": [
       "'u'"
      ]
     },
     "execution_count": 41,
     "metadata": {},
     "output_type": "execute_result"
    }
   ],
   "source": [
    "my_str[-4]"
   ]
  },
  {
   "cell_type": "code",
   "execution_count": 43,
   "id": "0e4ee9d4-ca27-4e6a-8a54-6996dfc0830a",
   "metadata": {},
   "outputs": [
    {
     "data": {
      "text/plain": [
       "'t'"
      ]
     },
     "execution_count": 43,
     "metadata": {},
     "output_type": "execute_result"
    }
   ],
   "source": [
    "my_str[-13]"
   ]
  },
  {
   "cell_type": "code",
   "execution_count": null,
   "id": "246f1767-81c1-4e0c-9e0a-88e09364c645",
   "metadata": {},
   "outputs": [],
   "source": []
  },
  {
   "cell_type": "code",
   "execution_count": 46,
   "id": "57b1828f-aa42-494e-96fe-96c0b6c1ef0e",
   "metadata": {},
   "outputs": [],
   "source": [
    "#slicable : accessing multiple elements arr a time is known as slicing"
   ]
  },
  {
   "cell_type": "code",
   "execution_count": 18,
   "id": "dd8e582f-a30b-4492-ab4a-e5a02cbcecb2",
   "metadata": {},
   "outputs": [
    {
     "data": {
      "text/plain": [
       "'welcome'"
      ]
     },
     "execution_count": 18,
     "metadata": {},
     "output_type": "execute_result"
    }
   ],
   "source": [
    "my_str[0:7]"
   ]
  },
  {
   "cell_type": "code",
   "execution_count": 50,
   "id": "264433e4-996d-4965-be30-e0e726c187e4",
   "metadata": {},
   "outputs": [
    {
     "data": {
      "text/plain": [
       "'come to the '"
      ]
     },
     "execution_count": 50,
     "metadata": {},
     "output_type": "execute_result"
    }
   ],
   "source": [
    "my_str[3:15]"
   ]
  },
  {
   "cell_type": "code",
   "execution_count": 20,
   "id": "08de9b94-dbe3-4f9a-b73c-19c004428314",
   "metadata": {},
   "outputs": [
    {
     "data": {
      "text/plain": [
       "'wloet h ore'"
      ]
     },
     "execution_count": 20,
     "metadata": {},
     "output_type": "execute_result"
    }
   ],
   "source": [
    "my_str[0:21:2]"
   ]
  },
  {
   "cell_type": "code",
   "execution_count": 24,
   "id": "4c42587c-678a-4149-8626-e96eb1d5525f",
   "metadata": {},
   "outputs": [
    {
     "name": "stdout",
     "output_type": "stream",
     "text": [
      "w\n",
      "e\n",
      "l\n",
      "c\n",
      "o\n",
      "m\n",
      "e\n",
      " \n",
      "t\n",
      "o\n",
      " \n",
      "t\n",
      "h\n",
      "e\n",
      " \n",
      "c\n",
      "o\n",
      "u\n",
      "r\n",
      "s\n",
      "e\n"
     ]
    }
   ],
   "source": [
    "for i in my_str:\n",
    "    print(i)"
   ]
  },
  {
   "cell_type": "code",
   "execution_count": null,
   "id": "b6a44710-38d0-4e55-bbb0-dc129bafb3e3",
   "metadata": {},
   "outputs": [],
   "source": []
  },
  {
   "cell_type": "code",
   "execution_count": 26,
   "id": "7f19184f-3189-4251-83fc-96af7bcc62fe",
   "metadata": {},
   "outputs": [
    {
     "data": {
      "text/plain": [
       "'welcome to the course'"
      ]
     },
     "execution_count": 26,
     "metadata": {},
     "output_type": "execute_result"
    }
   ],
   "source": [
    "my_str"
   ]
  },
  {
   "cell_type": "code",
   "execution_count": 28,
   "id": "c9f8fd0e-4802-43f8-94dc-6ee3befd11e0",
   "metadata": {},
   "outputs": [
    {
     "name": "stdout",
     "output_type": "stream",
     "text": [
      "e\n",
      "o\n",
      "e\n",
      "o\n",
      "e\n",
      "o\n",
      "u\n",
      "e\n"
     ]
    }
   ],
   "source": [
    "for i in my_str:\n",
    "    if i in \"aeiou\":\n",
    "         print(i)"
   ]
  },
  {
   "cell_type": "code",
   "execution_count": 30,
   "id": "236663e5-e87b-4165-b6a1-a24db22a65b9",
   "metadata": {},
   "outputs": [
    {
     "name": "stdin",
     "output_type": "stream",
     "text": [
      "enter the string: we are learning python and sql and power bi and web development\n"
     ]
    }
   ],
   "source": [
    "my_str2 = input(\"enter the string:\")"
   ]
  },
  {
   "cell_type": "code",
   "execution_count": 32,
   "id": "622383eb-b4ef-4cf7-b223-9da818e1af0e",
   "metadata": {},
   "outputs": [],
   "source": [
    "counter = 0 \n",
    "for i in my_str2:\n",
    "    if i in \"aeiou\":\n",
    "        counter+=1"
   ]
  },
  {
   "cell_type": "code",
   "execution_count": 34,
   "id": "d1f6455d-5f7c-4798-b5c4-3fa21e45d87c",
   "metadata": {},
   "outputs": [
    {
     "data": {
      "text/plain": [
       "18"
      ]
     },
     "execution_count": 34,
     "metadata": {},
     "output_type": "execute_result"
    }
   ],
   "source": [
    "counter"
   ]
  },
  {
   "cell_type": "code",
   "execution_count": 36,
   "id": "4d00b077-f9da-497e-9bb4-708275382b3b",
   "metadata": {},
   "outputs": [
    {
     "name": "stdin",
     "output_type": "stream",
     "text": [
      "enter any word: madam\n"
     ]
    }
   ],
   "source": [
    "word = input(\"enter any word:\")"
   ]
  },
  {
   "cell_type": "code",
   "execution_count": 38,
   "id": "cd11c51f-8dca-4c40-811b-4532a48b4765",
   "metadata": {},
   "outputs": [],
   "source": [
    "#method 1"
   ]
  },
  {
   "cell_type": "code",
   "execution_count": 40,
   "id": "2b281826-a9f8-4029-bbec-9dce679e0fa5",
   "metadata": {},
   "outputs": [
    {
     "name": "stdin",
     "output_type": "stream",
     "text": [
      "enter any word: mouse\n"
     ]
    }
   ],
   "source": [
    "word = input(\"enter any word:\")"
   ]
  },
  {
   "cell_type": "code",
   "execution_count": 51,
   "id": "2428dca6-c3ec-4d0f-ad8a-22941327e666",
   "metadata": {},
   "outputs": [
    {
     "name": "stdout",
     "output_type": "stream",
     "text": [
      "the given word is plaindrom\n"
     ]
    }
   ],
   "source": [
    "if (word != word[::-1]):\n",
    "    print(\"the given word is not plaindrom\")\n",
    "else:\n",
    "    print(\"the given word is plaindrom\")"
   ]
  },
  {
   "cell_type": "code",
   "execution_count": null,
   "id": "150e7bde-0fd0-489a-a031-a8fa58d294de",
   "metadata": {},
   "outputs": [],
   "source": []
  },
  {
   "cell_type": "code",
   "execution_count": 45,
   "id": "e5366a9b-fd3b-431c-9fd3-e4d4e87597ec",
   "metadata": {},
   "outputs": [
    {
     "name": "stdin",
     "output_type": "stream",
     "text": [
      "enter any word rotor\n"
     ]
    }
   ],
   "source": [
    "word = input(\"enter any word\")"
   ]
  },
  {
   "cell_type": "code",
   "execution_count": 49,
   "id": "f6eb3ef1-34c5-48a2-83b0-289091c74597",
   "metadata": {},
   "outputs": [
    {
     "name": "stdout",
     "output_type": "stream",
     "text": [
      "the given word rotor is palindrom\n"
     ]
    }
   ],
   "source": [
    "start = 0\n",
    "end = len(word)-1\n",
    "is_palindrom = True\n",
    "\n",
    "while (start<=end):\n",
    "    if word[start] != word[end]:\n",
    "        is_palindrom = False\n",
    "        break\n",
    "\n",
    "    start+=1\n",
    "    end-=1\n",
    "\n",
    "if is_palindrom:\n",
    "    print(\"the given word {} is palindrom\".format(word))\n",
    "else:\n",
    "    print(f\"the given word {word} is not palindrom\")"
   ]
  },
  {
   "cell_type": "code",
   "execution_count": null,
   "id": "15b6eddb-eac7-43a1-83d9-be48a3acf29d",
   "metadata": {},
   "outputs": [],
   "source": []
  },
  {
   "cell_type": "code",
   "execution_count": 57,
   "id": "e5f3ef4c-a27a-4b2f-ac00-8094325f1e1e",
   "metadata": {},
   "outputs": [],
   "source": [
    "#more methods in string"
   ]
  },
  {
   "cell_type": "code",
   "execution_count": 53,
   "id": "b9638fe9-4d78-4f75-ad09-7fd730abb220",
   "metadata": {},
   "outputs": [
    {
     "data": {
      "text/plain": [
       "'WELCOME TO THE COURSE'"
      ]
     },
     "execution_count": 53,
     "metadata": {},
     "output_type": "execute_result"
    }
   ],
   "source": [
    "my_str.upper()"
   ]
  },
  {
   "cell_type": "code",
   "execution_count": 55,
   "id": "48f46663-29c7-49bb-ba1e-4f3a874a7acd",
   "metadata": {},
   "outputs": [
    {
     "data": {
      "text/plain": [
       "'Welcome To The Course'"
      ]
     },
     "execution_count": 55,
     "metadata": {},
     "output_type": "execute_result"
    }
   ],
   "source": [
    "my_str.title()"
   ]
  },
  {
   "cell_type": "code",
   "execution_count": 59,
   "id": "c90bd1b3-6af5-4b67-93df-83c6a8196aaa",
   "metadata": {},
   "outputs": [
    {
     "data": {
      "text/plain": [
       "'Welcome to the course'"
      ]
     },
     "execution_count": 59,
     "metadata": {},
     "output_type": "execute_result"
    }
   ],
   "source": [
    "my_str.capitalize()"
   ]
  },
  {
   "cell_type": "code",
   "execution_count": 61,
   "id": "70304820-42bc-410e-9d90-d74fdbf0f370",
   "metadata": {},
   "outputs": [
    {
     "data": {
      "text/plain": [
       "2"
      ]
     },
     "execution_count": 61,
     "metadata": {},
     "output_type": "execute_result"
    }
   ],
   "source": [
    "my_str.find('l')"
   ]
  },
  {
   "cell_type": "code",
   "execution_count": 63,
   "id": "fee3d0e7-6e3c-43a9-a126-23c33f51f17c",
   "metadata": {},
   "outputs": [
    {
     "data": {
      "text/plain": [
       "6"
      ]
     },
     "execution_count": 63,
     "metadata": {},
     "output_type": "execute_result"
    }
   ],
   "source": [
    "my_str.find('e' , 2)"
   ]
  },
  {
   "cell_type": "code",
   "execution_count": 65,
   "id": "0502ab94-1b18-442e-b045-ffd9a2ceb28b",
   "metadata": {},
   "outputs": [
    {
     "data": {
      "text/plain": [
       "4"
      ]
     },
     "execution_count": 65,
     "metadata": {},
     "output_type": "execute_result"
    }
   ],
   "source": [
    "my_str.count('e')"
   ]
  },
  {
   "cell_type": "code",
   "execution_count": 67,
   "id": "994f5743-c0fa-4048-808e-a30f498dee9a",
   "metadata": {},
   "outputs": [
    {
     "data": {
      "text/plain": [
       "3"
      ]
     },
     "execution_count": 67,
     "metadata": {},
     "output_type": "execute_result"
    }
   ],
   "source": [
    "my_str.count(\"o\")"
   ]
  },
  {
   "cell_type": "code",
   "execution_count": 73,
   "id": "717a5a84-abca-4661-a47d-a96d79e7534d",
   "metadata": {},
   "outputs": [
    {
     "data": {
      "text/plain": [
       "-1"
      ]
     },
     "execution_count": 73,
     "metadata": {},
     "output_type": "execute_result"
    }
   ],
   "source": [
    "my_str.find(\"mouse\")"
   ]
  },
  {
   "cell_type": "code",
   "execution_count": 75,
   "id": "ec24eee0-c1d1-4928-a8f7-99c0b28e7f15",
   "metadata": {},
   "outputs": [
    {
     "data": {
      "text/plain": [
       "['welcome', 'to', 'the', 'course']"
      ]
     },
     "execution_count": 75,
     "metadata": {},
     "output_type": "execute_result"
    }
   ],
   "source": [
    "my_str.split()"
   ]
  },
  {
   "cell_type": "code",
   "execution_count": 77,
   "id": "77765039-a825-492f-86f9-7450e4d6463e",
   "metadata": {},
   "outputs": [
    {
     "data": {
      "text/plain": [
       "['w', 'lcom', ' to th', ' cours', '']"
      ]
     },
     "execution_count": 77,
     "metadata": {},
     "output_type": "execute_result"
    }
   ],
   "source": [
    "my_str.split(\"e\")"
   ]
  },
  {
   "cell_type": "code",
   "execution_count": 79,
   "id": "fd45d77e-0fdb-44e1-8a9a-7a1160c27b50",
   "metadata": {},
   "outputs": [
    {
     "data": {
      "text/plain": [
       "['welcome ', 'o ', 'he course']"
      ]
     },
     "execution_count": 79,
     "metadata": {},
     "output_type": "execute_result"
    }
   ],
   "source": [
    "my_str.split(\"t\")"
   ]
  },
  {
   "cell_type": "code",
   "execution_count": null,
   "id": "9b750564-0b65-4166-9938-d8f2a110bbfd",
   "metadata": {},
   "outputs": [],
   "source": []
  },
  {
   "cell_type": "code",
   "execution_count": 82,
   "id": "7425d723-8c61-4cc8-8efb-d8fb27614604",
   "metadata": {},
   "outputs": [],
   "source": [
    "#few operations of string"
   ]
  },
  {
   "cell_type": "code",
   "execution_count": 84,
   "id": "e1875a8b-585a-4954-86d3-902e37af6338",
   "metadata": {},
   "outputs": [
    {
     "ename": "TypeError",
     "evalue": "can only concatenate str (not \"int\") to str",
     "output_type": "error",
     "traceback": [
      "\u001b[1;31m---------------------------------------------------------------------------\u001b[0m",
      "\u001b[1;31mTypeError\u001b[0m                                 Traceback (most recent call last)",
      "Cell \u001b[1;32mIn[84], line 1\u001b[0m\n\u001b[1;32m----> 1\u001b[0m \u001b[38;5;124m\"\u001b[39m\u001b[38;5;124mhello\u001b[39m\u001b[38;5;124m\"\u001b[39m\u001b[38;5;241m+\u001b[39m\u001b[38;5;241m5\u001b[39m\n",
      "\u001b[1;31mTypeError\u001b[0m: can only concatenate str (not \"int\") to str"
     ]
    }
   ],
   "source": [
    "\"hello\"+5"
   ]
  },
  {
   "cell_type": "code",
   "execution_count": 86,
   "id": "68ece562-d3b0-4bfa-893e-9c4b1afa224a",
   "metadata": {},
   "outputs": [
    {
     "data": {
      "text/plain": [
       "'hello5'"
      ]
     },
     "execution_count": 86,
     "metadata": {},
     "output_type": "execute_result"
    }
   ],
   "source": [
    "\"hello\" + str(5)"
   ]
  },
  {
   "cell_type": "code",
   "execution_count": 88,
   "id": "4e9d5431-8039-4efb-ae08-6d7720111209",
   "metadata": {},
   "outputs": [
    {
     "data": {
      "text/plain": [
       "'hellohellohellohellohello'"
      ]
     },
     "execution_count": 88,
     "metadata": {},
     "output_type": "execute_result"
    }
   ],
   "source": [
    "\"hello\"*5"
   ]
  },
  {
   "cell_type": "code",
   "execution_count": 90,
   "id": "272bac73-96c1-4e4c-89d4-6047e0c706c7",
   "metadata": {},
   "outputs": [
    {
     "data": {
      "text/plain": [
       "'jattjattjattjattjatt'"
      ]
     },
     "execution_count": 90,
     "metadata": {},
     "output_type": "execute_result"
    }
   ],
   "source": [
    "\"jatt\"*5"
   ]
  },
  {
   "cell_type": "code",
   "execution_count": 92,
   "id": "a378da1b-d534-49f7-b3bc-ef299dd800cb",
   "metadata": {},
   "outputs": [],
   "source": [
    "n = 5"
   ]
  },
  {
   "cell_type": "code",
   "execution_count": 96,
   "id": "a5be31b4-9d3d-4f5f-94c8-3cbb2131e74c",
   "metadata": {},
   "outputs": [
    {
     "name": "stdout",
     "output_type": "stream",
     "text": [
      "\n",
      "*\n",
      "**\n",
      "***\n",
      "****\n"
     ]
    }
   ],
   "source": [
    "for i in range(n):\n",
    "    print(\"*\"*i)"
   ]
  },
  {
   "cell_type": "code",
   "execution_count": null,
   "id": "aaef6d0d-bfc6-4586-a0c6-ae4f38bac0a7",
   "metadata": {},
   "outputs": [],
   "source": []
  },
  {
   "cell_type": "code",
   "execution_count": 2,
   "id": "bd5fd07e-aee9-4337-b57d-4bc6c8a98465",
   "metadata": {},
   "outputs": [
    {
     "name": "stdin",
     "output_type": "stream",
     "text": [
      "enter your name:  Narwal\n"
     ]
    }
   ],
   "source": [
    "name = input(\"enter your name: \")"
   ]
  },
  {
   "cell_type": "code",
   "execution_count": 4,
   "id": "aef6fc1a-748f-419f-9603-85ed9f742e6d",
   "metadata": {},
   "outputs": [],
   "source": [
    "name = name.upper()"
   ]
  },
  {
   "cell_type": "code",
   "execution_count": 6,
   "id": "0c4ef74a-296b-4d85-ba57-4248e95dee8b",
   "metadata": {},
   "outputs": [
    {
     "data": {
      "text/plain": [
       "'NARWAL'"
      ]
     },
     "execution_count": 6,
     "metadata": {},
     "output_type": "execute_result"
    }
   ],
   "source": [
    "name"
   ]
  },
  {
   "cell_type": "code",
   "execution_count": null,
   "id": "af16074b-0c50-43f9-90d2-54e8b11627f4",
   "metadata": {},
   "outputs": [],
   "source": []
  },
  {
   "cell_type": "markdown",
   "id": "7d69d065-877c-49a2-b57e-32420b9905a5",
   "metadata": {},
   "source": [
    "# LIST\n",
    "* list are collection of elements which is ordered / sequence\n",
    "* list are indexable and slicable\n",
    "* list are mutable in nature : changeable in nature\n",
    "* list can store homegenous  - similar type and hetrogeneous - different type"
   ]
  },
  {
   "cell_type": "code",
   "execution_count": 11,
   "id": "e1d20a0a-104d-4ba2-90bb-9b66b8bd33d9",
   "metadata": {},
   "outputs": [],
   "source": [
    "t  = list()"
   ]
  },
  {
   "cell_type": "code",
   "execution_count": 13,
   "id": "b168e414-812d-4d64-b72f-69820c6f689e",
   "metadata": {},
   "outputs": [
    {
     "data": {
      "text/plain": [
       "list"
      ]
     },
     "execution_count": 13,
     "metadata": {},
     "output_type": "execute_result"
    }
   ],
   "source": [
    "type(t)"
   ]
  },
  {
   "cell_type": "code",
   "execution_count": 16,
   "id": "7a788ea0-c99a-4c49-ba36-22b52be0959f",
   "metadata": {},
   "outputs": [],
   "source": [
    "r = []"
   ]
  },
  {
   "cell_type": "code",
   "execution_count": 18,
   "id": "dba79af8-c56c-43d1-9475-ab1a39c9dd76",
   "metadata": {},
   "outputs": [
    {
     "data": {
      "text/plain": [
       "list"
      ]
     },
     "execution_count": 18,
     "metadata": {},
     "output_type": "execute_result"
    }
   ],
   "source": [
    "type(r)"
   ]
  },
  {
   "cell_type": "code",
   "execution_count": 20,
   "id": "9555056b-a715-4c41-a36d-ffa4a6e84f3b",
   "metadata": {},
   "outputs": [],
   "source": [
    "w  = [1,2,3,4,5,6,7,8,]"
   ]
  },
  {
   "cell_type": "code",
   "execution_count": 22,
   "id": "18bea3a3-04cd-4f3c-a5a0-dd469cbc2e07",
   "metadata": {},
   "outputs": [
    {
     "data": {
      "text/plain": [
       "[1, 2, 3, 4, 5, 6, 7, 8]"
      ]
     },
     "execution_count": 22,
     "metadata": {},
     "output_type": "execute_result"
    }
   ],
   "source": [
    "w"
   ]
  },
  {
   "cell_type": "code",
   "execution_count": 24,
   "id": "5e912d9d-4baf-4cc7-ab2e-54711b6b9abd",
   "metadata": {},
   "outputs": [
    {
     "data": {
      "text/plain": [
       "list"
      ]
     },
     "execution_count": 24,
     "metadata": {},
     "output_type": "execute_result"
    }
   ],
   "source": [
    "type(w)"
   ]
  },
  {
   "cell_type": "code",
   "execution_count": 26,
   "id": "69e66404-53ba-4f4e-b00a-e14098b31248",
   "metadata": {},
   "outputs": [],
   "source": [
    "v= [7,8,9,5,6,8.3,True, False, 5+5j, \"Jatt\", [1,2,3],(10,14)]"
   ]
  },
  {
   "cell_type": "code",
   "execution_count": 28,
   "id": "42952a4b-9d44-4907-bfb5-53d24de481f5",
   "metadata": {},
   "outputs": [
    {
     "data": {
      "text/plain": [
       "list"
      ]
     },
     "execution_count": 28,
     "metadata": {},
     "output_type": "execute_result"
    }
   ],
   "source": [
    "type(v)"
   ]
  },
  {
   "cell_type": "code",
   "execution_count": 30,
   "id": "983703bd-2224-4dbe-9642-8862b5aef353",
   "metadata": {},
   "outputs": [
    {
     "data": {
      "text/plain": [
       "[1, 2, 3, 4, 5, 6, 7, 8]"
      ]
     },
     "execution_count": 30,
     "metadata": {},
     "output_type": "execute_result"
    }
   ],
   "source": [
    "w"
   ]
  },
  {
   "cell_type": "code",
   "execution_count": 32,
   "id": "e5a5a4fa-089f-48ea-8d15-df741f6430e4",
   "metadata": {},
   "outputs": [
    {
     "data": {
      "text/plain": [
       "1"
      ]
     },
     "execution_count": 32,
     "metadata": {},
     "output_type": "execute_result"
    }
   ],
   "source": [
    "w[0]"
   ]
  },
  {
   "cell_type": "code",
   "execution_count": 34,
   "id": "173b6739-27bd-4a72-8a64-ee4d6df5ccae",
   "metadata": {},
   "outputs": [
    {
     "data": {
      "text/plain": [
       "6"
      ]
     },
     "execution_count": 34,
     "metadata": {},
     "output_type": "execute_result"
    }
   ],
   "source": [
    "w[5]"
   ]
  },
  {
   "cell_type": "code",
   "execution_count": 36,
   "id": "b57ad3fb-b864-444b-bd2e-94683f4b2c8b",
   "metadata": {},
   "outputs": [
    {
     "data": {
      "text/plain": [
       "5"
      ]
     },
     "execution_count": 36,
     "metadata": {},
     "output_type": "execute_result"
    }
   ],
   "source": [
    "w[-4]"
   ]
  },
  {
   "cell_type": "code",
   "execution_count": 38,
   "id": "d091a72f-3951-45e2-a604-5090107e191b",
   "metadata": {},
   "outputs": [
    {
     "data": {
      "text/plain": [
       "[2, 3, 4]"
      ]
     },
     "execution_count": 38,
     "metadata": {},
     "output_type": "execute_result"
    }
   ],
   "source": [
    "w[1:4]"
   ]
  },
  {
   "cell_type": "code",
   "execution_count": 40,
   "id": "90b1c38a-6e32-480c-9f1e-4836e556a74b",
   "metadata": {},
   "outputs": [
    {
     "data": {
      "text/plain": [
       "[3, 4, 5, 6]"
      ]
     },
     "execution_count": 40,
     "metadata": {},
     "output_type": "execute_result"
    }
   ],
   "source": [
    "w[2:-2]"
   ]
  },
  {
   "cell_type": "code",
   "execution_count": 42,
   "id": "d2c879f3-bcae-42db-942f-42fd38ae4354",
   "metadata": {},
   "outputs": [
    {
     "data": {
      "text/plain": [
       "[8, 7, 6, 5, 4, 3, 2, 1]"
      ]
     },
     "execution_count": 42,
     "metadata": {},
     "output_type": "execute_result"
    }
   ],
   "source": [
    "w[::-1]"
   ]
  },
  {
   "cell_type": "code",
   "execution_count": 48,
   "id": "edc85339-f2b9-45f4-b29a-e12d3a6c31f7",
   "metadata": {},
   "outputs": [],
   "source": [
    "w[2] = 10 #mutability"
   ]
  },
  {
   "cell_type": "code",
   "execution_count": 46,
   "id": "b09a3aaa-518d-4217-b437-0e330233485b",
   "metadata": {},
   "outputs": [
    {
     "data": {
      "text/plain": [
       "[1, 2, 10, 4, 5, 6, 7, 8]"
      ]
     },
     "execution_count": 46,
     "metadata": {},
     "output_type": "execute_result"
    }
   ],
   "source": [
    "w"
   ]
  },
  {
   "cell_type": "code",
   "execution_count": 50,
   "id": "d25a3bb7-a4a3-4d5e-8416-b6071962c731",
   "metadata": {},
   "outputs": [],
   "source": [
    "w[4]=50"
   ]
  },
  {
   "cell_type": "code",
   "execution_count": 52,
   "id": "c7fbbe47-5c1e-46de-ae34-71b18fcb003a",
   "metadata": {},
   "outputs": [
    {
     "data": {
      "text/plain": [
       "[1, 2, 10, 4, 50, 6, 7, 8]"
      ]
     },
     "execution_count": 52,
     "metadata": {},
     "output_type": "execute_result"
    }
   ],
   "source": [
    "w"
   ]
  },
  {
   "cell_type": "code",
   "execution_count": null,
   "id": "e3141b6d-f128-45b4-9d64-cc115908fb7a",
   "metadata": {},
   "outputs": [],
   "source": []
  },
  {
   "cell_type": "code",
   "execution_count": 55,
   "id": "612b68b8-1218-4202-a79c-ed0175e388e2",
   "metadata": {},
   "outputs": [],
   "source": [
    "#some methods of list"
   ]
  },
  {
   "cell_type": "code",
   "execution_count": 57,
   "id": "138f5dd3-4c7f-496b-bbc6-112f1efde31d",
   "metadata": {},
   "outputs": [],
   "source": [
    "w.append(522)"
   ]
  },
  {
   "cell_type": "code",
   "execution_count": 59,
   "id": "0be1e120-7edf-4186-bd25-1af37a6300be",
   "metadata": {},
   "outputs": [
    {
     "data": {
      "text/plain": [
       "[1, 2, 10, 4, 50, 6, 7, 8, 522]"
      ]
     },
     "execution_count": 59,
     "metadata": {},
     "output_type": "execute_result"
    }
   ],
   "source": [
    "w"
   ]
  },
  {
   "cell_type": "code",
   "execution_count": 61,
   "id": "6bf1fe99-18ec-4920-bcf9-d9e867c314a9",
   "metadata": {},
   "outputs": [],
   "source": [
    "w.append(420)"
   ]
  },
  {
   "cell_type": "code",
   "execution_count": 63,
   "id": "fede386e-2efd-498c-9979-80ee93d5ccfa",
   "metadata": {},
   "outputs": [
    {
     "data": {
      "text/plain": [
       "[1, 2, 10, 4, 50, 6, 7, 8, 522, 420]"
      ]
     },
     "execution_count": 63,
     "metadata": {},
     "output_type": "execute_result"
    }
   ],
   "source": [
    "w"
   ]
  },
  {
   "cell_type": "code",
   "execution_count": 65,
   "id": "edab80b7-1778-40fb-9d0e-1b143cbb2c7c",
   "metadata": {},
   "outputs": [],
   "source": [
    "w.append(\"Jatt\")"
   ]
  },
  {
   "cell_type": "code",
   "execution_count": 67,
   "id": "46fba166-ec5a-403e-b783-7e4383485d16",
   "metadata": {},
   "outputs": [
    {
     "data": {
      "text/plain": [
       "[1, 2, 10, 4, 50, 6, 7, 8, 522, 420, 'Jatt']"
      ]
     },
     "execution_count": 67,
     "metadata": {},
     "output_type": "execute_result"
    }
   ],
   "source": [
    "w"
   ]
  },
  {
   "cell_type": "code",
   "execution_count": 69,
   "id": "e3e71069-2239-48d9-905a-54339ac0cbc4",
   "metadata": {},
   "outputs": [],
   "source": [
    "w.insert(0,199)"
   ]
  },
  {
   "cell_type": "code",
   "execution_count": 71,
   "id": "c0508167-a2c1-4dc2-8a0d-7f53b0e02b04",
   "metadata": {},
   "outputs": [
    {
     "data": {
      "text/plain": [
       "[199, 1, 2, 10, 4, 50, 6, 7, 8, 522, 420, 'Jatt']"
      ]
     },
     "execution_count": 71,
     "metadata": {},
     "output_type": "execute_result"
    }
   ],
   "source": [
    "w"
   ]
  },
  {
   "cell_type": "code",
   "execution_count": 76,
   "id": "3da31bed-bc09-4001-967b-611be774c53c",
   "metadata": {},
   "outputs": [],
   "source": [
    "w.insert(6,4000)"
   ]
  },
  {
   "cell_type": "code",
   "execution_count": 79,
   "id": "c4964b61-91ec-4e26-8487-12ad61c7739c",
   "metadata": {},
   "outputs": [
    {
     "data": {
      "text/plain": [
       "[199, 1, 2, 10, 4, 50, 4000, 6, 7, 8, 522, 420, 'Jatt']"
      ]
     },
     "execution_count": 79,
     "metadata": {},
     "output_type": "execute_result"
    }
   ],
   "source": [
    "w"
   ]
  },
  {
   "cell_type": "code",
   "execution_count": 81,
   "id": "4ac205e4-27fc-476c-993a-c7fb20b7597f",
   "metadata": {},
   "outputs": [
    {
     "data": {
      "text/plain": [
       "199"
      ]
     },
     "execution_count": 81,
     "metadata": {},
     "output_type": "execute_result"
    }
   ],
   "source": [
    "w.pop(0)"
   ]
  },
  {
   "cell_type": "code",
   "execution_count": 83,
   "id": "1203ed10-5bdd-4ad9-a36f-56f7702f8c9d",
   "metadata": {},
   "outputs": [
    {
     "data": {
      "text/plain": [
       "[1, 2, 10, 4, 50, 4000, 6, 7, 8, 522, 420, 'Jatt']"
      ]
     },
     "execution_count": 83,
     "metadata": {},
     "output_type": "execute_result"
    }
   ],
   "source": [
    "w"
   ]
  },
  {
   "cell_type": "code",
   "execution_count": 85,
   "id": "7ae538af-a2e6-4c8e-9195-ca64659c527c",
   "metadata": {},
   "outputs": [
    {
     "data": {
      "text/plain": [
       "50"
      ]
     },
     "execution_count": 85,
     "metadata": {},
     "output_type": "execute_result"
    }
   ],
   "source": [
    "w.pop(4)"
   ]
  },
  {
   "cell_type": "code",
   "execution_count": 87,
   "id": "93fea644-f516-4e31-bf7e-72258cba74d1",
   "metadata": {},
   "outputs": [
    {
     "data": {
      "text/plain": [
       "[1, 2, 10, 4, 4000, 6, 7, 8, 522, 420, 'Jatt']"
      ]
     },
     "execution_count": 87,
     "metadata": {},
     "output_type": "execute_result"
    }
   ],
   "source": [
    "w"
   ]
  },
  {
   "cell_type": "code",
   "execution_count": 89,
   "id": "209c3baf-8203-46c7-9810-c7b154fd4c48",
   "metadata": {},
   "outputs": [],
   "source": [
    "w.remove(4000)"
   ]
  },
  {
   "cell_type": "code",
   "execution_count": 91,
   "id": "155a3492-f355-40b4-8b0f-508351847c2d",
   "metadata": {},
   "outputs": [
    {
     "data": {
      "text/plain": [
       "[1, 2, 10, 4, 6, 7, 8, 522, 420, 'Jatt']"
      ]
     },
     "execution_count": 91,
     "metadata": {},
     "output_type": "execute_result"
    }
   ],
   "source": [
    "w"
   ]
  },
  {
   "cell_type": "code",
   "execution_count": 93,
   "id": "85c5e6ee-23df-4e09-a13a-82c6bce79e7e",
   "metadata": {},
   "outputs": [],
   "source": [
    "w.remove(522)"
   ]
  },
  {
   "cell_type": "code",
   "execution_count": 95,
   "id": "697eede9-602c-4d8b-9f1e-be06d66f2856",
   "metadata": {},
   "outputs": [
    {
     "data": {
      "text/plain": [
       "[1, 2, 10, 4, 6, 7, 8, 420, 'Jatt']"
      ]
     },
     "execution_count": 95,
     "metadata": {},
     "output_type": "execute_result"
    }
   ],
   "source": [
    "w"
   ]
  },
  {
   "cell_type": "code",
   "execution_count": 97,
   "id": "c285ff15-160b-4b46-9ec2-4945a5b1e45d",
   "metadata": {},
   "outputs": [
    {
     "data": {
      "text/plain": [
       "['Jatt', 420, 8, 7, 6, 4, 10, 2, 1]"
      ]
     },
     "execution_count": 97,
     "metadata": {},
     "output_type": "execute_result"
    }
   ],
   "source": [
    "w[::-1]"
   ]
  },
  {
   "cell_type": "code",
   "execution_count": 99,
   "id": "e75f6303-d4d4-4889-bda7-e19321ee3bd4",
   "metadata": {},
   "outputs": [
    {
     "data": {
      "text/plain": [
       "[1, 2, 10, 4, 6, 7, 8, 420, 'Jatt']"
      ]
     },
     "execution_count": 99,
     "metadata": {},
     "output_type": "execute_result"
    }
   ],
   "source": [
    "w"
   ]
  },
  {
   "cell_type": "code",
   "execution_count": 101,
   "id": "a3ce04b4-d634-4b1f-9aca-b622100d4626",
   "metadata": {},
   "outputs": [],
   "source": [
    "w.reverse()"
   ]
  },
  {
   "cell_type": "code",
   "execution_count": 103,
   "id": "7f1702db-0d2e-46d5-adf5-134f5d5e195a",
   "metadata": {},
   "outputs": [
    {
     "data": {
      "text/plain": [
       "['Jatt', 420, 8, 7, 6, 4, 10, 2, 1]"
      ]
     },
     "execution_count": 103,
     "metadata": {},
     "output_type": "execute_result"
    }
   ],
   "source": [
    "w"
   ]
  },
  {
   "cell_type": "code",
   "execution_count": 109,
   "id": "468b297c-ca1e-4764-a150-89b5b60b6dd1",
   "metadata": {},
   "outputs": [],
   "source": [
    "w.remove('Jatt')"
   ]
  },
  {
   "cell_type": "code",
   "execution_count": 111,
   "id": "6cc68cf3-b995-45d1-9b4d-1e8fcb048296",
   "metadata": {},
   "outputs": [
    {
     "data": {
      "text/plain": [
       "[420, 8, 7, 6, 4, 10, 2, 1]"
      ]
     },
     "execution_count": 111,
     "metadata": {},
     "output_type": "execute_result"
    }
   ],
   "source": [
    "w"
   ]
  },
  {
   "cell_type": "code",
   "execution_count": 113,
   "id": "89b1442a-eecd-4ca4-8796-8d6e780dbfde",
   "metadata": {},
   "outputs": [],
   "source": [
    "w.sort()"
   ]
  },
  {
   "cell_type": "code",
   "execution_count": 115,
   "id": "e84fdbb3-a765-4f8f-846b-8459b796fea0",
   "metadata": {},
   "outputs": [
    {
     "data": {
      "text/plain": [
       "[1, 2, 4, 6, 7, 8, 10, 420]"
      ]
     },
     "execution_count": 115,
     "metadata": {},
     "output_type": "execute_result"
    }
   ],
   "source": [
    "w"
   ]
  },
  {
   "cell_type": "code",
   "execution_count": 117,
   "id": "97a668ef-8cbe-4307-9861-8bbd3f5b9b03",
   "metadata": {},
   "outputs": [],
   "source": [
    "w.sort(reverse=True)"
   ]
  },
  {
   "cell_type": "code",
   "execution_count": 119,
   "id": "8a2ae0c8-7f05-4a6c-8dd5-ce544b6941bd",
   "metadata": {},
   "outputs": [
    {
     "data": {
      "text/plain": [
       "[420, 10, 8, 7, 6, 4, 2, 1]"
      ]
     },
     "execution_count": 119,
     "metadata": {},
     "output_type": "execute_result"
    }
   ],
   "source": [
    "w"
   ]
  },
  {
   "cell_type": "code",
   "execution_count": null,
   "id": "840b2b8e-6b01-41d9-8fc5-a21037afc994",
   "metadata": {},
   "outputs": [],
   "source": []
  },
  {
   "cell_type": "code",
   "execution_count": 122,
   "id": "1183d8c2-525a-429d-acba-1f513268b002",
   "metadata": {},
   "outputs": [],
   "source": [
    "# in operators"
   ]
  },
  {
   "cell_type": "code",
   "execution_count": 136,
   "id": "1321896b-0e22-4ca6-b63d-3f81e22f0e8a",
   "metadata": {},
   "outputs": [],
   "source": [
    "d = \"good\""
   ]
  },
  {
   "cell_type": "code",
   "execution_count": 138,
   "id": "bd88f8f1-96a1-4aef-af9c-e07a006719c4",
   "metadata": {},
   "outputs": [
    {
     "data": {
      "text/plain": [
       "True"
      ]
     },
     "execution_count": 138,
     "metadata": {},
     "output_type": "execute_result"
    }
   ],
   "source": [
    "d in \"good\""
   ]
  },
  {
   "cell_type": "code",
   "execution_count": null,
   "id": "78644155-51e4-4e72-a3f3-7c63b3548c33",
   "metadata": {},
   "outputs": [],
   "source": []
  },
  {
   "cell_type": "code",
   "execution_count": 141,
   "id": "93a78e07-3037-48b0-9cba-442d0ab930dc",
   "metadata": {},
   "outputs": [
    {
     "data": {
      "text/plain": [
       "8"
      ]
     },
     "execution_count": 141,
     "metadata": {},
     "output_type": "execute_result"
    }
   ],
   "source": [
    "len(w)"
   ]
  },
  {
   "cell_type": "code",
   "execution_count": 143,
   "id": "ac2cf9a3-9bd6-4c5a-82dd-3b432806eb16",
   "metadata": {},
   "outputs": [
    {
     "data": {
      "text/plain": [
       "[420, 10, 8, 7, 6, 4, 2, 1]"
      ]
     },
     "execution_count": 143,
     "metadata": {},
     "output_type": "execute_result"
    }
   ],
   "source": [
    "w"
   ]
  },
  {
   "cell_type": "code",
   "execution_count": 145,
   "id": "4c5de5e9-eaf6-4dd7-baee-f5d106e5ed74",
   "metadata": {},
   "outputs": [
    {
     "name": "stdout",
     "output_type": "stream",
     "text": [
      "420\n",
      "10\n",
      "8\n",
      "7\n",
      "6\n",
      "4\n",
      "2\n",
      "1\n"
     ]
    }
   ],
   "source": [
    "for i in w:\n",
    "    print(i)"
   ]
  },
  {
   "cell_type": "code",
   "execution_count": 149,
   "id": "a11d2f1d-06c8-4c2c-8072-5f2802230056",
   "metadata": {},
   "outputs": [],
   "source": [
    "my_str = \"Jaskaran Singh Narwal\""
   ]
  },
  {
   "cell_type": "code",
   "execution_count": 151,
   "id": "401e013a-fe55-4669-86d6-bdd25acd1b32",
   "metadata": {},
   "outputs": [],
   "source": [
    "my_str = my_str.split()"
   ]
  },
  {
   "cell_type": "code",
   "execution_count": 153,
   "id": "8c375b74-81b4-4b12-b906-030e679920c4",
   "metadata": {},
   "outputs": [
    {
     "data": {
      "text/plain": [
       "['Jaskaran', 'Singh', 'Narwal']"
      ]
     },
     "execution_count": 153,
     "metadata": {},
     "output_type": "execute_result"
    }
   ],
   "source": [
    "my_str"
   ]
  },
  {
   "cell_type": "code",
   "execution_count": 155,
   "id": "bf469d63-8bd7-427f-adad-28da5b7d19ac",
   "metadata": {},
   "outputs": [],
   "source": [
    "my_str = \" \".join(my_str)"
   ]
  },
  {
   "cell_type": "code",
   "execution_count": 157,
   "id": "5749da6d-c27f-4489-b973-7714f99b9d90",
   "metadata": {},
   "outputs": [
    {
     "data": {
      "text/plain": [
       "'Jaskaran Singh Narwal'"
      ]
     },
     "execution_count": 157,
     "metadata": {},
     "output_type": "execute_result"
    }
   ],
   "source": [
    "my_str"
   ]
  },
  {
   "cell_type": "code",
   "execution_count": 159,
   "id": "b7ce2e54-81bd-4ab0-88fc-13a05fa3f4e4",
   "metadata": {},
   "outputs": [
    {
     "data": {
      "text/plain": [
       "[420, 10, 8, 7, 6, 4, 2, 1]"
      ]
     },
     "execution_count": 159,
     "metadata": {},
     "output_type": "execute_result"
    }
   ],
   "source": [
    "w"
   ]
  },
  {
   "cell_type": "code",
   "execution_count": 163,
   "id": "5e37af3b-8d1e-4619-ba07-b351d51d91f4",
   "metadata": {},
   "outputs": [],
   "source": [
    "w.append([98,92])"
   ]
  },
  {
   "cell_type": "code",
   "execution_count": 165,
   "id": "9cabe5f0-7ece-4947-9644-4a65b38f2631",
   "metadata": {},
   "outputs": [
    {
     "data": {
      "text/plain": [
       "[420, 10, 8, 7, 6, 4, 2, 1, [98, 92]]"
      ]
     },
     "execution_count": 165,
     "metadata": {},
     "output_type": "execute_result"
    }
   ],
   "source": [
    "w"
   ]
  },
  {
   "cell_type": "code",
   "execution_count": 169,
   "id": "7e4218e5-4242-4674-94d6-64f79f14cfb6",
   "metadata": {},
   "outputs": [],
   "source": [
    "w.extend([9,89])"
   ]
  },
  {
   "cell_type": "code",
   "execution_count": 171,
   "id": "1ba8e082-7948-4191-9bd8-1e95a382a26e",
   "metadata": {},
   "outputs": [
    {
     "data": {
      "text/plain": [
       "[420, 10, 8, 7, 6, 4, 2, 1, [98, 92], 9, 89]"
      ]
     },
     "execution_count": 171,
     "metadata": {},
     "output_type": "execute_result"
    }
   ],
   "source": [
    "w"
   ]
  },
  {
   "cell_type": "code",
   "execution_count": 173,
   "id": "0bad5929-2181-4e72-8cd8-3145a5cad3e4",
   "metadata": {},
   "outputs": [],
   "source": [
    "w.extend([4444])"
   ]
  },
  {
   "cell_type": "code",
   "execution_count": 175,
   "id": "1e778396-159a-408e-aedd-79aa3ce9b5ce",
   "metadata": {},
   "outputs": [
    {
     "data": {
      "text/plain": [
       "[420, 10, 8, 7, 6, 4, 2, 1, [98, 92], 9, 89, 4444]"
      ]
     },
     "execution_count": 175,
     "metadata": {},
     "output_type": "execute_result"
    }
   ],
   "source": [
    "w"
   ]
  },
  {
   "cell_type": "code",
   "execution_count": 177,
   "id": "0685466f-508f-4697-9dbd-36ce60e3eabc",
   "metadata": {},
   "outputs": [
    {
     "data": {
      "text/plain": [
       "[420, 10, 8, 7, 6, 4, 2, 1, [98, 92], 9, 89, 4444, 333, 334, 432]"
      ]
     },
     "execution_count": 177,
     "metadata": {},
     "output_type": "execute_result"
    }
   ],
   "source": [
    "w + [333,334,432]"
   ]
  },
  {
   "cell_type": "code",
   "execution_count": 179,
   "id": "4e1e9d28-9f42-4020-b992-e7296037b7d5",
   "metadata": {},
   "outputs": [
    {
     "data": {
      "text/plain": [
       "[420, 10, 8, 7, 6, 4, 2, 1, [98, 92], 9, 89, 4444]"
      ]
     },
     "execution_count": 179,
     "metadata": {},
     "output_type": "execute_result"
    }
   ],
   "source": [
    "w"
   ]
  },
  {
   "cell_type": "code",
   "execution_count": 182,
   "id": "20643867-51f2-40d2-92ec-d3cf6464d096",
   "metadata": {},
   "outputs": [
    {
     "name": "stdin",
     "output_type": "stream",
     "text": [
      "enter your word: Jatt\n"
     ]
    }
   ],
   "source": [
    "word = input(\"enter your word:\")"
   ]
  },
  {
   "cell_type": "code",
   "execution_count": 184,
   "id": "b8f6c5ab-3190-45af-a829-4301991bdb57",
   "metadata": {},
   "outputs": [
    {
     "name": "stdout",
     "output_type": "stream",
     "text": [
      "the given word Jatt is not palindrome\n"
     ]
    }
   ],
   "source": [
    "is_palindrome = True\n",
    "\n",
    "for i in range(len(word)//2):\n",
    "    if word[i] != word[-(i+1)]:\n",
    "        is_palindrome = False\n",
    "9        break\n",
    "\n",
    "if is_palindrome:\n",
    "    print(f\"the given word {word} is palindrome\")\n",
    "else:\n",
    "    print(f\"the given word {word} is not palindrome\")"
   ]
  },
  {
   "cell_type": "code",
   "execution_count": null,
   "id": "07b0c734-fe8b-43b6-ab3e-8be88d95c1fe",
   "metadata": {},
   "outputs": [],
   "source": []
  },
  {
   "cell_type": "code",
   "execution_count": 10,
   "id": "756d7729-2626-42e7-b72f-9040c7317eac",
   "metadata": {},
   "outputs": [],
   "source": [
    "number = [2,4,6,8]"
   ]
  },
  {
   "cell_type": "code",
   "execution_count": 12,
   "id": "687658e5-a8a8-46bd-895b-5de73d9591a3",
   "metadata": {},
   "outputs": [
    {
     "name": "stdout",
     "output_type": "stream",
     "text": [
      "4\n",
      "16\n",
      "36\n",
      "64\n"
     ]
    }
   ],
   "source": [
    "for i in number :\n",
    "    print(i**2)"
   ]
  },
  {
   "cell_type": "code",
   "execution_count": 20,
   "id": "dcd497bd-9aeb-4158-9892-0aa6810c64cc",
   "metadata": {},
   "outputs": [
    {
     "data": {
      "text/plain": [
       "[4, 16, 36, 64, 100, 144, 196, 256, 324, 400]"
      ]
     },
     "execution_count": 20,
     "metadata": {},
     "output_type": "execute_result"
    }
   ],
   "source": [
    "newlst = []\n",
    "for i in range(1,21):\n",
    "    if i%2==0:\n",
    "\n",
    "        newlst.append(i**2)\n",
    "newlst"
   ]
  },
  {
   "cell_type": "code",
   "execution_count": null,
   "id": "8e60abc3-32fd-4ecf-a58e-5513b56cff76",
   "metadata": {},
   "outputs": [],
   "source": []
  },
  {
   "cell_type": "code",
   "execution_count": 23,
   "id": "357d5872-69db-4b5a-96f2-e450c9550813",
   "metadata": {},
   "outputs": [],
   "source": [
    "#list comprehension : creating in shorter way"
   ]
  },
  {
   "cell_type": "code",
   "execution_count": 28,
   "id": "023abb57-6f4e-4401-bc5f-ae2b8251ba51",
   "metadata": {},
   "outputs": [],
   "source": [
    "t = list(range(1,11))"
   ]
  },
  {
   "cell_type": "code",
   "execution_count": 30,
   "id": "25130ae3-0e80-4834-a31f-51a0b1c97c42",
   "metadata": {},
   "outputs": [
    {
     "data": {
      "text/plain": [
       "[1, 2, 3, 4, 5, 6, 7, 8, 9, 10]"
      ]
     },
     "execution_count": 30,
     "metadata": {},
     "output_type": "execute_result"
    }
   ],
   "source": [
    "t"
   ]
  },
  {
   "cell_type": "code",
   "execution_count": 32,
   "id": "6ad2981a-c8e3-4d38-a31e-268a273e68f5",
   "metadata": {},
   "outputs": [],
   "source": [
    "r = []\n",
    "for i in range(1,11):\n",
    "    r.append(i**2)"
   ]
  },
  {
   "cell_type": "code",
   "execution_count": 34,
   "id": "04d6ddbd-2735-4757-b7a0-f667c91e37fe",
   "metadata": {},
   "outputs": [
    {
     "data": {
      "text/plain": [
       "[1, 4, 9, 16, 25, 36, 49, 64, 81, 100]"
      ]
     },
     "execution_count": 34,
     "metadata": {},
     "output_type": "execute_result"
    }
   ],
   "source": [
    "r"
   ]
  },
  {
   "cell_type": "code",
   "execution_count": 36,
   "id": "a43ee02d-6665-462d-923f-ae928c4850dc",
   "metadata": {},
   "outputs": [
    {
     "data": {
      "text/plain": [
       "[1, 2, 3, 4, 5, 6, 7, 8, 9, 10]"
      ]
     },
     "execution_count": 36,
     "metadata": {},
     "output_type": "execute_result"
    }
   ],
   "source": [
    "[i for i in range(1,11)]"
   ]
  },
  {
   "cell_type": "code",
   "execution_count": 38,
   "id": "046534ce-f23c-4ed8-98ad-40b604378c6e",
   "metadata": {},
   "outputs": [],
   "source": [
    "r = []\n",
    "for i in range(1,11):\n",
    "    if i%2==0:\n",
    "        r.append(i**2)"
   ]
  },
  {
   "cell_type": "code",
   "execution_count": 40,
   "id": "cbf53eb4-7c76-4b65-a9f7-5d1e38e95bcb",
   "metadata": {},
   "outputs": [
    {
     "data": {
      "text/plain": [
       "[4, 16, 36, 64, 100]"
      ]
     },
     "execution_count": 40,
     "metadata": {},
     "output_type": "execute_result"
    }
   ],
   "source": [
    "r"
   ]
  },
  {
   "cell_type": "code",
   "execution_count": 42,
   "id": "3170d0dc-66b0-4771-97ee-de30b647ff54",
   "metadata": {},
   "outputs": [
    {
     "data": {
      "text/plain": [
       "[4, 16, 36, 64, 100]"
      ]
     },
     "execution_count": 42,
     "metadata": {},
     "output_type": "execute_result"
    }
   ],
   "source": [
    "[i**2 for i in range(1,11) if i%2==0]"
   ]
  },
  {
   "cell_type": "code",
   "execution_count": 44,
   "id": "c78b72d7-9c21-4ed0-ba0d-9e9aeb7fc759",
   "metadata": {},
   "outputs": [],
   "source": [
    "r = []\n",
    "for i in range(1,11):\n",
    "    if i%2==0:\n",
    "        r.append(i**2)\n",
    "    else:\n",
    "        r.append(i**3)"
   ]
  },
  {
   "cell_type": "code",
   "execution_count": 46,
   "id": "d6dd4186-237d-4397-89ab-fc6a3e56b4b6",
   "metadata": {},
   "outputs": [
    {
     "data": {
      "text/plain": [
       "[1, 4, 27, 16, 125, 36, 343, 64, 729, 100]"
      ]
     },
     "execution_count": 46,
     "metadata": {},
     "output_type": "execute_result"
    }
   ],
   "source": [
    "r"
   ]
  },
  {
   "cell_type": "code",
   "execution_count": 48,
   "id": "6193f1c7-baa4-4384-94cf-78cfbc3bc8c2",
   "metadata": {},
   "outputs": [
    {
     "data": {
      "text/plain": [
       "[1, 4, 27, 16, 125, 36, 343, 64, 729, 100]"
      ]
     },
     "execution_count": 48,
     "metadata": {},
     "output_type": "execute_result"
    }
   ],
   "source": [
    "[i**2 if i%2==0 else i**3 for i in range(1,11)]"
   ]
  },
  {
   "cell_type": "code",
   "execution_count": null,
   "id": "408de2fa-c045-4074-bc1a-b33d85d0cc42",
   "metadata": {},
   "outputs": [],
   "source": []
  },
  {
   "cell_type": "code",
   "execution_count": 51,
   "id": "514780eb-b770-4322-9dfb-4577db3b6e94",
   "metadata": {},
   "outputs": [],
   "source": [
    "#multi dimentional list"
   ]
  },
  {
   "cell_type": "code",
   "execution_count": 53,
   "id": "511c42ca-6230-4da6-8ace-cf530c42c901",
   "metadata": {},
   "outputs": [],
   "source": [
    "a = [4,5,6,7,8,9]\n"
   ]
  },
  {
   "cell_type": "code",
   "execution_count": 55,
   "id": "00b6464d-45eb-4055-a81d-3122bacb5645",
   "metadata": {},
   "outputs": [],
   "source": [
    "b = [[1,2,3], [4,5,6], [7,8,9], [10,11,12]]"
   ]
  },
  {
   "cell_type": "code",
   "execution_count": 57,
   "id": "4d151cb9-b786-47fb-a06e-09f566a6f946",
   "metadata": {},
   "outputs": [
    {
     "data": {
      "text/plain": [
       "[[1, 2, 3], [4, 5, 6], [7, 8, 9], [10, 11, 12]]"
      ]
     },
     "execution_count": 57,
     "metadata": {},
     "output_type": "execute_result"
    }
   ],
   "source": [
    "b"
   ]
  },
  {
   "cell_type": "code",
   "execution_count": 59,
   "id": "e3acf98c-db0c-4b86-9b78-7edbdcb91acf",
   "metadata": {},
   "outputs": [
    {
     "data": {
      "text/plain": [
       "5"
      ]
     },
     "execution_count": 59,
     "metadata": {},
     "output_type": "execute_result"
    }
   ],
   "source": [
    "b[1][1]"
   ]
  },
  {
   "cell_type": "code",
   "execution_count": 61,
   "id": "a53c0d4d-4802-40ae-b27e-c879c3c7ecba",
   "metadata": {},
   "outputs": [
    {
     "data": {
      "text/plain": [
       "9"
      ]
     },
     "execution_count": 61,
     "metadata": {},
     "output_type": "execute_result"
    }
   ],
   "source": [
    "b[-2][-1]"
   ]
  },
  {
   "cell_type": "code",
   "execution_count": 63,
   "id": "a653b37c-4866-4a93-851c-4d9812ee5073",
   "metadata": {},
   "outputs": [],
   "source": [
    "a = [[1,2], [3,4]]"
   ]
  },
  {
   "cell_type": "code",
   "execution_count": 65,
   "id": "8dea6bb8-9682-4db6-992a-c5564464543e",
   "metadata": {},
   "outputs": [],
   "source": [
    "b = [[5,6], [7,8]]"
   ]
  },
  {
   "cell_type": "code",
   "execution_count": 67,
   "id": "c4f59a54-b581-4fdc-acbb-842f8fb0c962",
   "metadata": {},
   "outputs": [
    {
     "data": {
      "text/plain": [
       "[[1, 2], [3, 4]]"
      ]
     },
     "execution_count": 67,
     "metadata": {},
     "output_type": "execute_result"
    }
   ],
   "source": [
    "a"
   ]
  },
  {
   "cell_type": "code",
   "execution_count": 69,
   "id": "15f8f193-7daf-47a9-8822-7c9ddc601321",
   "metadata": {},
   "outputs": [
    {
     "data": {
      "text/plain": [
       "[[5, 6], [7, 8]]"
      ]
     },
     "execution_count": 69,
     "metadata": {},
     "output_type": "execute_result"
    }
   ],
   "source": [
    "b"
   ]
  },
  {
   "cell_type": "code",
   "execution_count": 71,
   "id": "af0f93a3-fc28-41d0-a5d5-95863c7465a8",
   "metadata": {},
   "outputs": [],
   "source": [
    "c = [[None, None], [None , None]]\n",
    "\n",
    "for i in range(2):\n",
    "    for j in range(2):\n",
    "        c[i][j] = a[i][j] + b[i][j]"
   ]
  },
  {
   "cell_type": "code",
   "execution_count": 73,
   "id": "f9e97d4b-5cea-4352-90ef-7d1534b65807",
   "metadata": {},
   "outputs": [
    {
     "data": {
      "text/plain": [
       "[[6, 8], [10, 12]]"
      ]
     },
     "execution_count": 73,
     "metadata": {},
     "output_type": "execute_result"
    }
   ],
   "source": [
    "c"
   ]
  },
  {
   "cell_type": "code",
   "execution_count": 83,
   "id": "2903f174-d743-4cd0-a4ed-e3149ebce72e",
   "metadata": {},
   "outputs": [
    {
     "data": {
      "text/plain": [
       "[[None, None, None, None, None, None, None, None, None, None],\n",
       " [None, None, None, None, None, None, None, None, None, None],\n",
       " [None, None, None, None, None, None, None, None, None, None],\n",
       " [None, None, None, None, None, None, None, None, None, None],\n",
       " [None, None, None, None, None, None, None, None, None, None],\n",
       " [None, None, None, None, None, None, None, None, None, None],\n",
       " [None, None, None, None, None, None, None, None, None, None],\n",
       " [None, None, None, None, None, None, None, None, None, None],\n",
       " [None, None, None, None, None, None, None, None, None, None],\n",
       " [None, None, None, None, None, None, None, None, None, None]]"
      ]
     },
     "execution_count": 83,
     "metadata": {},
     "output_type": "execute_result"
    }
   ],
   "source": [
    "[[None]*10]*10"
   ]
  },
  {
   "cell_type": "code",
   "execution_count": null,
   "id": "c70f4c53-f646-4d82-bb70-1ac1854986c4",
   "metadata": {},
   "outputs": [],
   "source": []
  },
  {
   "cell_type": "code",
   "execution_count": 91,
   "id": "53f4a443-e870-4c43-879d-7724e1c254a5",
   "metadata": {},
   "outputs": [],
   "source": [
    "lst_nd = [[[[[[[[4,5,6,7,8,9,8]]]]]]]]"
   ]
  },
  {
   "cell_type": "code",
   "execution_count": 93,
   "id": "9133621e-521a-4b84-a832-50f4e1d114fa",
   "metadata": {},
   "outputs": [
    {
     "data": {
      "text/plain": [
       "[[[[[[[[4, 5, 6, 7, 8, 9, 8]]]]]]]]"
      ]
     },
     "execution_count": 93,
     "metadata": {},
     "output_type": "execute_result"
    }
   ],
   "source": [
    "lst_nd"
   ]
  },
  {
   "cell_type": "code",
   "execution_count": 95,
   "id": "e85f3990-31aa-47ec-990b-072fa3e08b7f",
   "metadata": {},
   "outputs": [
    {
     "data": {
      "text/plain": [
       "6"
      ]
     },
     "execution_count": 95,
     "metadata": {},
     "output_type": "execute_result"
    }
   ],
   "source": [
    "lst_nd[0][0][0][0][0][0][0][2]"
   ]
  },
  {
   "cell_type": "code",
   "execution_count": 97,
   "id": "15322cb2-e93e-447f-9cdc-c9e90857895f",
   "metadata": {},
   "outputs": [],
   "source": [
    "new_lst = []\n",
    "for a in lst_nd :\n",
    "    for b in a:\n",
    "        for c in b:\n",
    "            for d in c:\n",
    "                for e in d:\n",
    "                    for f in e:\n",
    "                        for g in f:\n",
    "                            for h in g:\n",
    "                                new_lst.append(h**2)"
   ]
  },
  {
   "cell_type": "code",
   "execution_count": 99,
   "id": "b7cefa01-a69a-4d40-937b-cca6c0c1c2a6",
   "metadata": {},
   "outputs": [
    {
     "data": {
      "text/plain": [
       "[16, 25, 36, 49, 64, 81, 64]"
      ]
     },
     "execution_count": 99,
     "metadata": {},
     "output_type": "execute_result"
    }
   ],
   "source": [
    "new_lst"
   ]
  },
  {
   "cell_type": "code",
   "execution_count": null,
   "id": "542e70af-59f7-47a0-a9a4-660a12afbea7",
   "metadata": {},
   "outputs": [],
   "source": []
  },
  {
   "cell_type": "code",
   "execution_count": null,
   "id": "5c6ee430-e52c-42f7-a001-d55a6971d461",
   "metadata": {},
   "outputs": [],
   "source": []
  },
  {
   "cell_type": "code",
   "execution_count": 91,
   "id": "ca9e7dcc-e985-4719-89d4-6d567473b124",
   "metadata": {},
   "outputs": [],
   "source": [
    "#deep copy and shalow copy"
   ]
  },
  {
   "cell_type": "code",
   "execution_count": 105,
   "id": "6c8c6319-5c4b-4b99-a547-e1ff3425fe62",
   "metadata": {},
   "outputs": [],
   "source": [
    "a = [4,5,6,7,8,9]"
   ]
  },
  {
   "cell_type": "code",
   "execution_count": 107,
   "id": "773d600d-2c94-4267-9d13-af5a02821388",
   "metadata": {},
   "outputs": [
    {
     "data": {
      "text/plain": [
       "[4, 5, 6, 7, 8, 9]"
      ]
     },
     "execution_count": 107,
     "metadata": {},
     "output_type": "execute_result"
    }
   ],
   "source": [
    "a"
   ]
  },
  {
   "cell_type": "code",
   "execution_count": 121,
   "id": "f252a84d-091e-45ca-b3f9-43a4010996f3",
   "metadata": {},
   "outputs": [],
   "source": [
    "b = a"
   ]
  },
  {
   "cell_type": "code",
   "execution_count": 123,
   "id": "8e4caa8b-78ed-4328-9401-d8f5d7a1f884",
   "metadata": {},
   "outputs": [],
   "source": [
    "b.append(160)"
   ]
  },
  {
   "cell_type": "code",
   "execution_count": 147,
   "id": "c6dbc5c0-387e-4e93-bd52-24ec76c92188",
   "metadata": {},
   "outputs": [
    {
     "data": {
      "text/plain": [
       "[[5, 6], [7, 8], 160, 160, 160, 160]"
      ]
     },
     "execution_count": 147,
     "metadata": {},
     "output_type": "execute_result"
    }
   ],
   "source": [
    "b"
   ]
  },
  {
   "cell_type": "code",
   "execution_count": 127,
   "id": "6ed88f10-6842-462e-9d13-ede5b5280777",
   "metadata": {},
   "outputs": [
    {
     "data": {
      "text/plain": [
       "[[5, 6], [7, 8], 160, 160, 160, 160]"
      ]
     },
     "execution_count": 127,
     "metadata": {},
     "output_type": "execute_result"
    }
   ],
   "source": [
    "a"
   ]
  },
  {
   "cell_type": "code",
   "execution_count": 129,
   "id": "fb4d6001-9c0f-440f-8bae-bcb1690c1d68",
   "metadata": {},
   "outputs": [],
   "source": [
    "#deep copy"
   ]
  },
  {
   "cell_type": "code",
   "execution_count": 131,
   "id": "3c97d050-d47d-4d5a-b6a7-71b346640543",
   "metadata": {},
   "outputs": [],
   "source": [
    "c = a.copy()"
   ]
  },
  {
   "cell_type": "code",
   "execution_count": 133,
   "id": "7ee9c2fe-af25-4809-b8d2-81e05725854a",
   "metadata": {},
   "outputs": [
    {
     "data": {
      "text/plain": [
       "[[5, 6], [7, 8], 160, 160, 160, 160]"
      ]
     },
     "execution_count": 133,
     "metadata": {},
     "output_type": "execute_result"
    }
   ],
   "source": [
    "c"
   ]
  },
  {
   "cell_type": "code",
   "execution_count": 135,
   "id": "b0702ba4-5c90-47e6-9c3e-31cabb93b62a",
   "metadata": {},
   "outputs": [],
   "source": [
    "c.append(12)"
   ]
  },
  {
   "cell_type": "code",
   "execution_count": 137,
   "id": "6eeeed12-8b3d-4268-8b07-ab2da3dda4b9",
   "metadata": {},
   "outputs": [
    {
     "data": {
      "text/plain": [
       "[[5, 6], [7, 8], 160, 160, 160, 160, 12]"
      ]
     },
     "execution_count": 137,
     "metadata": {},
     "output_type": "execute_result"
    }
   ],
   "source": [
    "c"
   ]
  },
  {
   "cell_type": "code",
   "execution_count": 139,
   "id": "6384c379-92fd-47af-869f-cc9dba521fbd",
   "metadata": {},
   "outputs": [
    {
     "data": {
      "text/plain": [
       "[[5, 6], [7, 8], 160, 160, 160, 160]"
      ]
     },
     "execution_count": 139,
     "metadata": {},
     "output_type": "execute_result"
    }
   ],
   "source": [
    "a"
   ]
  },
  {
   "cell_type": "code",
   "execution_count": null,
   "id": "fe4faf90-1379-4718-ae6c-460af0872d6e",
   "metadata": {},
   "outputs": [],
   "source": []
  },
  {
   "cell_type": "code",
   "execution_count": 104,
   "id": "95f0ca4b-b217-4689-a05b-71a845385df1",
   "metadata": {},
   "outputs": [
    {
     "ename": "SyntaxError",
     "evalue": "invalid decimal literal (450748227.py, line 4)",
     "output_type": "error",
     "traceback": [
      "\u001b[1;36m  Cell \u001b[1;32mIn[104], line 4\u001b[1;36m\u001b[0m\n\u001b[1;33m    1st step - [6,1,2,3,4,5]\u001b[0m\n\u001b[1;37m    ^\u001b[0m\n\u001b[1;31mSyntaxError\u001b[0m\u001b[1;31m:\u001b[0m invalid decimal literal\n"
     ]
    }
   ],
   "source": [
    "[1,2,3,4,5,6]\n",
    "\n",
    "\n",
    "1st step - [6,1,2,3,4,5]\n",
    "2st step - [5,6,1,2,3,4]\n",
    "3st step - [4,5,6,1,2,3]\n",
    "4st step - [3,4,5,6,1,2]"
   ]
  },
  {
   "cell_type": "code",
   "execution_count": 118,
   "id": "a939aeb1-9a47-4291-8ffa-44f72834fe9a",
   "metadata": {},
   "outputs": [
    {
     "name": "stdin",
     "output_type": "stream",
     "text": [
      "enter your steps: 8\n"
     ]
    }
   ],
   "source": [
    "lst =[1,2,3,4,5,6]\n",
    "steps = int(input(\"enter your steps:\"))"
   ]
  },
  {
   "cell_type": "code",
   "execution_count": 120,
   "id": "c5726149-d3ff-4b54-8c5a-36c5d053c052",
   "metadata": {},
   "outputs": [],
   "source": [
    "for _ in range(steps):\n",
    "    k = lst[-1]\n",
    "\n",
    "    for i in range(len(lst)-1, 0, -1):\n",
    "        lst[i] = lst[i-1]\n",
    "\n",
    "    lst[0] = k"
   ]
  },
  {
   "cell_type": "code",
   "execution_count": 122,
   "id": "dfa80105-26be-480d-9252-576434104809",
   "metadata": {},
   "outputs": [
    {
     "data": {
      "text/plain": [
       "[5, 6, 1, 2, 3, 4]"
      ]
     },
     "execution_count": 122,
     "metadata": {},
     "output_type": "execute_result"
    }
   ],
   "source": [
    "lst"
   ]
  },
  {
   "cell_type": "code",
   "execution_count": null,
   "id": "295c11e4-a9da-4897-8fdd-3d1ab2c66dc2",
   "metadata": {},
   "outputs": [],
   "source": []
  },
  {
   "cell_type": "markdown",
   "id": "0c12c23f-f1ff-4ed4-b89b-eab905477a83",
   "metadata": {},
   "source": [
    "# TUPLES :\n",
    "* similar to list - collection of elements ( but for read only )\n",
    "* ordered = sequence of elements\n",
    "* indexable and slicable\n",
    "* immutable in nature"
   ]
  },
  {
   "cell_type": "code",
   "execution_count": 3,
   "id": "a381cd0b-96de-4b2b-91f7-71ac25b60d94",
   "metadata": {},
   "outputs": [],
   "source": [
    "g = ()"
   ]
  },
  {
   "cell_type": "code",
   "execution_count": 5,
   "id": "afe7d093-3fe9-4b98-bc08-7ee544f16c7b",
   "metadata": {},
   "outputs": [
    {
     "data": {
      "text/plain": [
       "tuple"
      ]
     },
     "execution_count": 5,
     "metadata": {},
     "output_type": "execute_result"
    }
   ],
   "source": [
    "type(g)"
   ]
  },
  {
   "cell_type": "code",
   "execution_count": 7,
   "id": "46eb6c06-cec2-461a-8563-f600093fb6b1",
   "metadata": {},
   "outputs": [],
   "source": [
    "j = tuple()"
   ]
  },
  {
   "cell_type": "code",
   "execution_count": 9,
   "id": "f83b13c2-56c6-4e8b-adec-de71f94930fb",
   "metadata": {},
   "outputs": [
    {
     "data": {
      "text/plain": [
       "tuple"
      ]
     },
     "execution_count": 9,
     "metadata": {},
     "output_type": "execute_result"
    }
   ],
   "source": [
    "type(j)"
   ]
  },
  {
   "cell_type": "code",
   "execution_count": 13,
   "id": "c47787f7-d99c-486a-98db-02e25e3b9eef",
   "metadata": {},
   "outputs": [],
   "source": [
    "t = (20,23,4,43,43,4)"
   ]
  },
  {
   "cell_type": "code",
   "execution_count": 15,
   "id": "308fa18b-4784-440b-ad0f-10c91c6494a3",
   "metadata": {},
   "outputs": [
    {
     "data": {
      "text/plain": [
       "tuple"
      ]
     },
     "execution_count": 15,
     "metadata": {},
     "output_type": "execute_result"
    }
   ],
   "source": [
    "type(t)"
   ]
  },
  {
   "cell_type": "code",
   "execution_count": 17,
   "id": "324a674d-1dfd-4b4f-9cf3-ac2cdd78ca57",
   "metadata": {},
   "outputs": [],
   "source": [
    "c = (323.23 , 43, 4, 4,True , False , [3,43,4,3] , (545,32.2,23,23,2) , {\"a\":1 , \"b\":2})"
   ]
  },
  {
   "cell_type": "code",
   "execution_count": 19,
   "id": "ab27e11b-b61b-42e4-ba8f-450e298dfd0c",
   "metadata": {},
   "outputs": [
    {
     "data": {
      "text/plain": [
       "tuple"
      ]
     },
     "execution_count": 19,
     "metadata": {},
     "output_type": "execute_result"
    }
   ],
   "source": [
    "type(c)"
   ]
  },
  {
   "cell_type": "code",
   "execution_count": 21,
   "id": "5a615504-61f6-45d2-9e40-aa6bec699f8f",
   "metadata": {},
   "outputs": [],
   "source": [
    "a = (\"Jatt\")"
   ]
  },
  {
   "cell_type": "code",
   "execution_count": 23,
   "id": "bd5c24c7-0cd8-4989-ab19-2c8c466e2f0e",
   "metadata": {},
   "outputs": [
    {
     "data": {
      "text/plain": [
       "str"
      ]
     },
     "execution_count": 23,
     "metadata": {},
     "output_type": "execute_result"
    }
   ],
   "source": [
    "type(a)"
   ]
  },
  {
   "cell_type": "code",
   "execution_count": 25,
   "id": "a6c05560-def0-4599-9d65-6a03ccb77cac",
   "metadata": {},
   "outputs": [],
   "source": [
    "e = (5)"
   ]
  },
  {
   "cell_type": "code",
   "execution_count": 27,
   "id": "10ecc2f8-f8b9-4e3a-b97e-216ae042c669",
   "metadata": {},
   "outputs": [],
   "source": [
    "p = [4]"
   ]
  },
  {
   "cell_type": "code",
   "execution_count": 29,
   "id": "11a0ca4f-aa66-4f2d-a5d1-242426be4f8c",
   "metadata": {},
   "outputs": [
    {
     "data": {
      "text/plain": [
       "list"
      ]
     },
     "execution_count": 29,
     "metadata": {},
     "output_type": "execute_result"
    }
   ],
   "source": [
    "type(p)"
   ]
  },
  {
   "cell_type": "code",
   "execution_count": 31,
   "id": "363da164-ee75-4e5c-9949-455a635475bf",
   "metadata": {},
   "outputs": [
    {
     "data": {
      "text/plain": [
       "int"
      ]
     },
     "execution_count": 31,
     "metadata": {},
     "output_type": "execute_result"
    }
   ],
   "source": [
    "type(e)"
   ]
  },
  {
   "cell_type": "code",
   "execution_count": 33,
   "id": "431fe394-1760-4828-8c2e-7a1173efc05d",
   "metadata": {},
   "outputs": [],
   "source": [
    "tup = \"Narwal\" , "
   ]
  },
  {
   "cell_type": "code",
   "execution_count": 35,
   "id": "eaafb81d-3f52-40f0-8d01-715df4a77006",
   "metadata": {},
   "outputs": [
    {
     "data": {
      "text/plain": [
       "tuple"
      ]
     },
     "execution_count": 35,
     "metadata": {},
     "output_type": "execute_result"
    }
   ],
   "source": [
    "type(tup)"
   ]
  },
  {
   "cell_type": "code",
   "execution_count": 37,
   "id": "22a281a4-2ee1-449e-a480-dbdc18d4f1a4",
   "metadata": {},
   "outputs": [],
   "source": [
    "q = 3,2,2,3"
   ]
  },
  {
   "cell_type": "code",
   "execution_count": 39,
   "id": "126b04f0-2f0b-4ecf-bbd3-50d2c350ea26",
   "metadata": {},
   "outputs": [
    {
     "data": {
      "text/plain": [
       "tuple"
      ]
     },
     "execution_count": 39,
     "metadata": {},
     "output_type": "execute_result"
    }
   ],
   "source": [
    "type(q)"
   ]
  },
  {
   "cell_type": "code",
   "execution_count": 41,
   "id": "b97dcece-1d32-479e-95f6-18516d177b83",
   "metadata": {},
   "outputs": [
    {
     "data": {
      "text/plain": [
       "4"
      ]
     },
     "execution_count": 41,
     "metadata": {},
     "output_type": "execute_result"
    }
   ],
   "source": [
    "t[2]"
   ]
  },
  {
   "cell_type": "code",
   "execution_count": 43,
   "id": "775def56-bf70-4777-8bfc-8bdff5b7a97a",
   "metadata": {},
   "outputs": [
    {
     "data": {
      "text/plain": [
       "4"
      ]
     },
     "execution_count": 43,
     "metadata": {},
     "output_type": "execute_result"
    }
   ],
   "source": [
    "t[-1]"
   ]
  },
  {
   "cell_type": "code",
   "execution_count": 45,
   "id": "ad52b68e-bff5-4785-95a1-aedfc7a73a16",
   "metadata": {},
   "outputs": [
    {
     "data": {
      "text/plain": [
       "(23, 4, 43)"
      ]
     },
     "execution_count": 45,
     "metadata": {},
     "output_type": "execute_result"
    }
   ],
   "source": [
    "t[1:4]"
   ]
  },
  {
   "cell_type": "code",
   "execution_count": 47,
   "id": "eb2d464f-b6be-419d-b2bf-d9f112119853",
   "metadata": {},
   "outputs": [
    {
     "data": {
      "text/plain": [
       "(4, 43, 43, 4, 23, 20)"
      ]
     },
     "execution_count": 47,
     "metadata": {},
     "output_type": "execute_result"
    }
   ],
   "source": [
    "t[::-1]"
   ]
  },
  {
   "cell_type": "code",
   "execution_count": 49,
   "id": "1c0427ce-1184-42e7-92e8-aac17e945ce9",
   "metadata": {},
   "outputs": [
    {
     "ename": "TypeError",
     "evalue": "'tuple' object does not support item assignment",
     "output_type": "error",
     "traceback": [
      "\u001b[1;31m---------------------------------------------------------------------------\u001b[0m",
      "\u001b[1;31mTypeError\u001b[0m                                 Traceback (most recent call last)",
      "Cell \u001b[1;32mIn[49], line 1\u001b[0m\n\u001b[1;32m----> 1\u001b[0m t[\u001b[38;5;241m-\u001b[39m\u001b[38;5;241m3\u001b[39m] \u001b[38;5;241m=\u001b[39m \u001b[38;5;241m232\u001b[39m\n",
      "\u001b[1;31mTypeError\u001b[0m: 'tuple' object does not support item assignment"
     ]
    }
   ],
   "source": [
    "t[-3] = 232"
   ]
  },
  {
   "cell_type": "code",
   "execution_count": null,
   "id": "4dc517be-63bd-414e-80b1-e31e47a453a8",
   "metadata": {},
   "outputs": [],
   "source": []
  },
  {
   "cell_type": "code",
   "execution_count": 52,
   "id": "17ab6819-3f6c-484c-bf71-e1f35bc82f48",
   "metadata": {},
   "outputs": [],
   "source": [
    "t = list(t)"
   ]
  },
  {
   "cell_type": "code",
   "execution_count": 54,
   "id": "44761b85-54af-4b48-97f6-64dd1860ec07",
   "metadata": {},
   "outputs": [
    {
     "data": {
      "text/plain": [
       "[20, 23, 4, 43, 43, 4]"
      ]
     },
     "execution_count": 54,
     "metadata": {},
     "output_type": "execute_result"
    }
   ],
   "source": [
    "t"
   ]
  },
  {
   "cell_type": "code",
   "execution_count": 56,
   "id": "8d823ea0-4d6f-489b-955a-33d82cfbf877",
   "metadata": {},
   "outputs": [],
   "source": [
    "t[-3] = 420"
   ]
  },
  {
   "cell_type": "code",
   "execution_count": 58,
   "id": "06ed65e6-e6b4-4b50-b02c-da43acadd72b",
   "metadata": {},
   "outputs": [
    {
     "data": {
      "text/plain": [
       "[20, 23, 4, 420, 43, 4]"
      ]
     },
     "execution_count": 58,
     "metadata": {},
     "output_type": "execute_result"
    }
   ],
   "source": [
    "t"
   ]
  },
  {
   "cell_type": "code",
   "execution_count": 60,
   "id": "b15f5d30-bed4-4c27-b7ab-711bf16cfece",
   "metadata": {},
   "outputs": [],
   "source": [
    "t = tuple(t)"
   ]
  },
  {
   "cell_type": "code",
   "execution_count": 62,
   "id": "1b71a9b4-d74f-4067-9ae1-9d83bab3816d",
   "metadata": {},
   "outputs": [
    {
     "data": {
      "text/plain": [
       "(20, 23, 4, 420, 43, 4)"
      ]
     },
     "execution_count": 62,
     "metadata": {},
     "output_type": "execute_result"
    }
   ],
   "source": [
    "t"
   ]
  },
  {
   "cell_type": "code",
   "execution_count": 64,
   "id": "0f012f36-795e-4f77-8df0-35fae16f89bd",
   "metadata": {},
   "outputs": [],
   "source": [
    "lst = [\"c\" , \"c++\" , \"html\"]"
   ]
  },
  {
   "cell_type": "code",
   "execution_count": 66,
   "id": "abcc7dba-7608-43ed-a621-d0e82d03c0f4",
   "metadata": {},
   "outputs": [],
   "source": [
    "e = (\"Jatt\" ,\"Narwal\", 20,30, lst , 5.4 ,9.2)"
   ]
  },
  {
   "cell_type": "code",
   "execution_count": 68,
   "id": "4fb0d8d0-4df4-4645-8938-ca5aaf8ac818",
   "metadata": {},
   "outputs": [
    {
     "data": {
      "text/plain": [
       "('Jatt', 'Narwal', 20, 30, ['c', 'c++', 'html'], 5.4, 9.2)"
      ]
     },
     "execution_count": 68,
     "metadata": {},
     "output_type": "execute_result"
    }
   ],
   "source": [
    "e"
   ]
  },
  {
   "cell_type": "code",
   "execution_count": 70,
   "id": "013d93d7-39cd-485b-91e4-21b99969b982",
   "metadata": {},
   "outputs": [
    {
     "data": {
      "text/plain": [
       "'Narwal'"
      ]
     },
     "execution_count": 70,
     "metadata": {},
     "output_type": "execute_result"
    }
   ],
   "source": [
    "e[1]"
   ]
  },
  {
   "cell_type": "code",
   "execution_count": 74,
   "id": "4e8fc989-2e6b-4fb4-a700-cb3d90b77d4c",
   "metadata": {},
   "outputs": [
    {
     "data": {
      "text/plain": [
       "['c', 'c++', 'html']"
      ]
     },
     "execution_count": 74,
     "metadata": {},
     "output_type": "execute_result"
    }
   ],
   "source": [
    "e[4]"
   ]
  },
  {
   "cell_type": "code",
   "execution_count": 76,
   "id": "59b4cd67-dd1b-4d50-9fc9-a9a960d34ecb",
   "metadata": {},
   "outputs": [],
   "source": [
    "e[4][-1] = \"pyhton\""
   ]
  },
  {
   "cell_type": "code",
   "execution_count": 78,
   "id": "ddcb3fd7-f500-4743-9415-caa6e1d26ecc",
   "metadata": {},
   "outputs": [
    {
     "data": {
      "text/plain": [
       "('Jatt', 'Narwal', 20, 30, ['c', 'c++', 'pyhton'], 5.4, 9.2)"
      ]
     },
     "execution_count": 78,
     "metadata": {},
     "output_type": "execute_result"
    }
   ],
   "source": [
    "e"
   ]
  },
  {
   "cell_type": "code",
   "execution_count": null,
   "id": "a156946c-4a1f-4886-b342-1f2c2548bcbd",
   "metadata": {},
   "outputs": [],
   "source": []
  },
  {
   "cell_type": "code",
   "execution_count": 81,
   "id": "eafd5cdb-189e-4cb6-8400-5e903b441d65",
   "metadata": {},
   "outputs": [],
   "source": [
    "#tuples operations"
   ]
  },
  {
   "cell_type": "code",
   "execution_count": 83,
   "id": "9661fcce-9358-4490-9160-e52296d61fbd",
   "metadata": {},
   "outputs": [
    {
     "data": {
      "text/plain": [
       "(20, 23, 4, 420, 43, 4)"
      ]
     },
     "execution_count": 83,
     "metadata": {},
     "output_type": "execute_result"
    }
   ],
   "source": [
    "t"
   ]
  },
  {
   "cell_type": "code",
   "execution_count": 85,
   "id": "0baf71c4-c026-4967-ad51-a2f00281c3a6",
   "metadata": {},
   "outputs": [
    {
     "name": "stdout",
     "output_type": "stream",
     "text": [
      "20\n",
      "23\n",
      "4\n",
      "420\n",
      "43\n",
      "4\n"
     ]
    }
   ],
   "source": [
    "for i in t:\n",
    "    print(i)"
   ]
  },
  {
   "cell_type": "code",
   "execution_count": 87,
   "id": "5392c92a-3846-4d4a-af16-9111ad95e9f9",
   "metadata": {},
   "outputs": [],
   "source": [
    "#membership operators"
   ]
  },
  {
   "cell_type": "code",
   "execution_count": 89,
   "id": "e2fcb5d3-9b12-4a10-98d0-84d4417b4bea",
   "metadata": {},
   "outputs": [
    {
     "data": {
      "text/plain": [
       "True"
      ]
     },
     "execution_count": 89,
     "metadata": {},
     "output_type": "execute_result"
    }
   ],
   "source": [
    "420 in t"
   ]
  },
  {
   "cell_type": "code",
   "execution_count": 91,
   "id": "6324ba37-d85a-4f01-8b79-aded44999125",
   "metadata": {},
   "outputs": [
    {
     "data": {
      "text/plain": [
       "False"
      ]
     },
     "execution_count": 91,
     "metadata": {},
     "output_type": "execute_result"
    }
   ],
   "source": [
    "20 not in t"
   ]
  },
  {
   "cell_type": "code",
   "execution_count": null,
   "id": "aab664b8-55aa-4df9-87e6-07abab28ca41",
   "metadata": {},
   "outputs": [],
   "source": []
  },
  {
   "cell_type": "code",
   "execution_count": 94,
   "id": "a49fcf98-c3e7-4b6c-8b8c-9a6c8c52585c",
   "metadata": {},
   "outputs": [],
   "source": [
    "#contacting tuples"
   ]
  },
  {
   "cell_type": "code",
   "execution_count": 96,
   "id": "d936412a-163e-440f-9baa-a304e60bc111",
   "metadata": {},
   "outputs": [],
   "source": [
    "p = (1,2,3)\n",
    "q = (4,5,6)"
   ]
  },
  {
   "cell_type": "code",
   "execution_count": 100,
   "id": "0372da9d-0cb8-4ba5-b929-187e9e09302f",
   "metadata": {},
   "outputs": [],
   "source": [
    "r= p+q"
   ]
  },
  {
   "cell_type": "code",
   "execution_count": 102,
   "id": "17d7eab1-4e52-4ea4-a1f2-0c36635a3a8a",
   "metadata": {},
   "outputs": [
    {
     "data": {
      "text/plain": [
       "(1, 2, 3)"
      ]
     },
     "execution_count": 102,
     "metadata": {},
     "output_type": "execute_result"
    }
   ],
   "source": [
    "p"
   ]
  },
  {
   "cell_type": "code",
   "execution_count": 104,
   "id": "55e41c12-7e68-40ab-b2ea-189ccd728aae",
   "metadata": {},
   "outputs": [
    {
     "data": {
      "text/plain": [
       "(4, 5, 6)"
      ]
     },
     "execution_count": 104,
     "metadata": {},
     "output_type": "execute_result"
    }
   ],
   "source": [
    "q"
   ]
  },
  {
   "cell_type": "code",
   "execution_count": 106,
   "id": "6e750426-26d7-4e93-aea2-bc1fc4e86975",
   "metadata": {},
   "outputs": [
    {
     "data": {
      "text/plain": [
       "(1, 2, 3, 4, 5, 6)"
      ]
     },
     "execution_count": 106,
     "metadata": {},
     "output_type": "execute_result"
    }
   ],
   "source": [
    "r"
   ]
  },
  {
   "cell_type": "code",
   "execution_count": 108,
   "id": "92a28f34-cdb4-4109-87b7-12d06de3a2cf",
   "metadata": {},
   "outputs": [
    {
     "data": {
      "text/plain": [
       "(5, 5, 5, 5, 5)"
      ]
     },
     "execution_count": 108,
     "metadata": {},
     "output_type": "execute_result"
    }
   ],
   "source": [
    "(5,)*5"
   ]
  },
  {
   "cell_type": "code",
   "execution_count": 110,
   "id": "a6b80173-3e99-4fbb-b0a7-16f573eb3872",
   "metadata": {},
   "outputs": [
    {
     "data": {
      "text/plain": [
       "(10, 10, 10, 10, 10, 10, 10, 10, 10)"
      ]
     },
     "execution_count": 110,
     "metadata": {},
     "output_type": "execute_result"
    }
   ],
   "source": [
    "(10,)*9"
   ]
  },
  {
   "cell_type": "code",
   "execution_count": null,
   "id": "c0e64dd8-b956-4c0c-8b6f-16a9904ba10c",
   "metadata": {},
   "outputs": [],
   "source": []
  },
  {
   "cell_type": "code",
   "execution_count": 113,
   "id": "43d7c2cb-706f-442d-a087-eded1a4e2721",
   "metadata": {},
   "outputs": [
    {
     "ename": "TypeError",
     "evalue": "'tuple' object doesn't support item deletion",
     "output_type": "error",
     "traceback": [
      "\u001b[1;31m---------------------------------------------------------------------------\u001b[0m",
      "\u001b[1;31mTypeError\u001b[0m                                 Traceback (most recent call last)",
      "Cell \u001b[1;32mIn[113], line 1\u001b[0m\n\u001b[1;32m----> 1\u001b[0m \u001b[38;5;28;01mdel\u001b[39;00m t[\u001b[38;5;241m1\u001b[39m]\n",
      "\u001b[1;31mTypeError\u001b[0m: 'tuple' object doesn't support item deletion"
     ]
    }
   ],
   "source": [
    "del t[1]"
   ]
  },
  {
   "cell_type": "code",
   "execution_count": 115,
   "id": "854dafcb-e696-4037-8369-428b9d21b75b",
   "metadata": {},
   "outputs": [],
   "source": [
    "del t"
   ]
  },
  {
   "cell_type": "code",
   "execution_count": 117,
   "id": "2f7fe22c-bbd2-4be3-b15c-86c436f9b460",
   "metadata": {},
   "outputs": [
    {
     "ename": "NameError",
     "evalue": "name 't' is not defined",
     "output_type": "error",
     "traceback": [
      "\u001b[1;31m---------------------------------------------------------------------------\u001b[0m",
      "\u001b[1;31mNameError\u001b[0m                                 Traceback (most recent call last)",
      "Cell \u001b[1;32mIn[117], line 1\u001b[0m\n\u001b[1;32m----> 1\u001b[0m t\n",
      "\u001b[1;31mNameError\u001b[0m: name 't' is not defined"
     ]
    }
   ],
   "source": [
    "t"
   ]
  },
  {
   "cell_type": "code",
   "execution_count": null,
   "id": "361317f1-ea87-44a2-8fa5-a16cf8478173",
   "metadata": {},
   "outputs": [],
   "source": []
  },
  {
   "cell_type": "code",
   "execution_count": 120,
   "id": "ecd3aaed-0b5a-411a-bd03-c5d7fde74e8f",
   "metadata": {},
   "outputs": [],
   "source": [
    "#methods"
   ]
  },
  {
   "cell_type": "code",
   "execution_count": 124,
   "id": "1d3903a2-e6a4-4e88-aea9-34cd9fe7bffd",
   "metadata": {},
   "outputs": [],
   "source": [
    "t = (2,3,4,5,5,32,2,3,23,233,23,24,3)"
   ]
  },
  {
   "cell_type": "code",
   "execution_count": 126,
   "id": "7344b8c2-66ce-49c9-a164-9c3b64ab43ed",
   "metadata": {},
   "outputs": [
    {
     "data": {
      "text/plain": [
       "2"
      ]
     },
     "execution_count": 126,
     "metadata": {},
     "output_type": "execute_result"
    }
   ],
   "source": [
    "t.count(2)"
   ]
  },
  {
   "cell_type": "code",
   "execution_count": 128,
   "id": "75cc981f-a12b-4c13-86e4-a8c78efe3d78",
   "metadata": {},
   "outputs": [
    {
     "data": {
      "text/plain": [
       "3"
      ]
     },
     "execution_count": 128,
     "metadata": {},
     "output_type": "execute_result"
    }
   ],
   "source": [
    "t.index(5)"
   ]
  },
  {
   "cell_type": "code",
   "execution_count": 130,
   "id": "2dc75863-5882-46b4-8934-5a8166421713",
   "metadata": {},
   "outputs": [
    {
     "data": {
      "text/plain": [
       "1"
      ]
     },
     "execution_count": 130,
     "metadata": {},
     "output_type": "execute_result"
    }
   ],
   "source": [
    "t.index(3)"
   ]
  },
  {
   "cell_type": "code",
   "execution_count": null,
   "id": "481f51ad-608b-43a1-842f-ace64263dde7",
   "metadata": {},
   "outputs": [],
   "source": []
  },
  {
   "cell_type": "code",
   "execution_count": 133,
   "id": "84216577-f77f-4ba0-b2b1-f5b66a0c6e64",
   "metadata": {},
   "outputs": [],
   "source": [
    "#tuple unpacking"
   ]
  },
  {
   "cell_type": "code",
   "execution_count": 135,
   "id": "642ce2c0-30b6-403a-b708-11c40543ba80",
   "metadata": {},
   "outputs": [],
   "source": [
    "s = (4,5,6)"
   ]
  },
  {
   "cell_type": "code",
   "execution_count": 137,
   "id": "213a3a76-ce21-4bcb-bebc-3b88c4015491",
   "metadata": {},
   "outputs": [],
   "source": [
    "p,q,r = s"
   ]
  },
  {
   "cell_type": "code",
   "execution_count": 139,
   "id": "1bcd8eff-184e-43dd-9be8-76657d2b8353",
   "metadata": {},
   "outputs": [
    {
     "data": {
      "text/plain": [
       "4"
      ]
     },
     "execution_count": 139,
     "metadata": {},
     "output_type": "execute_result"
    }
   ],
   "source": [
    "p"
   ]
  },
  {
   "cell_type": "code",
   "execution_count": 141,
   "id": "46f987bd-3c68-4ab4-a843-ef4245b80802",
   "metadata": {},
   "outputs": [
    {
     "data": {
      "text/plain": [
       "5"
      ]
     },
     "execution_count": 141,
     "metadata": {},
     "output_type": "execute_result"
    }
   ],
   "source": [
    "q"
   ]
  },
  {
   "cell_type": "code",
   "execution_count": 145,
   "id": "0da9f508-5f93-41bf-9ea3-03c87d585e97",
   "metadata": {},
   "outputs": [
    {
     "data": {
      "text/plain": [
       "6"
      ]
     },
     "execution_count": 145,
     "metadata": {},
     "output_type": "execute_result"
    }
   ],
   "source": [
    "r"
   ]
  },
  {
   "cell_type": "code",
   "execution_count": null,
   "id": "4c529ccf-df51-4c96-bb61-d17c42df5039",
   "metadata": {},
   "outputs": [],
   "source": []
  },
  {
   "cell_type": "markdown",
   "id": "25d64866-8c4e-4a0d-9d99-2a495dc8a642",
   "metadata": {},
   "source": [
    "# SETS\n",
    "* contains only unique elements\n",
    "* collection of elements\n",
    "* mutable in nature\n",
    "* unordered\n",
    "* non indexiable"
   ]
  },
  {
   "cell_type": "code",
   "execution_count": 3,
   "id": "e8ab5ac8-5701-449a-b8fb-4a139787d8f7",
   "metadata": {},
   "outputs": [],
   "source": [
    "t = set()"
   ]
  },
  {
   "cell_type": "code",
   "execution_count": 5,
   "id": "f89bbd06-c305-4399-abcd-0f20d5494328",
   "metadata": {},
   "outputs": [
    {
     "data": {
      "text/plain": [
       "set"
      ]
     },
     "execution_count": 5,
     "metadata": {},
     "output_type": "execute_result"
    }
   ],
   "source": [
    "type(t)"
   ]
  },
  {
   "cell_type": "code",
   "execution_count": 7,
   "id": "22bb113e-55d7-454f-acac-f9ad7ce27886",
   "metadata": {},
   "outputs": [],
   "source": [
    "h = {}"
   ]
  },
  {
   "cell_type": "code",
   "execution_count": 9,
   "id": "59c60bf4-3f14-4360-a46f-2599aacfc86b",
   "metadata": {},
   "outputs": [
    {
     "data": {
      "text/plain": [
       "dict"
      ]
     },
     "execution_count": 9,
     "metadata": {},
     "output_type": "execute_result"
    }
   ],
   "source": [
    "type(h)"
   ]
  },
  {
   "cell_type": "code",
   "execution_count": 11,
   "id": "86c48aea-c5bc-4f2a-acb3-9d66efb3effc",
   "metadata": {},
   "outputs": [],
   "source": [
    "p = []\n"
   ]
  },
  {
   "cell_type": "code",
   "execution_count": 13,
   "id": "db308d70-c638-41ec-94c2-b4dfb012397f",
   "metadata": {},
   "outputs": [
    {
     "data": {
      "text/plain": [
       "list"
      ]
     },
     "execution_count": 13,
     "metadata": {},
     "output_type": "execute_result"
    }
   ],
   "source": [
    "type(p)"
   ]
  },
  {
   "cell_type": "code",
   "execution_count": 15,
   "id": "89997c0f-60bf-4335-9ff4-95b82929ce79",
   "metadata": {},
   "outputs": [],
   "source": [
    "m = ()"
   ]
  },
  {
   "cell_type": "code",
   "execution_count": 17,
   "id": "769734bf-d80a-4934-8258-c2a1371b7be8",
   "metadata": {},
   "outputs": [
    {
     "data": {
      "text/plain": [
       "tuple"
      ]
     },
     "execution_count": 17,
     "metadata": {},
     "output_type": "execute_result"
    }
   ],
   "source": [
    "type(m)"
   ]
  },
  {
   "cell_type": "code",
   "execution_count": 19,
   "id": "e8a841a2-a97b-4b60-b5d6-ec76cf1911fb",
   "metadata": {},
   "outputs": [],
   "source": [
    "a = \"\""
   ]
  },
  {
   "cell_type": "code",
   "execution_count": 21,
   "id": "08917b18-b195-4b03-8f7e-4b9cc4f76f0e",
   "metadata": {},
   "outputs": [
    {
     "data": {
      "text/plain": [
       "str"
      ]
     },
     "execution_count": 21,
     "metadata": {},
     "output_type": "execute_result"
    }
   ],
   "source": [
    "type(a)"
   ]
  },
  {
   "cell_type": "code",
   "execution_count": 23,
   "id": "988a4d22-4308-407b-b912-d4b82b5f525e",
   "metadata": {},
   "outputs": [],
   "source": [
    "b = {2,1,3,5,4,7,6,8,7,9,0,8,7,5,4,6,4,3,4}"
   ]
  },
  {
   "cell_type": "code",
   "execution_count": 25,
   "id": "9484a6cc-1c3f-4445-a755-cc51ad0fe5e9",
   "metadata": {},
   "outputs": [
    {
     "data": {
      "text/plain": [
       "set"
      ]
     },
     "execution_count": 25,
     "metadata": {},
     "output_type": "execute_result"
    }
   ],
   "source": [
    "type(b)"
   ]
  },
  {
   "cell_type": "code",
   "execution_count": 27,
   "id": "e05e32c2-8733-443b-b97a-2ec5354a5716",
   "metadata": {},
   "outputs": [
    {
     "data": {
      "text/plain": [
       "{0, 1, 2, 3, 4, 5, 6, 7, 8, 9}"
      ]
     },
     "execution_count": 27,
     "metadata": {},
     "output_type": "execute_result"
    }
   ],
   "source": [
    "b"
   ]
  },
  {
   "cell_type": "code",
   "execution_count": 29,
   "id": "e1974777-537c-4ba6-b033-ac2d9d762f27",
   "metadata": {},
   "outputs": [
    {
     "ename": "TypeError",
     "evalue": "'set' object is not subscriptable",
     "output_type": "error",
     "traceback": [
      "\u001b[1;31m---------------------------------------------------------------------------\u001b[0m",
      "\u001b[1;31mTypeError\u001b[0m                                 Traceback (most recent call last)",
      "Cell \u001b[1;32mIn[29], line 1\u001b[0m\n\u001b[1;32m----> 1\u001b[0m b[\u001b[38;5;241m2\u001b[39m]\n",
      "\u001b[1;31mTypeError\u001b[0m: 'set' object is not subscriptable"
     ]
    }
   ],
   "source": [
    "b[2]"
   ]
  },
  {
   "cell_type": "code",
   "execution_count": 31,
   "id": "6fbd350b-808e-4806-8265-933afcb9c4b3",
   "metadata": {},
   "outputs": [
    {
     "data": {
      "text/plain": [
       "{0, 1, 2, 3, 4, 5, 6, 7, 8, 9}"
      ]
     },
     "execution_count": 31,
     "metadata": {},
     "output_type": "execute_result"
    }
   ],
   "source": [
    "b"
   ]
  },
  {
   "cell_type": "code",
   "execution_count": 33,
   "id": "a49f39ec-fd93-4c69-af57-6a6c781f92e5",
   "metadata": {},
   "outputs": [],
   "source": [
    "b.add(10)"
   ]
  },
  {
   "cell_type": "code",
   "execution_count": 35,
   "id": "ae864571-4fd6-4d95-aa83-47a56661032a",
   "metadata": {},
   "outputs": [
    {
     "data": {
      "text/plain": [
       "{0, 1, 2, 3, 4, 5, 6, 7, 8, 9, 10}"
      ]
     },
     "execution_count": 35,
     "metadata": {},
     "output_type": "execute_result"
    }
   ],
   "source": [
    "b"
   ]
  },
  {
   "cell_type": "code",
   "execution_count": 37,
   "id": "c8412e6f-e4ca-4a76-b231-d71b0842a8ef",
   "metadata": {},
   "outputs": [],
   "source": [
    "b.add(11)"
   ]
  },
  {
   "cell_type": "code",
   "execution_count": 39,
   "id": "8c8c5c92-7417-4adb-98a3-0914e55516de",
   "metadata": {},
   "outputs": [
    {
     "data": {
      "text/plain": [
       "{0, 1, 2, 3, 4, 5, 6, 7, 8, 9, 10, 11}"
      ]
     },
     "execution_count": 39,
     "metadata": {},
     "output_type": "execute_result"
    }
   ],
   "source": [
    "b"
   ]
  },
  {
   "cell_type": "code",
   "execution_count": 41,
   "id": "bd7f999f-1657-4f1c-9b1b-1484cfc02167",
   "metadata": {},
   "outputs": [],
   "source": [
    "b.remove(10)"
   ]
  },
  {
   "cell_type": "code",
   "execution_count": 43,
   "id": "3570561b-f94b-4be8-aea0-b8b1454a71c5",
   "metadata": {},
   "outputs": [
    {
     "data": {
      "text/plain": [
       "{0, 1, 2, 3, 4, 5, 6, 7, 8, 9, 11}"
      ]
     },
     "execution_count": 43,
     "metadata": {},
     "output_type": "execute_result"
    }
   ],
   "source": [
    "b"
   ]
  },
  {
   "cell_type": "code",
   "execution_count": 45,
   "id": "8ccd9084-0a15-45dc-ad7d-6f84d4f1cadc",
   "metadata": {},
   "outputs": [
    {
     "ename": "KeyError",
     "evalue": "420",
     "output_type": "error",
     "traceback": [
      "\u001b[1;31m---------------------------------------------------------------------------\u001b[0m",
      "\u001b[1;31mKeyError\u001b[0m                                  Traceback (most recent call last)",
      "Cell \u001b[1;32mIn[45], line 1\u001b[0m\n\u001b[1;32m----> 1\u001b[0m b\u001b[38;5;241m.\u001b[39mremove(\u001b[38;5;241m420\u001b[39m)\n",
      "\u001b[1;31mKeyError\u001b[0m: 420"
     ]
    }
   ],
   "source": [
    "b.remove(420)"
   ]
  },
  {
   "cell_type": "code",
   "execution_count": 47,
   "id": "afc833d2-ffbc-4938-b3c4-c5620f516123",
   "metadata": {},
   "outputs": [],
   "source": [
    "b.remove(11)"
   ]
  },
  {
   "cell_type": "code",
   "execution_count": 49,
   "id": "5ee9e0de-ceef-4b18-aca8-5ea112577b07",
   "metadata": {},
   "outputs": [
    {
     "data": {
      "text/plain": [
       "{0, 1, 2, 3, 4, 5, 6, 7, 8, 9}"
      ]
     },
     "execution_count": 49,
     "metadata": {},
     "output_type": "execute_result"
    }
   ],
   "source": [
    "b"
   ]
  },
  {
   "cell_type": "code",
   "execution_count": 51,
   "id": "27764434-494b-46fd-af9b-41b271a3e19b",
   "metadata": {},
   "outputs": [],
   "source": [
    "b.discard(0)"
   ]
  },
  {
   "cell_type": "code",
   "execution_count": 53,
   "id": "89fd7455-d44b-4db5-96b9-fb1a27d571d1",
   "metadata": {},
   "outputs": [
    {
     "data": {
      "text/plain": [
       "{1, 2, 3, 4, 5, 6, 7, 8, 9}"
      ]
     },
     "execution_count": 53,
     "metadata": {},
     "output_type": "execute_result"
    }
   ],
   "source": [
    "b"
   ]
  },
  {
   "cell_type": "code",
   "execution_count": 55,
   "id": "ad48f105-1a96-43e1-ae41-85ad13228ac3",
   "metadata": {},
   "outputs": [],
   "source": [
    "b.discard(10)"
   ]
  },
  {
   "cell_type": "code",
   "execution_count": 57,
   "id": "e9a34775-996a-4943-a9a9-4fd2668ea8a9",
   "metadata": {},
   "outputs": [
    {
     "data": {
      "text/plain": [
       "{1, 2, 3, 4, 5, 6, 7, 8, 9}"
      ]
     },
     "execution_count": 57,
     "metadata": {},
     "output_type": "execute_result"
    }
   ],
   "source": [
    "b"
   ]
  },
  {
   "cell_type": "code",
   "execution_count": 61,
   "id": "321dd425-e90f-4735-ab2a-9a7043ea3086",
   "metadata": {},
   "outputs": [],
   "source": [
    "b.update({1,2,15,10,14})"
   ]
  },
  {
   "cell_type": "code",
   "execution_count": 63,
   "id": "5021e969-12d5-4506-b462-7b9ff04e9fdc",
   "metadata": {},
   "outputs": [
    {
     "data": {
      "text/plain": [
       "{1, 2, 3, 4, 5, 6, 7, 8, 9, 10, 14, 15}"
      ]
     },
     "execution_count": 63,
     "metadata": {},
     "output_type": "execute_result"
    }
   ],
   "source": [
    "b"
   ]
  },
  {
   "cell_type": "code",
   "execution_count": null,
   "id": "dc1bd588-fb04-4463-85e2-89cae63ab7db",
   "metadata": {},
   "outputs": [],
   "source": []
  },
  {
   "cell_type": "markdown",
   "id": "e8c403f8-de1c-4ad5-90ab-c35130224786",
   "metadata": {},
   "source": [
    "# set operations"
   ]
  },
  {
   "cell_type": "code",
   "execution_count": 67,
   "id": "458b4307-1c99-4a76-a712-7cce907c4823",
   "metadata": {},
   "outputs": [],
   "source": [
    "s1 = {1,2,3,5,9}\n",
    "s2 = {1,5,7,8,9}"
   ]
  },
  {
   "cell_type": "code",
   "execution_count": 69,
   "id": "84c1889e-5f4f-4c09-b7d0-8dde0fa9c7bd",
   "metadata": {},
   "outputs": [
    {
     "data": {
      "text/plain": [
       "{1, 2, 3, 5, 9}"
      ]
     },
     "execution_count": 69,
     "metadata": {},
     "output_type": "execute_result"
    }
   ],
   "source": [
    "s1"
   ]
  },
  {
   "cell_type": "code",
   "execution_count": 71,
   "id": "2754b710-1f9d-4199-937f-2db6f2170310",
   "metadata": {},
   "outputs": [
    {
     "data": {
      "text/plain": [
       "{1, 5, 7, 8, 9}"
      ]
     },
     "execution_count": 71,
     "metadata": {},
     "output_type": "execute_result"
    }
   ],
   "source": [
    "s2"
   ]
  },
  {
   "cell_type": "code",
   "execution_count": 73,
   "id": "d3eac150-57ee-4d93-8fb0-b256f3715abe",
   "metadata": {},
   "outputs": [
    {
     "data": {
      "text/plain": [
       "{1, 5, 9}"
      ]
     },
     "execution_count": 73,
     "metadata": {},
     "output_type": "execute_result"
    }
   ],
   "source": [
    "s1.intersection(s2)"
   ]
  },
  {
   "cell_type": "code",
   "execution_count": 75,
   "id": "f3a57c08-e4ad-45f0-8c19-5ea8670e8cc6",
   "metadata": {},
   "outputs": [
    {
     "data": {
      "text/plain": [
       "{1, 5, 9}"
      ]
     },
     "execution_count": 75,
     "metadata": {},
     "output_type": "execute_result"
    }
   ],
   "source": [
    "s1&s2"
   ]
  },
  {
   "cell_type": "code",
   "execution_count": 77,
   "id": "ad0c93d6-8eaf-4ae5-a61d-3567d8ed52b8",
   "metadata": {},
   "outputs": [
    {
     "data": {
      "text/plain": [
       "{1, 2, 3, 5, 7, 8, 9}"
      ]
     },
     "execution_count": 77,
     "metadata": {},
     "output_type": "execute_result"
    }
   ],
   "source": [
    "s1.union(s2)"
   ]
  },
  {
   "cell_type": "code",
   "execution_count": 79,
   "id": "cd5b5ae2-703e-46b6-917c-2a092651aa16",
   "metadata": {},
   "outputs": [
    {
     "data": {
      "text/plain": [
       "{1, 2, 3, 5, 7, 8, 9}"
      ]
     },
     "execution_count": 79,
     "metadata": {},
     "output_type": "execute_result"
    }
   ],
   "source": [
    "s1 | s2"
   ]
  },
  {
   "cell_type": "code",
   "execution_count": 81,
   "id": "50526595-ea40-4523-bcdf-bc551c763ca1",
   "metadata": {},
   "outputs": [
    {
     "data": {
      "text/plain": [
       "{2, 3}"
      ]
     },
     "execution_count": 81,
     "metadata": {},
     "output_type": "execute_result"
    }
   ],
   "source": [
    "s1 - s2"
   ]
  },
  {
   "cell_type": "code",
   "execution_count": 83,
   "id": "c65cb1c1-6014-49af-a0ec-c86f60d07b41",
   "metadata": {},
   "outputs": [
    {
     "data": {
      "text/plain": [
       "{7, 8}"
      ]
     },
     "execution_count": 83,
     "metadata": {},
     "output_type": "execute_result"
    }
   ],
   "source": [
    "s2 - s1"
   ]
  },
  {
   "cell_type": "code",
   "execution_count": 85,
   "id": "f837e6d7-09a3-480f-81c7-d532232480ee",
   "metadata": {},
   "outputs": [
    {
     "data": {
      "text/plain": [
       "{2, 3, 7, 8}"
      ]
     },
     "execution_count": 85,
     "metadata": {},
     "output_type": "execute_result"
    }
   ],
   "source": [
    "s1.symmetric_difference(s2)"
   ]
  },
  {
   "cell_type": "code",
   "execution_count": 87,
   "id": "b3b21c7e-401a-467c-a509-9ae2145ad1ff",
   "metadata": {},
   "outputs": [
    {
     "data": {
      "text/plain": [
       "{2, 3, 7, 8}"
      ]
     },
     "execution_count": 87,
     "metadata": {},
     "output_type": "execute_result"
    }
   ],
   "source": [
    "(s1 | s2) - (s1 & s2)"
   ]
  },
  {
   "cell_type": "code",
   "execution_count": 97,
   "id": "acc7e0c3-9a65-49ad-a5d1-b20285d6c3d7",
   "metadata": {},
   "outputs": [],
   "source": [
    "some_list = [6,3,7,6,4,1,0,9,2,1,0,8,6,4,7]"
   ]
  },
  {
   "cell_type": "code",
   "execution_count": 143,
   "id": "e71386a3-815f-46e3-87b1-0a0c236dd4b5",
   "metadata": {},
   "outputs": [],
   "source": [
    "some_list = set([6,3,7,6,4,1,0,9,2,1,0,8,6,4,7])"
   ]
  },
  {
   "cell_type": "code",
   "execution_count": 145,
   "id": "a8f1722d-ca72-4d36-9b06-2f07f646bd5f",
   "metadata": {},
   "outputs": [
    {
     "data": {
      "text/plain": [
       "{0, 1, 2, 3, 4, 6, 7, 8, 9}"
      ]
     },
     "execution_count": 145,
     "metadata": {},
     "output_type": "execute_result"
    }
   ],
   "source": [
    "some_list"
   ]
  },
  {
   "cell_type": "code",
   "execution_count": 147,
   "id": "74fcdb3c-f56e-43f5-a88f-7a919a23e26e",
   "metadata": {},
   "outputs": [],
   "source": [
    "some_list = list(some_list)"
   ]
  },
  {
   "cell_type": "code",
   "execution_count": 149,
   "id": "0bc8a67c-0eaa-44d1-a21c-105179891ece",
   "metadata": {},
   "outputs": [
    {
     "data": {
      "text/plain": [
       "[0, 1, 2, 3, 4, 6, 7, 8, 9]"
      ]
     },
     "execution_count": 149,
     "metadata": {},
     "output_type": "execute_result"
    }
   ],
   "source": [
    "some_list"
   ]
  },
  {
   "cell_type": "code",
   "execution_count": null,
   "id": "8f7d101e-5bc3-4681-8d10-e8cc20d50caa",
   "metadata": {},
   "outputs": [],
   "source": []
  },
  {
   "cell_type": "markdown",
   "id": "10c448d2-9fd7-4358-b624-fa83a2477807",
   "metadata": {},
   "source": [
    "# Dictionary\n",
    "* it is a collection of elements - it stores data in key value pair\n",
    "* it is ordered\n",
    "* indexing is possible with the help of keys\n",
    "* mutable in nature - changeable"
   ]
  },
  {
   "cell_type": "code",
   "execution_count": 5,
   "id": "9ed07359-0e70-4c8e-906e-8978f78068a9",
   "metadata": {},
   "outputs": [],
   "source": [
    "p = {}"
   ]
  },
  {
   "cell_type": "code",
   "execution_count": 7,
   "id": "5ad49701-c6d3-401d-bb3f-065a61c416d7",
   "metadata": {},
   "outputs": [
    {
     "data": {
      "text/plain": [
       "dict"
      ]
     },
     "execution_count": 7,
     "metadata": {},
     "output_type": "execute_result"
    }
   ],
   "source": [
    "type(p)"
   ]
  },
  {
   "cell_type": "code",
   "execution_count": 9,
   "id": "54c8aa54-fe9b-4d53-8fc2-b2fdc909fd70",
   "metadata": {},
   "outputs": [],
   "source": [
    "a = dict()"
   ]
  },
  {
   "cell_type": "code",
   "execution_count": 11,
   "id": "7896b84c-70bb-406f-b08d-08a3470a78bb",
   "metadata": {},
   "outputs": [
    {
     "data": {
      "text/plain": [
       "{}"
      ]
     },
     "execution_count": 11,
     "metadata": {},
     "output_type": "execute_result"
    }
   ],
   "source": [
    "a"
   ]
  },
  {
   "cell_type": "code",
   "execution_count": 13,
   "id": "e3d3affa-072a-434d-950c-5edece24568d",
   "metadata": {},
   "outputs": [
    {
     "data": {
      "text/plain": [
       "dict"
      ]
     },
     "execution_count": 13,
     "metadata": {},
     "output_type": "execute_result"
    }
   ],
   "source": [
    "type(a)"
   ]
  },
  {
   "cell_type": "code",
   "execution_count": 15,
   "id": "9adcda6e-b82e-484f-b811-9d876d0e4f43",
   "metadata": {},
   "outputs": [],
   "source": [
    "t = [(89, \"pyhton\"), (45,\"html\"),(33 , \"sql\")]"
   ]
  },
  {
   "cell_type": "code",
   "execution_count": 17,
   "id": "c0b30767-0fcb-4988-ba8a-beb3fbe51e07",
   "metadata": {},
   "outputs": [
    {
     "data": {
      "text/plain": [
       "[(89, 'pyhton'), (45, 'html'), (33, 'sql')]"
      ]
     },
     "execution_count": 17,
     "metadata": {},
     "output_type": "execute_result"
    }
   ],
   "source": [
    "t"
   ]
  },
  {
   "cell_type": "code",
   "execution_count": 19,
   "id": "51eee5c8-e46d-4344-9737-af3ad667c96b",
   "metadata": {},
   "outputs": [],
   "source": [
    "t = dict(t)"
   ]
  },
  {
   "cell_type": "code",
   "execution_count": 21,
   "id": "5cff7120-9ca9-4e58-859f-3d3dc658189f",
   "metadata": {},
   "outputs": [
    {
     "data": {
      "text/plain": [
       "{89: 'pyhton', 45: 'html', 33: 'sql'}"
      ]
     },
     "execution_count": 21,
     "metadata": {},
     "output_type": "execute_result"
    }
   ],
   "source": [
    "t"
   ]
  },
  {
   "cell_type": "code",
   "execution_count": 23,
   "id": "b2a7852d-313f-490a-a9b1-b9514e6f030b",
   "metadata": {},
   "outputs": [],
   "source": [
    "h = dict([(89, \"pyhton\"), (45,\"html\"),(33 , \"sql\")])"
   ]
  },
  {
   "cell_type": "code",
   "execution_count": 25,
   "id": "8b8458bc-f098-4c10-b872-148a5afaecc5",
   "metadata": {},
   "outputs": [
    {
     "data": {
      "text/plain": [
       "{89: 'pyhton', 45: 'html', 33: 'sql'}"
      ]
     },
     "execution_count": 25,
     "metadata": {},
     "output_type": "execute_result"
    }
   ],
   "source": [
    "h"
   ]
  },
  {
   "cell_type": "code",
   "execution_count": 27,
   "id": "e517b73b-4854-4f05-b6c0-f62d3ade3081",
   "metadata": {},
   "outputs": [],
   "source": [
    "user_info = { \"name\" : \"JATT\" ,\n",
    "             \"age\" : 24 ,\n",
    "             \"nationality\" : \"INDIAN\"}"
   ]
  },
  {
   "cell_type": "code",
   "execution_count": 29,
   "id": "e4d614ab-4051-43ee-8b25-719b1fa9e0cc",
   "metadata": {},
   "outputs": [
    {
     "data": {
      "text/plain": [
       "{'name': 'JATT', 'age': 24, 'nationality': 'INDIAN'}"
      ]
     },
     "execution_count": 29,
     "metadata": {},
     "output_type": "execute_result"
    }
   ],
   "source": [
    "user_info"
   ]
  },
  {
   "cell_type": "code",
   "execution_count": 31,
   "id": "beed7cf9-47b2-46dd-98cd-3340371bb8bb",
   "metadata": {},
   "outputs": [
    {
     "data": {
      "text/plain": [
       "dict"
      ]
     },
     "execution_count": 31,
     "metadata": {},
     "output_type": "execute_result"
    }
   ],
   "source": [
    "type(user_info)"
   ]
  },
  {
   "cell_type": "code",
   "execution_count": 33,
   "id": "3f40e20d-eb67-4a00-bc9d-f0a7f73780a9",
   "metadata": {},
   "outputs": [
    {
     "data": {
      "text/plain": [
       "'JATT'"
      ]
     },
     "execution_count": 33,
     "metadata": {},
     "output_type": "execute_result"
    }
   ],
   "source": [
    "user_info[\"name\"]"
   ]
  },
  {
   "cell_type": "code",
   "execution_count": 35,
   "id": "79f22d00-aeb3-4e0a-812a-b6c131f66aaf",
   "metadata": {},
   "outputs": [
    {
     "data": {
      "text/plain": [
       "24"
      ]
     },
     "execution_count": 35,
     "metadata": {},
     "output_type": "execute_result"
    }
   ],
   "source": [
    "user_info[\"age\"]"
   ]
  },
  {
   "cell_type": "code",
   "execution_count": 37,
   "id": "02d59524-4277-42df-ac9e-8187b315b650",
   "metadata": {},
   "outputs": [
    {
     "ename": "KeyError",
     "evalue": "'hobby'",
     "output_type": "error",
     "traceback": [
      "\u001b[1;31m---------------------------------------------------------------------------\u001b[0m",
      "\u001b[1;31mKeyError\u001b[0m                                  Traceback (most recent call last)",
      "Cell \u001b[1;32mIn[37], line 1\u001b[0m\n\u001b[1;32m----> 1\u001b[0m user_info[\u001b[38;5;124m\"\u001b[39m\u001b[38;5;124mhobby\u001b[39m\u001b[38;5;124m\"\u001b[39m]\n",
      "\u001b[1;31mKeyError\u001b[0m: 'hobby'"
     ]
    }
   ],
   "source": [
    "user_info[\"hobby\"]"
   ]
  },
  {
   "cell_type": "code",
   "execution_count": 41,
   "id": "10bbd8d8-bf47-4cf3-9eb9-7f720337caed",
   "metadata": {},
   "outputs": [
    {
     "data": {
      "text/plain": [
       "'JATT'"
      ]
     },
     "execution_count": 41,
     "metadata": {},
     "output_type": "execute_result"
    }
   ],
   "source": [
    "user_info.get(\"name\")"
   ]
  },
  {
   "cell_type": "code",
   "execution_count": 43,
   "id": "1d68b6fc-e7f7-42b7-8f52-4e756082c802",
   "metadata": {},
   "outputs": [],
   "source": [
    "user_info.get(\"hobby\")"
   ]
  },
  {
   "cell_type": "code",
   "execution_count": null,
   "id": "c981f3c5-845b-4b91-bcc9-86c822150f4b",
   "metadata": {},
   "outputs": [],
   "source": []
  },
  {
   "cell_type": "code",
   "execution_count": 46,
   "id": "98c2cbbc-eaea-4b3b-abb5-20e35a11fc46",
   "metadata": {},
   "outputs": [],
   "source": [
    "#add / modify data in dictionary"
   ]
  },
  {
   "cell_type": "code",
   "execution_count": 48,
   "id": "d27c992c-0753-4c97-8567-a4ca2238f599",
   "metadata": {},
   "outputs": [],
   "source": [
    "user_info[\"hobby\"] = \"Singing\""
   ]
  },
  {
   "cell_type": "code",
   "execution_count": 50,
   "id": "0ffca20e-1d34-486a-a748-f87ba74c35ec",
   "metadata": {},
   "outputs": [
    {
     "data": {
      "text/plain": [
       "{'name': 'JATT', 'age': 24, 'nationality': 'INDIAN', 'hobby': 'Singing'}"
      ]
     },
     "execution_count": 50,
     "metadata": {},
     "output_type": "execute_result"
    }
   ],
   "source": [
    "user_info"
   ]
  },
  {
   "cell_type": "code",
   "execution_count": 52,
   "id": "3970fc8b-87d5-43e8-a0ce-7b5341bb4807",
   "metadata": {},
   "outputs": [],
   "source": [
    "user_info[\"Salary\"] = 5000000"
   ]
  },
  {
   "cell_type": "code",
   "execution_count": 54,
   "id": "7f96b5ee-6811-45c4-a533-eafb8305d922",
   "metadata": {},
   "outputs": [
    {
     "data": {
      "text/plain": [
       "{'name': 'JATT',\n",
       " 'age': 24,\n",
       " 'nationality': 'INDIAN',\n",
       " 'hobby': 'Singing',\n",
       " 'Salary': 5000000}"
      ]
     },
     "execution_count": 54,
     "metadata": {},
     "output_type": "execute_result"
    }
   ],
   "source": [
    "user_info"
   ]
  },
  {
   "cell_type": "code",
   "execution_count": 56,
   "id": "1c6cb078-0632-4433-acb1-7d2e18f6fb09",
   "metadata": {},
   "outputs": [],
   "source": [
    "user_info[\"name\"] = \"Narwal\""
   ]
  },
  {
   "cell_type": "code",
   "execution_count": 58,
   "id": "d38ca98f-fe09-405b-9568-846bc72492a9",
   "metadata": {},
   "outputs": [
    {
     "data": {
      "text/plain": [
       "{'name': 'Narwal',\n",
       " 'age': 24,\n",
       " 'nationality': 'INDIAN',\n",
       " 'hobby': 'Singing',\n",
       " 'Salary': 5000000}"
      ]
     },
     "execution_count": 58,
     "metadata": {},
     "output_type": "execute_result"
    }
   ],
   "source": [
    "user_info"
   ]
  },
  {
   "cell_type": "code",
   "execution_count": null,
   "id": "a306e75c-2dba-4229-aa46-8fbbcf4234c3",
   "metadata": {},
   "outputs": [],
   "source": []
  },
  {
   "cell_type": "code",
   "execution_count": 61,
   "id": "b594183d-129a-4f6e-9811-33518f90198f",
   "metadata": {},
   "outputs": [],
   "source": [
    "#dictionary functions"
   ]
  },
  {
   "cell_type": "code",
   "execution_count": 63,
   "id": "c6830ca8-bed0-4754-89ce-1503a2758544",
   "metadata": {},
   "outputs": [
    {
     "data": {
      "text/plain": [
       "{'name': 'Narwal',\n",
       " 'age': 24,\n",
       " 'nationality': 'INDIAN',\n",
       " 'hobby': 'Singing',\n",
       " 'Salary': 5000000}"
      ]
     },
     "execution_count": 63,
     "metadata": {},
     "output_type": "execute_result"
    }
   ],
   "source": [
    "user_info"
   ]
  },
  {
   "cell_type": "code",
   "execution_count": 65,
   "id": "49eb5e6a-3deb-4ab0-83ba-27822d4de805",
   "metadata": {},
   "outputs": [
    {
     "data": {
      "text/plain": [
       "dict_keys(['name', 'age', 'nationality', 'hobby', 'Salary'])"
      ]
     },
     "execution_count": 65,
     "metadata": {},
     "output_type": "execute_result"
    }
   ],
   "source": [
    "user_info.keys()"
   ]
  },
  {
   "cell_type": "code",
   "execution_count": 67,
   "id": "2ce0e854-5ed1-46a1-af06-b89db98b7f0e",
   "metadata": {},
   "outputs": [
    {
     "data": {
      "text/plain": [
       "dict_values(['Narwal', 24, 'INDIAN', 'Singing', 5000000])"
      ]
     },
     "execution_count": 67,
     "metadata": {},
     "output_type": "execute_result"
    }
   ],
   "source": [
    "user_info.values()"
   ]
  },
  {
   "cell_type": "code",
   "execution_count": 69,
   "id": "352e0f2d-048a-410f-b341-302aba690cb7",
   "metadata": {},
   "outputs": [
    {
     "data": {
      "text/plain": [
       "dict_items([('name', 'Narwal'), ('age', 24), ('nationality', 'INDIAN'), ('hobby', 'Singing'), ('Salary', 5000000)])"
      ]
     },
     "execution_count": 69,
     "metadata": {},
     "output_type": "execute_result"
    }
   ],
   "source": [
    "user_info.items()"
   ]
  },
  {
   "cell_type": "code",
   "execution_count": 71,
   "id": "ff03d00a-7260-4e42-ae0f-08ef0c801c7b",
   "metadata": {},
   "outputs": [
    {
     "data": {
      "text/plain": [
       "{'name': 'Narwal',\n",
       " 'age': 24,\n",
       " 'nationality': 'INDIAN',\n",
       " 'hobby': 'Singing',\n",
       " 'Salary': 5000000}"
      ]
     },
     "execution_count": 71,
     "metadata": {},
     "output_type": "execute_result"
    }
   ],
   "source": [
    "user_info"
   ]
  },
  {
   "cell_type": "code",
   "execution_count": 73,
   "id": "8005b2fe-83a7-4530-9d6a-e78c523cddba",
   "metadata": {},
   "outputs": [
    {
     "name": "stdout",
     "output_type": "stream",
     "text": [
      "name\n",
      "age\n",
      "nationality\n",
      "hobby\n",
      "Salary\n"
     ]
    }
   ],
   "source": [
    "for i in user_info:\n",
    "    print(i)"
   ]
  },
  {
   "cell_type": "code",
   "execution_count": 79,
   "id": "e2426c41-18cb-4ca9-a63a-70eacc10266e",
   "metadata": {},
   "outputs": [
    {
     "name": "stdout",
     "output_type": "stream",
     "text": [
      "name\n",
      "age\n",
      "nationality\n",
      "hobby\n",
      "Salary\n"
     ]
    }
   ],
   "source": [
    "for i in user_info.keys():\n",
    "    print(i)"
   ]
  },
  {
   "cell_type": "code",
   "execution_count": 81,
   "id": "26db18fb-598a-41c7-a323-3ece9cdb2018",
   "metadata": {},
   "outputs": [
    {
     "name": "stdout",
     "output_type": "stream",
     "text": [
      "Narwal\n",
      "24\n",
      "INDIAN\n",
      "Singing\n",
      "5000000\n"
     ]
    }
   ],
   "source": [
    "for i in user_info.values():\n",
    "    print(i)"
   ]
  },
  {
   "cell_type": "code",
   "execution_count": 83,
   "id": "6700856f-b788-44b0-983c-9eed79e30f58",
   "metadata": {},
   "outputs": [
    {
     "name": "stdout",
     "output_type": "stream",
     "text": [
      "('name', 'Narwal')\n",
      "('age', 24)\n",
      "('nationality', 'INDIAN')\n",
      "('hobby', 'Singing')\n",
      "('Salary', 5000000)\n"
     ]
    }
   ],
   "source": [
    "for i in user_info.items():\n",
    "    print(i)"
   ]
  },
  {
   "cell_type": "code",
   "execution_count": 85,
   "id": "81fe92ce-81fd-4ff1-87f1-e5bee35c0286",
   "metadata": {},
   "outputs": [
    {
     "name": "stdout",
     "output_type": "stream",
     "text": [
      "name = Narwal\n",
      "age = 24\n",
      "nationality = INDIAN\n",
      "hobby = Singing\n",
      "Salary = 5000000\n"
     ]
    }
   ],
   "source": [
    "for k,v in user_info.items():\n",
    "    print(k , \"=\" , v)"
   ]
  },
  {
   "cell_type": "code",
   "execution_count": 89,
   "id": "04276fcb-0fc6-48b5-9631-91e6d2328377",
   "metadata": {},
   "outputs": [
    {
     "name": "stdout",
     "output_type": "stream",
     "text": [
      "name\n",
      "age\n",
      "nationality\n",
      "hobby\n",
      "Salary\n"
     ]
    }
   ],
   "source": [
    "for k,v in user_info.items():\n",
    "    print(k)"
   ]
  },
  {
   "cell_type": "code",
   "execution_count": 91,
   "id": "4ae08618-86ff-4495-b809-cd1f05cf2dab",
   "metadata": {},
   "outputs": [
    {
     "name": "stdout",
     "output_type": "stream",
     "text": [
      "Narwal\n",
      "24\n",
      "INDIAN\n",
      "Singing\n",
      "5000000\n"
     ]
    }
   ],
   "source": [
    "for k,v in user_info.items():\n",
    "    print(user_info[k])"
   ]
  },
  {
   "cell_type": "code",
   "execution_count": 93,
   "id": "89cb7f73-c134-43b0-bea4-9960e244ed92",
   "metadata": {},
   "outputs": [
    {
     "name": "stdout",
     "output_type": "stream",
     "text": [
      "name - Narwal\n",
      "age - 24\n",
      "nationality - INDIAN\n",
      "hobby - Singing\n",
      "Salary - 5000000\n"
     ]
    }
   ],
   "source": [
    "for k,v in user_info.items():\n",
    "    print(k , \"-\" , v)"
   ]
  },
  {
   "cell_type": "code",
   "execution_count": null,
   "id": "4c2a1f1f-c4d6-48d6-9a15-69eb8d54c8eb",
   "metadata": {},
   "outputs": [],
   "source": []
  },
  {
   "cell_type": "code",
   "execution_count": 98,
   "id": "eb58ddc5-9d21-4f54-99cf-bc4d8e45520d",
   "metadata": {},
   "outputs": [],
   "source": [
    "#nested dictionary :"
   ]
  },
  {
   "cell_type": "code",
   "execution_count": 5,
   "id": "cad7410e-5553-4e93-ab0c-543d026f8815",
   "metadata": {},
   "outputs": [],
   "source": [
    "canteen_menu = {\n",
    "    \"Breakfast\": {\n",
    "        \"Idli\": {\"Sambar\", \"Coconut Chutney\"},\n",
    "        \"Aloo Paratha\": { \"With\" ,\"Curd\", \"Pickle\"},\n",
    "    },\n",
    "    \"Lunch\": {\n",
    "        \"Vegetarian Thali\": { \"Items\" \"Rice\", \"Dal\", \"2 Sabzis\", \"Roti\"},\n",
    "        \"Chicken Curry Meal\": { \"Items\" \"Chicken Curry\", \"Rice\", \"Roti\"},\n",
    "    },\n",
    "    \"Snacks\": {\"Samosa\" , \"Pani Puri\"},\n",
    "    }"
   ]
  },
  {
   "cell_type": "markdown",
   "id": "a13bc76d-a3d1-417c-a309-1999ddff542d",
   "metadata": {},
   "source": [
    "# functions \n",
    "* it avoids repeataion - it provide reuseability\n",
    "* with the help of functions we csn write modular coding\n"
   ]
  },
  {
   "cell_type": "code",
   "execution_count": 4,
   "id": "2dfc41de-bd44-4674-81c7-02d1bfa2a8f3",
   "metadata": {},
   "outputs": [],
   "source": [
    "def greeting(name):\n",
    "    print(\"hello good morning\", name)"
   ]
  },
  {
   "cell_type": "code",
   "execution_count": 6,
   "id": "9e51ccf5-c88b-4423-bc44-aa2db3d4858b",
   "metadata": {},
   "outputs": [
    {
     "name": "stdout",
     "output_type": "stream",
     "text": [
      "hello good morning Jatt\n"
     ]
    }
   ],
   "source": [
    "greeting(\"Jatt\")"
   ]
  },
  {
   "cell_type": "code",
   "execution_count": 8,
   "id": "ae656fa7-3c8e-40ba-ac2c-60138a8aa97b",
   "metadata": {},
   "outputs": [],
   "source": [
    "#calling a function / invoking the function\n"
   ]
  },
  {
   "cell_type": "code",
   "execution_count": 10,
   "id": "77b0f536-be37-47c7-a233-cf649660eec0",
   "metadata": {},
   "outputs": [
    {
     "name": "stdout",
     "output_type": "stream",
     "text": [
      "hello good morning NARWAL\n"
     ]
    }
   ],
   "source": [
    "greeting(\"NARWAL\")"
   ]
  },
  {
   "cell_type": "code",
   "execution_count": 12,
   "id": "9e37b9b0-213b-4ebb-b96b-9a9965ba3beb",
   "metadata": {},
   "outputs": [
    {
     "data": {
      "text/plain": [
       "function"
      ]
     },
     "execution_count": 12,
     "metadata": {},
     "output_type": "execute_result"
    }
   ],
   "source": [
    "type(greeting)"
   ]
  },
  {
   "cell_type": "code",
   "execution_count": 14,
   "id": "84cc62b6-8b41-4eaf-9f79-feeb25734ea2",
   "metadata": {},
   "outputs": [],
   "source": [
    "def greeting(name):\n",
    "    \"\"\"this function will be greeting you\"\"\"\n",
    "    print(\"hello good morning\", name)"
   ]
  },
  {
   "cell_type": "code",
   "execution_count": 16,
   "id": "4fc15142-be9a-4f33-a6dd-d25654611bc3",
   "metadata": {},
   "outputs": [
    {
     "name": "stdout",
     "output_type": "stream",
     "text": [
      "hello good morning Jaskaran\n"
     ]
    }
   ],
   "source": [
    "greeting(\"Jaskaran\")"
   ]
  },
  {
   "cell_type": "code",
   "execution_count": 18,
   "id": "880f651c-3e89-43de-8846-7ee3368446b7",
   "metadata": {},
   "outputs": [],
   "source": [
    "#print vs return"
   ]
  },
  {
   "cell_type": "code",
   "execution_count": 20,
   "id": "37d0659b-d2a6-4c2d-88aa-535017dc634d",
   "metadata": {},
   "outputs": [],
   "source": [
    "def add(q):\n",
    "    return q+1"
   ]
  },
  {
   "cell_type": "code",
   "execution_count": 22,
   "id": "ea1b4a09-192c-40c6-8011-b82637c37886",
   "metadata": {},
   "outputs": [
    {
     "data": {
      "text/plain": [
       "33"
      ]
     },
     "execution_count": 22,
     "metadata": {},
     "output_type": "execute_result"
    }
   ],
   "source": [
    "add(32)"
   ]
  },
  {
   "cell_type": "code",
   "execution_count": 24,
   "id": "1d7fa2b1-1012-4604-b80e-a6ae8e610b3c",
   "metadata": {},
   "outputs": [
    {
     "data": {
      "text/plain": [
       "14"
      ]
     },
     "execution_count": 24,
     "metadata": {},
     "output_type": "execute_result"
    }
   ],
   "source": [
    "add(13)"
   ]
  },
  {
   "cell_type": "code",
   "execution_count": 26,
   "id": "464f9012-5d1a-4057-8b7a-655363cfc940",
   "metadata": {},
   "outputs": [
    {
     "name": "stdout",
     "output_type": "stream",
     "text": [
      "hello good morning sam\n"
     ]
    }
   ],
   "source": [
    "h = greeting(\"sam\")"
   ]
  },
  {
   "cell_type": "code",
   "execution_count": 28,
   "id": "b228872c-54cb-4ffc-9b0f-8f7140cacf98",
   "metadata": {},
   "outputs": [],
   "source": [
    "h"
   ]
  },
  {
   "cell_type": "code",
   "execution_count": 30,
   "id": "379e8122-27f0-4fbd-8470-ea9bb35c7314",
   "metadata": {},
   "outputs": [],
   "source": [
    "k = add(15)"
   ]
  },
  {
   "cell_type": "code",
   "execution_count": 32,
   "id": "dbde311a-5073-46b5-b02b-7faba0b8aa22",
   "metadata": {},
   "outputs": [
    {
     "data": {
      "text/plain": [
       "16"
      ]
     },
     "execution_count": 32,
     "metadata": {},
     "output_type": "execute_result"
    }
   ],
   "source": [
    "k"
   ]
  },
  {
   "cell_type": "code",
   "execution_count": 34,
   "id": "a01e6970-a95e-4ecd-bd35-f8aaf6bc5b0e",
   "metadata": {},
   "outputs": [],
   "source": [
    "def circle_area(radius):\n",
    "    \"\"\"it will be provide area of circle\"\"\"\n",
    "    g = 3.14*radius*radius\n",
    "    return g"
   ]
  },
  {
   "cell_type": "code",
   "execution_count": 36,
   "id": "0d0f0efb-8d31-44cc-87ae-36f86cd41282",
   "metadata": {},
   "outputs": [
    {
     "data": {
      "text/plain": [
       "3419.46"
      ]
     },
     "execution_count": 36,
     "metadata": {},
     "output_type": "execute_result"
    }
   ],
   "source": [
    "circle_area(33)"
   ]
  },
  {
   "cell_type": "code",
   "execution_count": 38,
   "id": "9fac24ab-096d-4955-8c5d-4ad816427d7a",
   "metadata": {},
   "outputs": [
    {
     "data": {
      "text/plain": [
       "18617.06"
      ]
     },
     "execution_count": 38,
     "metadata": {},
     "output_type": "execute_result"
    }
   ],
   "source": [
    "circle_area(77)"
   ]
  },
  {
   "cell_type": "code",
   "execution_count": 40,
   "id": "52f4e4cb-93a2-495e-9908-5c1fcb88d6d9",
   "metadata": {},
   "outputs": [],
   "source": [
    "def simple_interest(p ,q, r):\n",
    "    r = (p*q*r)/100\n",
    "    return r"
   ]
  },
  {
   "cell_type": "code",
   "execution_count": 44,
   "id": "488796dd-7ca6-4e95-a268-efa9fb75afd8",
   "metadata": {},
   "outputs": [
    {
     "data": {
      "text/plain": [
       "13200.0"
      ]
     },
     "execution_count": 44,
     "metadata": {},
     "output_type": "execute_result"
    }
   ],
   "source": [
    "simple_interest(10000 ,11,12)"
   ]
  },
  {
   "cell_type": "code",
   "execution_count": 46,
   "id": "ed9afc95-c7ed-4964-9da9-79b7417cbefe",
   "metadata": {},
   "outputs": [],
   "source": [
    "def simple_interest():\n",
    "    principle = float(input(\"enter your principle amount:\"))\n",
    "    rate = int(input(\"enter your rate:\"))\n",
    "    time = int(input(\"enter your time period:\"))\n",
    "    total = (principle * rate * time)\n",
    "    return f\"you have to pay a total interest of {total/100}\""
   ]
  },
  {
   "cell_type": "code",
   "execution_count": 48,
   "id": "0263ad56-83e1-4ec7-9817-48cfb50fdc97",
   "metadata": {},
   "outputs": [
    {
     "name": "stdin",
     "output_type": "stream",
     "text": [
      "enter your principle amount: 450000\n",
      "enter your rate: 10\n",
      "enter your time period: 18\n"
     ]
    },
    {
     "data": {
      "text/plain": [
       "'you have to pay a total interest of 810000.0'"
      ]
     },
     "execution_count": 48,
     "metadata": {},
     "output_type": "execute_result"
    }
   ],
   "source": [
    "simple_interest()"
   ]
  },
  {
   "cell_type": "code",
   "execution_count": 50,
   "id": "48216612-0c0a-4eef-9bf9-ed97e1efdf32",
   "metadata": {},
   "outputs": [],
   "source": [
    "y =[11,12,13,14,15]"
   ]
  },
  {
   "cell_type": "code",
   "execution_count": 58,
   "id": "9fa2afa9-b353-4360-848f-f94da2d89ab1",
   "metadata": {},
   "outputs": [
    {
     "data": {
      "text/plain": [
       "[11, 12, 13, 14, 15]"
      ]
     },
     "execution_count": 58,
     "metadata": {},
     "output_type": "execute_result"
    }
   ],
   "source": [
    "y"
   ]
  },
  {
   "cell_type": "code",
   "execution_count": 65,
   "id": "55aa883c-c625-4307-be29-4a08698228f8",
   "metadata": {},
   "outputs": [],
   "source": [
    "def product(k):\n",
    "    \"\"\"it will be calculating product of all elements\"\"\"\n",
    "    res = 1\n",
    "    for i in k:\n",
    "        res*=i\n",
    "    return res"
   ]
  },
  {
   "cell_type": "code",
   "execution_count": 67,
   "id": "47cf0196-44e9-4841-adf1-57f2183314f5",
   "metadata": {},
   "outputs": [
    {
     "data": {
      "text/plain": [
       "360360"
      ]
     },
     "execution_count": 67,
     "metadata": {},
     "output_type": "execute_result"
    }
   ],
   "source": [
    "product(y)"
   ]
  },
  {
   "cell_type": "code",
   "execution_count": 69,
   "id": "f99a0a27-06af-4f62-aa50-a7f7df657e29",
   "metadata": {},
   "outputs": [],
   "source": [
    "#write a funcyion which can accept a string and will return number of characters after removing white space"
   ]
  },
  {
   "cell_type": "code",
   "execution_count": null,
   "id": "bb12e49e-38c4-41ef-b079-f48a6999fa7f",
   "metadata": {},
   "outputs": [],
   "source": []
  }
 ],
 "metadata": {
  "kernelspec": {
   "display_name": "Python 3 (ipykernel)",
   "language": "python",
   "name": "python3"
  },
  "language_info": {
   "codemirror_mode": {
    "name": "ipython",
    "version": 3
   },
   "file_extension": ".py",
   "mimetype": "text/x-python",
   "name": "python",
   "nbconvert_exporter": "python",
   "pygments_lexer": "ipython3",
   "version": "3.12.4"
  }
 },
 "nbformat": 4,
 "nbformat_minor": 5
}
